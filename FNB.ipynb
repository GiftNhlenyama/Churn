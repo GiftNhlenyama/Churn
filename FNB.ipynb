{
 "cells": [
  {
   "cell_type": "code",
   "execution_count": 1,
   "metadata": {},
   "outputs": [],
   "source": [
    "# Packages for data processing\n",
    "import numpy as np\n",
    "import pandas as pd\n",
    "\n",
    "import matplotlib.pyplot as plt\n",
    "\n",
    "import seaborn as sns \n",
    "sns.set()\n",
    "from sklearn.preprocessing import MinMaxScaler \n",
    "from sklearn.model_selection import train_test_split\n",
    "#from lazypredict.Supervised import LazyRegressor\n",
    "import plotly.express as px\n",
    "import plotly.graph_objects as go\n",
    "from sklearn.ensemble import RandomForestRegressor\n",
    "from sklearn.metrics import r2_score, mean_squared_error, accuracy_score, mean_absolute_error, mean_squared_error\n",
    "\n",
    "from sklearn.metrics import precision_score, recall_score, accuracy_score, f1_score, roc_curve, auc, confusion_matrix\n",
    "\n",
    "from sklearn.linear_model import LogisticRegression"
   ]
  },
  {
   "cell_type": "code",
   "execution_count": 2,
   "metadata": {},
   "outputs": [],
   "source": [
    "df = pd.read_csv('CS - Customer_churn.txt')"
   ]
  },
  {
   "cell_type": "code",
   "execution_count": 3,
   "metadata": {},
   "outputs": [
    {
     "data": {
      "text/html": [
       "<div>\n",
       "<style scoped>\n",
       "    .dataframe tbody tr th:only-of-type {\n",
       "        vertical-align: middle;\n",
       "    }\n",
       "\n",
       "    .dataframe tbody tr th {\n",
       "        vertical-align: top;\n",
       "    }\n",
       "\n",
       "    .dataframe thead th {\n",
       "        text-align: right;\n",
       "    }\n",
       "</style>\n",
       "<table border=\"1\" class=\"dataframe\">\n",
       "  <thead>\n",
       "    <tr style=\"text-align: right;\">\n",
       "      <th></th>\n",
       "      <th>customerID</th>\n",
       "      <th>gender</th>\n",
       "      <th>SeniorCitizen</th>\n",
       "      <th>Partner</th>\n",
       "      <th>Dependents</th>\n",
       "      <th>tenure</th>\n",
       "      <th>PhoneService</th>\n",
       "      <th>MultipleLines</th>\n",
       "      <th>InternetService</th>\n",
       "      <th>OnlineSecurity</th>\n",
       "      <th>OnlineBackup</th>\n",
       "      <th>DeviceProtection</th>\n",
       "      <th>TechSupport</th>\n",
       "      <th>StreamingTV</th>\n",
       "      <th>StreamingMovies</th>\n",
       "      <th>Contract</th>\n",
       "      <th>PaperlessBilling</th>\n",
       "      <th>PaymentMethod</th>\n",
       "      <th>MonthlyCharges</th>\n",
       "      <th>TotalCharges</th>\n",
       "      <th>Churn</th>\n",
       "    </tr>\n",
       "  </thead>\n",
       "  <tbody>\n",
       "    <tr>\n",
       "      <th>0</th>\n",
       "      <td>7590-VHVEG</td>\n",
       "      <td>Female</td>\n",
       "      <td>0</td>\n",
       "      <td>Yes</td>\n",
       "      <td>No</td>\n",
       "      <td>1</td>\n",
       "      <td>No</td>\n",
       "      <td>No phone service</td>\n",
       "      <td>DSL</td>\n",
       "      <td>No</td>\n",
       "      <td>Yes</td>\n",
       "      <td>No</td>\n",
       "      <td>No</td>\n",
       "      <td>No</td>\n",
       "      <td>No</td>\n",
       "      <td>Month-to-month</td>\n",
       "      <td>Yes</td>\n",
       "      <td>Electronic check</td>\n",
       "      <td>29.85</td>\n",
       "      <td>29.85</td>\n",
       "      <td>No</td>\n",
       "    </tr>\n",
       "    <tr>\n",
       "      <th>1</th>\n",
       "      <td>5575-GNVDE</td>\n",
       "      <td>Male</td>\n",
       "      <td>0</td>\n",
       "      <td>No</td>\n",
       "      <td>No</td>\n",
       "      <td>34</td>\n",
       "      <td>Yes</td>\n",
       "      <td>No</td>\n",
       "      <td>DSL</td>\n",
       "      <td>Yes</td>\n",
       "      <td>No</td>\n",
       "      <td>Yes</td>\n",
       "      <td>No</td>\n",
       "      <td>No</td>\n",
       "      <td>No</td>\n",
       "      <td>One year</td>\n",
       "      <td>No</td>\n",
       "      <td>Mailed check</td>\n",
       "      <td>56.95</td>\n",
       "      <td>1889.5</td>\n",
       "      <td>No</td>\n",
       "    </tr>\n",
       "    <tr>\n",
       "      <th>2</th>\n",
       "      <td>3668-QPYBK</td>\n",
       "      <td>Male</td>\n",
       "      <td>0</td>\n",
       "      <td>No</td>\n",
       "      <td>No</td>\n",
       "      <td>2</td>\n",
       "      <td>Yes</td>\n",
       "      <td>No</td>\n",
       "      <td>DSL</td>\n",
       "      <td>Yes</td>\n",
       "      <td>Yes</td>\n",
       "      <td>No</td>\n",
       "      <td>No</td>\n",
       "      <td>No</td>\n",
       "      <td>No</td>\n",
       "      <td>Month-to-month</td>\n",
       "      <td>Yes</td>\n",
       "      <td>Mailed check</td>\n",
       "      <td>53.85</td>\n",
       "      <td>108.15</td>\n",
       "      <td>Yes</td>\n",
       "    </tr>\n",
       "    <tr>\n",
       "      <th>3</th>\n",
       "      <td>7795-CFOCW</td>\n",
       "      <td>Male</td>\n",
       "      <td>0</td>\n",
       "      <td>No</td>\n",
       "      <td>No</td>\n",
       "      <td>45</td>\n",
       "      <td>No</td>\n",
       "      <td>No phone service</td>\n",
       "      <td>DSL</td>\n",
       "      <td>Yes</td>\n",
       "      <td>No</td>\n",
       "      <td>Yes</td>\n",
       "      <td>Yes</td>\n",
       "      <td>No</td>\n",
       "      <td>No</td>\n",
       "      <td>One year</td>\n",
       "      <td>No</td>\n",
       "      <td>Bank transfer (automatic)</td>\n",
       "      <td>42.30</td>\n",
       "      <td>1840.75</td>\n",
       "      <td>No</td>\n",
       "    </tr>\n",
       "    <tr>\n",
       "      <th>4</th>\n",
       "      <td>9237-HQITU</td>\n",
       "      <td>Female</td>\n",
       "      <td>0</td>\n",
       "      <td>No</td>\n",
       "      <td>No</td>\n",
       "      <td>2</td>\n",
       "      <td>Yes</td>\n",
       "      <td>No</td>\n",
       "      <td>Fiber optic</td>\n",
       "      <td>No</td>\n",
       "      <td>No</td>\n",
       "      <td>No</td>\n",
       "      <td>No</td>\n",
       "      <td>No</td>\n",
       "      <td>No</td>\n",
       "      <td>Month-to-month</td>\n",
       "      <td>Yes</td>\n",
       "      <td>Electronic check</td>\n",
       "      <td>70.70</td>\n",
       "      <td>151.65</td>\n",
       "      <td>Yes</td>\n",
       "    </tr>\n",
       "  </tbody>\n",
       "</table>\n",
       "</div>"
      ],
      "text/plain": [
       "   customerID  gender  SeniorCitizen Partner Dependents  tenure PhoneService  \\\n",
       "0  7590-VHVEG  Female              0     Yes         No       1           No   \n",
       "1  5575-GNVDE    Male              0      No         No      34          Yes   \n",
       "2  3668-QPYBK    Male              0      No         No       2          Yes   \n",
       "3  7795-CFOCW    Male              0      No         No      45           No   \n",
       "4  9237-HQITU  Female              0      No         No       2          Yes   \n",
       "\n",
       "      MultipleLines InternetService OnlineSecurity OnlineBackup  \\\n",
       "0  No phone service             DSL             No          Yes   \n",
       "1                No             DSL            Yes           No   \n",
       "2                No             DSL            Yes          Yes   \n",
       "3  No phone service             DSL            Yes           No   \n",
       "4                No     Fiber optic             No           No   \n",
       "\n",
       "  DeviceProtection TechSupport StreamingTV StreamingMovies        Contract  \\\n",
       "0               No          No          No              No  Month-to-month   \n",
       "1              Yes          No          No              No        One year   \n",
       "2               No          No          No              No  Month-to-month   \n",
       "3              Yes         Yes          No              No        One year   \n",
       "4               No          No          No              No  Month-to-month   \n",
       "\n",
       "  PaperlessBilling              PaymentMethod  MonthlyCharges TotalCharges  \\\n",
       "0              Yes           Electronic check           29.85        29.85   \n",
       "1               No               Mailed check           56.95       1889.5   \n",
       "2              Yes               Mailed check           53.85       108.15   \n",
       "3               No  Bank transfer (automatic)           42.30      1840.75   \n",
       "4              Yes           Electronic check           70.70       151.65   \n",
       "\n",
       "  Churn  \n",
       "0    No  \n",
       "1    No  \n",
       "2   Yes  \n",
       "3    No  \n",
       "4   Yes  "
      ]
     },
     "execution_count": 3,
     "metadata": {},
     "output_type": "execute_result"
    }
   ],
   "source": [
    "pd.set_option('display.max_columns', None)\n",
    "df.head()"
   ]
  },
  {
   "cell_type": "code",
   "execution_count": 4,
   "metadata": {},
   "outputs": [
    {
     "data": {
      "text/plain": [
       "(7043, 21)"
      ]
     },
     "execution_count": 4,
     "metadata": {},
     "output_type": "execute_result"
    }
   ],
   "source": [
    "df.shape #shape of the data "
   ]
  },
  {
   "cell_type": "code",
   "execution_count": 5,
   "metadata": {},
   "outputs": [
    {
     "data": {
      "text/plain": [
       "customerID          7043\n",
       "gender                 2\n",
       "SeniorCitizen          2\n",
       "Partner                2\n",
       "Dependents             2\n",
       "tenure                73\n",
       "PhoneService           2\n",
       "MultipleLines          3\n",
       "InternetService        3\n",
       "OnlineSecurity         3\n",
       "OnlineBackup           3\n",
       "DeviceProtection       3\n",
       "TechSupport            3\n",
       "StreamingTV            3\n",
       "StreamingMovies        3\n",
       "Contract               3\n",
       "PaperlessBilling       2\n",
       "PaymentMethod          4\n",
       "MonthlyCharges      1585\n",
       "TotalCharges        6531\n",
       "Churn                  2\n",
       "dtype: int64"
      ]
     },
     "execution_count": 5,
     "metadata": {},
     "output_type": "execute_result"
    }
   ],
   "source": [
    "df.nunique() #unique values"
   ]
  },
  {
   "cell_type": "code",
   "execution_count": 6,
   "metadata": {},
   "outputs": [
    {
     "data": {
      "text/html": [
       "<div>\n",
       "<style scoped>\n",
       "    .dataframe tbody tr th:only-of-type {\n",
       "        vertical-align: middle;\n",
       "    }\n",
       "\n",
       "    .dataframe tbody tr th {\n",
       "        vertical-align: top;\n",
       "    }\n",
       "\n",
       "    .dataframe thead th {\n",
       "        text-align: right;\n",
       "    }\n",
       "</style>\n",
       "<table border=\"1\" class=\"dataframe\">\n",
       "  <thead>\n",
       "    <tr style=\"text-align: right;\">\n",
       "      <th></th>\n",
       "      <th>columns</th>\n",
       "    </tr>\n",
       "  </thead>\n",
       "  <tbody>\n",
       "    <tr>\n",
       "      <th>customerID</th>\n",
       "      <td>0</td>\n",
       "    </tr>\n",
       "    <tr>\n",
       "      <th>gender</th>\n",
       "      <td>0</td>\n",
       "    </tr>\n",
       "    <tr>\n",
       "      <th>SeniorCitizen</th>\n",
       "      <td>0</td>\n",
       "    </tr>\n",
       "    <tr>\n",
       "      <th>Partner</th>\n",
       "      <td>0</td>\n",
       "    </tr>\n",
       "    <tr>\n",
       "      <th>Dependents</th>\n",
       "      <td>0</td>\n",
       "    </tr>\n",
       "    <tr>\n",
       "      <th>tenure</th>\n",
       "      <td>0</td>\n",
       "    </tr>\n",
       "    <tr>\n",
       "      <th>PhoneService</th>\n",
       "      <td>0</td>\n",
       "    </tr>\n",
       "    <tr>\n",
       "      <th>MultipleLines</th>\n",
       "      <td>0</td>\n",
       "    </tr>\n",
       "    <tr>\n",
       "      <th>InternetService</th>\n",
       "      <td>0</td>\n",
       "    </tr>\n",
       "    <tr>\n",
       "      <th>OnlineSecurity</th>\n",
       "      <td>0</td>\n",
       "    </tr>\n",
       "    <tr>\n",
       "      <th>OnlineBackup</th>\n",
       "      <td>0</td>\n",
       "    </tr>\n",
       "    <tr>\n",
       "      <th>DeviceProtection</th>\n",
       "      <td>0</td>\n",
       "    </tr>\n",
       "    <tr>\n",
       "      <th>TechSupport</th>\n",
       "      <td>0</td>\n",
       "    </tr>\n",
       "    <tr>\n",
       "      <th>StreamingTV</th>\n",
       "      <td>0</td>\n",
       "    </tr>\n",
       "    <tr>\n",
       "      <th>StreamingMovies</th>\n",
       "      <td>0</td>\n",
       "    </tr>\n",
       "    <tr>\n",
       "      <th>Contract</th>\n",
       "      <td>0</td>\n",
       "    </tr>\n",
       "    <tr>\n",
       "      <th>PaperlessBilling</th>\n",
       "      <td>0</td>\n",
       "    </tr>\n",
       "    <tr>\n",
       "      <th>PaymentMethod</th>\n",
       "      <td>0</td>\n",
       "    </tr>\n",
       "    <tr>\n",
       "      <th>MonthlyCharges</th>\n",
       "      <td>0</td>\n",
       "    </tr>\n",
       "    <tr>\n",
       "      <th>TotalCharges</th>\n",
       "      <td>0</td>\n",
       "    </tr>\n",
       "    <tr>\n",
       "      <th>Churn</th>\n",
       "      <td>0</td>\n",
       "    </tr>\n",
       "  </tbody>\n",
       "</table>\n",
       "</div>"
      ],
      "text/plain": [
       "                  columns\n",
       "customerID              0\n",
       "gender                  0\n",
       "SeniorCitizen           0\n",
       "Partner                 0\n",
       "Dependents              0\n",
       "tenure                  0\n",
       "PhoneService            0\n",
       "MultipleLines           0\n",
       "InternetService         0\n",
       "OnlineSecurity          0\n",
       "OnlineBackup            0\n",
       "DeviceProtection        0\n",
       "TechSupport             0\n",
       "StreamingTV             0\n",
       "StreamingMovies         0\n",
       "Contract                0\n",
       "PaperlessBilling        0\n",
       "PaymentMethod           0\n",
       "MonthlyCharges          0\n",
       "TotalCharges            0\n",
       "Churn                   0"
      ]
     },
     "execution_count": 6,
     "metadata": {},
     "output_type": "execute_result"
    }
   ],
   "source": [
    "pd.DataFrame({\"columns\":df.isnull().sum()}) # checking null values"
   ]
  },
  {
   "cell_type": "code",
   "execution_count": 7,
   "metadata": {},
   "outputs": [
    {
     "data": {
      "text/plain": [
       "Male      3555\n",
       "Female    3488\n",
       "Name: gender, dtype: int64"
      ]
     },
     "execution_count": 7,
     "metadata": {},
     "output_type": "execute_result"
    }
   ],
   "source": [
    "df['gender'].value_counts()"
   ]
  },
  {
   "cell_type": "code",
   "execution_count": 8,
   "metadata": {},
   "outputs": [
    {
     "data": {
      "text/plain": [
       "gender  Churn\n",
       "Male    No       2625\n",
       "Female  No       2549\n",
       "        Yes       939\n",
       "Male    Yes       930\n",
       "dtype: int64"
      ]
     },
     "execution_count": 8,
     "metadata": {},
     "output_type": "execute_result"
    }
   ],
   "source": [
    "df[['gender','Churn']].value_counts()\n"
   ]
  },
  {
   "cell_type": "code",
   "execution_count": 9,
   "metadata": {},
   "outputs": [
    {
     "data": {
      "text/plain": [
       "gender  SeniorCitizen\n",
       "Male    0                2981\n",
       "Female  0                2920\n",
       "Male    1                 574\n",
       "Female  1                 568\n",
       "dtype: int64"
      ]
     },
     "execution_count": 9,
     "metadata": {},
     "output_type": "execute_result"
    }
   ],
   "source": [
    "df[['gender','SeniorCitizen']].value_counts()#bulk of our clients are not senior\n"
   ]
  },
  {
   "cell_type": "code",
   "execution_count": 10,
   "metadata": {},
   "outputs": [
    {
     "data": {
      "text/plain": [
       "gender  SeniorCitizen  Churn\n",
       "Male    0              No       2287\n",
       "Female  0              No       2221\n",
       "                       Yes       699\n",
       "Male    0              Yes       694\n",
       "        1              No        338\n",
       "Female  1              No        328\n",
       "                       Yes       240\n",
       "Male    1              Yes       236\n",
       "dtype: int64"
      ]
     },
     "execution_count": 10,
     "metadata": {},
     "output_type": "execute_result"
    }
   ],
   "source": [
    "df[['gender','SeniorCitizen','Churn']].value_counts()\n"
   ]
  },
  {
   "cell_type": "code",
   "execution_count": 11,
   "metadata": {},
   "outputs": [
    {
     "data": {
      "text/plain": [
       "gender  Partner\n",
       "Male    No         1841\n",
       "Female  No         1800\n",
       "Male    Yes        1714\n",
       "Female  Yes        1688\n",
       "dtype: int64"
      ]
     },
     "execution_count": 11,
     "metadata": {},
     "output_type": "execute_result"
    }
   ],
   "source": [
    "df[['gender','Partner']].value_counts() #gender vs partner count\n"
   ]
  },
  {
   "cell_type": "code",
   "execution_count": 12,
   "metadata": {},
   "outputs": [
    {
     "data": {
      "text/plain": [
       "gender  Partner  Churn\n",
       "Female  Yes      No       1369\n",
       "Male    Yes      No       1364\n",
       "        No       No       1261\n",
       "Female  No       No       1180\n",
       "                 Yes       620\n",
       "Male    No       Yes       580\n",
       "        Yes      Yes       350\n",
       "Female  Yes      Yes       319\n",
       "dtype: int64"
      ]
     },
     "execution_count": 12,
     "metadata": {},
     "output_type": "execute_result"
    }
   ],
   "source": [
    "df[['gender','Partner','Churn']].value_counts() #gender vs partner vs churn\n"
   ]
  },
  {
   "cell_type": "code",
   "execution_count": 13,
   "metadata": {},
   "outputs": [
    {
     "data": {
      "text/plain": [
       "gender  SeniorCitizen  Partner  Churn\n",
       "Female  0              Yes      No       1202\n",
       "Male    0              Yes      No       1156\n",
       "                       No       No       1131\n",
       "Female  0              No       No       1019\n",
       "                                Yes       461\n",
       "Male    0              No       Yes       461\n",
       "Female  0              Yes      Yes       238\n",
       "Male    0              Yes      Yes       233\n",
       "        1              Yes      No        208\n",
       "Female  1              Yes      No        167\n",
       "                       No       No        161\n",
       "                                Yes       159\n",
       "Male    1              No       No        130\n",
       "                                Yes       119\n",
       "                       Yes      Yes       117\n",
       "Female  1              Yes      Yes        81\n",
       "dtype: int64"
      ]
     },
     "execution_count": 13,
     "metadata": {},
     "output_type": "execute_result"
    }
   ],
   "source": [
    "df[['gender','SeniorCitizen','Partner','Churn']].value_counts() #gender vs senior citizen vs partner vs churn \n",
    " "
   ]
  },
  {
   "cell_type": "code",
   "execution_count": 14,
   "metadata": {},
   "outputs": [
    {
     "data": {
      "text/plain": [
       "Dependents\n",
       "No            4933\n",
       "Yes           2110\n",
       "dtype: int64"
      ]
     },
     "execution_count": 14,
     "metadata": {},
     "output_type": "execute_result"
    }
   ],
   "source": [
    "df[['Dependents']].value_counts() #dependents count\n"
   ]
  },
  {
   "cell_type": "code",
   "execution_count": 15,
   "metadata": {},
   "outputs": [
    {
     "data": {
      "text/plain": [
       "gender  Dependents\n",
       "Male    No            2473\n",
       "Female  No            2460\n",
       "Male    Yes           1082\n",
       "Female  Yes           1028\n",
       "dtype: int64"
      ]
     },
     "execution_count": 15,
     "metadata": {},
     "output_type": "execute_result"
    }
   ],
   "source": [
    "df[['gender','Dependents']].value_counts() #gender vs dependents \n"
   ]
  },
  {
   "cell_type": "code",
   "execution_count": 16,
   "metadata": {},
   "outputs": [
    {
     "data": {
      "text/plain": [
       "gender  SeniorCitizen  Dependents\n",
       "Male    0              No            1948\n",
       "Female  0              No            1934\n",
       "Male    0              Yes           1033\n",
       "Female  0              Yes            986\n",
       "        1              No             526\n",
       "Male    1              No             525\n",
       "                       Yes             49\n",
       "Female  1              Yes             42\n",
       "dtype: int64"
      ]
     },
     "execution_count": 16,
     "metadata": {},
     "output_type": "execute_result"
    }
   ],
   "source": [
    "df[['gender','SeniorCitizen','Dependents']].value_counts() #gender vs senior citizen vs dependents count\n"
   ]
  },
  {
   "cell_type": "code",
   "execution_count": 17,
   "metadata": {},
   "outputs": [
    {
     "data": {
      "text/plain": [
       "gender  SeniorCitizen  Dependents  Churn\n",
       "Male    0              No          No       1402\n",
       "Female  0              No          No       1391\n",
       "Male    0              Yes         No        885\n",
       "Female  0              Yes         No        830\n",
       "Male    0              No          Yes       546\n",
       "Female  0              No          Yes       543\n",
       "Male    1              No          No        302\n",
       "Female  1              No          No        295\n",
       "                                   Yes       231\n",
       "Male    1              No          Yes       223\n",
       "Female  0              Yes         Yes       156\n",
       "Male    0              Yes         Yes       148\n",
       "        1              Yes         No         36\n",
       "Female  1              Yes         No         33\n",
       "Male    1              Yes         Yes        13\n",
       "Female  1              Yes         Yes         9\n",
       "dtype: int64"
      ]
     },
     "execution_count": 17,
     "metadata": {},
     "output_type": "execute_result"
    }
   ],
   "source": [
    "df[['gender','SeniorCitizen','Dependents','Churn']].value_counts() #gender vs senior citizen vs dependents vs churn count"
   ]
  },
  {
   "cell_type": "code",
   "execution_count": 18,
   "metadata": {},
   "outputs": [
    {
     "data": {
      "text/plain": [
       "PhoneService\n",
       "Yes             6361\n",
       "No               682\n",
       "dtype: int64"
      ]
     },
     "execution_count": 18,
     "metadata": {},
     "output_type": "execute_result"
    }
   ],
   "source": [
    "df[['PhoneService']].value_counts() #phone service count"
   ]
  },
  {
   "cell_type": "code",
   "execution_count": 19,
   "metadata": {},
   "outputs": [
    {
     "data": {
      "text/plain": [
       "gender  PhoneService\n",
       "Male    Yes             3204\n",
       "Female  Yes             3157\n",
       "Male    No               351\n",
       "Female  No               331\n",
       "dtype: int64"
      ]
     },
     "execution_count": 19,
     "metadata": {},
     "output_type": "execute_result"
    }
   ],
   "source": [
    "df[['gender','PhoneService']].value_counts() #gender vs phone service count"
   ]
  },
  {
   "cell_type": "code",
   "execution_count": 20,
   "metadata": {},
   "outputs": [
    {
     "data": {
      "text/plain": [
       "MultipleLines   \n",
       "No                  3390\n",
       "Yes                 2971\n",
       "No phone service     682\n",
       "dtype: int64"
      ]
     },
     "execution_count": 20,
     "metadata": {},
     "output_type": "execute_result"
    }
   ],
   "source": [
    "df[['MultipleLines']].value_counts() #multiple lines count"
   ]
  },
  {
   "cell_type": "code",
   "execution_count": 21,
   "metadata": {},
   "outputs": [
    {
     "data": {
      "text/plain": [
       "gender  MultipleLines   \n",
       "Male    No                  1719\n",
       "Female  No                  1671\n",
       "        Yes                 1486\n",
       "Male    Yes                 1485\n",
       "        No phone service     351\n",
       "Female  No phone service     331\n",
       "dtype: int64"
      ]
     },
     "execution_count": 21,
     "metadata": {},
     "output_type": "execute_result"
    }
   ],
   "source": [
    "df[['gender','MultipleLines']].value_counts() #gender vs multiple lines count"
   ]
  },
  {
   "cell_type": "code",
   "execution_count": 22,
   "metadata": {},
   "outputs": [
    {
     "data": {
      "text/plain": [
       "gender  Partner  MultipleLines   \n",
       "Male    No       No                  1024\n",
       "Female  No       No                   957\n",
       "Male    Yes      Yes                  857\n",
       "Female  Yes      Yes                  825\n",
       "                 No                   714\n",
       "Male    Yes      No                   695\n",
       "Female  No       Yes                  661\n",
       "Male    No       Yes                  628\n",
       "                 No phone service     189\n",
       "Female  No       No phone service     182\n",
       "Male    Yes      No phone service     162\n",
       "Female  Yes      No phone service     149\n",
       "dtype: int64"
      ]
     },
     "execution_count": 22,
     "metadata": {},
     "output_type": "execute_result"
    }
   ],
   "source": [
    "df[['gender','Partner','MultipleLines']].value_counts() #gender vs partner vs multiple lines count"
   ]
  },
  {
   "cell_type": "code",
   "execution_count": 23,
   "metadata": {},
   "outputs": [
    {
     "data": {
      "text/plain": [
       "gender  Partner  MultipleLines     Churn\n",
       "Male    No       No                No       736\n",
       "Female  Yes      Yes               No       657\n",
       "Male    Yes      Yes               No       657\n",
       "Female  No       No                No       636\n",
       "        Yes      No                No       592\n",
       "Male    Yes      No                No       577\n",
       "Female  No       Yes               No       413\n",
       "Male    No       Yes               No       394\n",
       "Female  No       No                Yes      321\n",
       "Male    No       No                Yes      288\n",
       "Female  No       Yes               Yes      248\n",
       "Male    No       Yes               Yes      234\n",
       "        Yes      Yes               Yes      200\n",
       "Female  Yes      Yes               Yes      168\n",
       "        No       No phone service  No       131\n",
       "Male    No       No phone service  No       131\n",
       "        Yes      No phone service  No       130\n",
       "Female  Yes      No                Yes      122\n",
       "                 No phone service  No       120\n",
       "Male    Yes      No                Yes      118\n",
       "        No       No phone service  Yes       58\n",
       "Female  No       No phone service  Yes       51\n",
       "Male    Yes      No phone service  Yes       32\n",
       "Female  Yes      No phone service  Yes       29\n",
       "dtype: int64"
      ]
     },
     "execution_count": 23,
     "metadata": {},
     "output_type": "execute_result"
    }
   ],
   "source": [
    "df[['gender','Partner','MultipleLines','Churn']].value_counts() #gender & partner & multiple lines vs churn count "
   ]
  },
  {
   "cell_type": "code",
   "execution_count": 24,
   "metadata": {},
   "outputs": [
    {
     "data": {
      "text/plain": [
       "InternetService\n",
       "Fiber optic        3096\n",
       "DSL                2421\n",
       "No                 1526\n",
       "dtype: int64"
      ]
     },
     "execution_count": 24,
     "metadata": {},
     "output_type": "execute_result"
    }
   ],
   "source": [
    "df[['InternetService']].value_counts() #internetService count"
   ]
  },
  {
   "cell_type": "code",
   "execution_count": 25,
   "metadata": {},
   "outputs": [
    {
     "data": {
      "text/plain": [
       "InternetService  gender\n",
       "Fiber optic      Female    1553\n",
       "                 Male      1543\n",
       "DSL              Male      1233\n",
       "                 Female    1188\n",
       "No               Male       779\n",
       "                 Female     747\n",
       "dtype: int64"
      ]
     },
     "execution_count": 25,
     "metadata": {},
     "output_type": "execute_result"
    }
   ],
   "source": [
    "df[['InternetService','gender']].value_counts() #internetService vs vs gender count"
   ]
  },
  {
   "cell_type": "code",
   "execution_count": 26,
   "metadata": {},
   "outputs": [
    {
     "data": {
      "text/plain": [
       "OnlineSecurity     \n",
       "No                     3498\n",
       "Yes                    2019\n",
       "No internet service    1526\n",
       "dtype: int64"
      ]
     },
     "execution_count": 26,
     "metadata": {},
     "output_type": "execute_result"
    }
   ],
   "source": [
    "df[['OnlineSecurity']].value_counts() #online security count"
   ]
  },
  {
   "cell_type": "code",
   "execution_count": 27,
   "metadata": {},
   "outputs": [
    {
     "data": {
      "text/plain": [
       "OnlineBackup       \n",
       "No                     3088\n",
       "Yes                    2429\n",
       "No internet service    1526\n",
       "dtype: int64"
      ]
     },
     "execution_count": 27,
     "metadata": {},
     "output_type": "execute_result"
    }
   ],
   "source": [
    "df[['OnlineBackup']].value_counts() #online backup count"
   ]
  },
  {
   "cell_type": "code",
   "execution_count": 28,
   "metadata": {},
   "outputs": [
    {
     "data": {
      "text/plain": [
       "OnlineBackup         gender\n",
       "No                   Male      1573\n",
       "                     Female    1515\n",
       "Yes                  Female    1226\n",
       "                     Male      1203\n",
       "No internet service  Male       779\n",
       "                     Female     747\n",
       "dtype: int64"
      ]
     },
     "execution_count": 28,
     "metadata": {},
     "output_type": "execute_result"
    }
   ],
   "source": [
    "df[['OnlineBackup','gender']].value_counts() #online backup vs gender "
   ]
  },
  {
   "cell_type": "code",
   "execution_count": 29,
   "metadata": {},
   "outputs": [
    {
     "data": {
      "text/plain": [
       "OnlineBackup         gender  Churn\n",
       "Yes                  Female  No       961\n",
       "No                   Male    No       958\n",
       "Yes                  Male    No       945\n",
       "No                   Female  No       897\n",
       "No internet service  Male    No       722\n",
       "                     Female  No       691\n",
       "No                   Female  Yes      618\n",
       "                     Male    Yes      615\n",
       "Yes                  Female  Yes      265\n",
       "                     Male    Yes      258\n",
       "No internet service  Male    Yes       57\n",
       "                     Female  Yes       56\n",
       "dtype: int64"
      ]
     },
     "execution_count": 29,
     "metadata": {},
     "output_type": "execute_result"
    }
   ],
   "source": [
    "df[['OnlineBackup','gender','Churn']].value_counts() #online backup vs gender vs churn count"
   ]
  },
  {
   "cell_type": "code",
   "execution_count": 30,
   "metadata": {},
   "outputs": [
    {
     "data": {
      "text/plain": [
       "DeviceProtection   \n",
       "No                     3095\n",
       "Yes                    2422\n",
       "No internet service    1526\n",
       "dtype: int64"
      ]
     },
     "execution_count": 30,
     "metadata": {},
     "output_type": "execute_result"
    }
   ],
   "source": [
    "df[['DeviceProtection']].value_counts() #device protection count"
   ]
  },
  {
   "cell_type": "code",
   "execution_count": 31,
   "metadata": {},
   "outputs": [
    {
     "data": {
      "text/plain": [
       "DeviceProtection     gender\n",
       "No                   Male      1557\n",
       "                     Female    1538\n",
       "Yes                  Male      1219\n",
       "                     Female    1203\n",
       "No internet service  Male       779\n",
       "                     Female     747\n",
       "dtype: int64"
      ]
     },
     "execution_count": 31,
     "metadata": {},
     "output_type": "execute_result"
    }
   ],
   "source": [
    "df[['DeviceProtection','gender']].value_counts() # device protection vs gender count"
   ]
  },
  {
   "cell_type": "code",
   "execution_count": 32,
   "metadata": {},
   "outputs": [
    {
     "data": {
      "text/plain": [
       "DeviceProtection     gender  Churn\n",
       "No                   Male    No       962\n",
       "Yes                  Male    No       941\n",
       "                     Female  No       936\n",
       "No                   Female  No       922\n",
       "No internet service  Male    No       722\n",
       "                     Female  No       691\n",
       "No                   Female  Yes      616\n",
       "                     Male    Yes      595\n",
       "Yes                  Male    Yes      278\n",
       "                     Female  Yes      267\n",
       "No internet service  Male    Yes       57\n",
       "                     Female  Yes       56\n",
       "dtype: int64"
      ]
     },
     "execution_count": 32,
     "metadata": {},
     "output_type": "execute_result"
    }
   ],
   "source": [
    "df[['DeviceProtection','gender','Churn']].value_counts() #device protection vs gender vs churn count"
   ]
  },
  {
   "cell_type": "code",
   "execution_count": 33,
   "metadata": {},
   "outputs": [
    {
     "data": {
      "text/plain": [
       "TechSupport        \n",
       "No                     3473\n",
       "Yes                    2044\n",
       "No internet service    1526\n",
       "dtype: int64"
      ]
     },
     "execution_count": 33,
     "metadata": {},
     "output_type": "execute_result"
    }
   ],
   "source": [
    "df[['TechSupport']].value_counts() # techSupport count"
   ]
  },
  {
   "cell_type": "code",
   "execution_count": 34,
   "metadata": {},
   "outputs": [
    {
     "data": {
      "text/plain": [
       "TechSupport          gender\n",
       "No                   Male      1759\n",
       "                     Female    1714\n",
       "Yes                  Female    1027\n",
       "                     Male      1017\n",
       "No internet service  Male       779\n",
       "                     Female     747\n",
       "dtype: int64"
      ]
     },
     "execution_count": 34,
     "metadata": {},
     "output_type": "execute_result"
    }
   ],
   "source": [
    "df[['TechSupport','gender']].value_counts() #techsupport vs gender "
   ]
  },
  {
   "cell_type": "code",
   "execution_count": 35,
   "metadata": {},
   "outputs": [
    {
     "data": {
      "text/plain": [
       "TechSupport          gender  Churn\n",
       "No                   Male    No       1031\n",
       "                     Female  No        996\n",
       "Yes                  Male    No        872\n",
       "                     Female  No        862\n",
       "No                   Male    Yes       728\n",
       "No internet service  Male    No        722\n",
       "No                   Female  Yes       718\n",
       "No internet service  Female  No        691\n",
       "Yes                  Female  Yes       165\n",
       "                     Male    Yes       145\n",
       "No internet service  Male    Yes        57\n",
       "                     Female  Yes        56\n",
       "dtype: int64"
      ]
     },
     "execution_count": 35,
     "metadata": {},
     "output_type": "execute_result"
    }
   ],
   "source": [
    "df[['TechSupport','gender','Churn']].value_counts() #techsupport vs gender vs churn count"
   ]
  },
  {
   "cell_type": "code",
   "execution_count": 36,
   "metadata": {},
   "outputs": [
    {
     "data": {
      "text/plain": [
       "StreamingTV        \n",
       "No                     2810\n",
       "Yes                    2707\n",
       "No internet service    1526\n",
       "dtype: int64"
      ]
     },
     "execution_count": 36,
     "metadata": {},
     "output_type": "execute_result"
    }
   ],
   "source": [
    "df[['StreamingTV']].value_counts() #Streaming TV count"
   ]
  },
  {
   "cell_type": "code",
   "execution_count": 37,
   "metadata": {},
   "outputs": [
    {
     "data": {
      "text/plain": [
       "StreamingTV          gender\n",
       "No                   Male      1424\n",
       "                     Female    1386\n",
       "Yes                  Female    1355\n",
       "                     Male      1352\n",
       "No internet service  Male       779\n",
       "                     Female     747\n",
       "dtype: int64"
      ]
     },
     "execution_count": 37,
     "metadata": {},
     "output_type": "execute_result"
    }
   ],
   "source": [
    "df[['StreamingTV','gender']].value_counts() #StreamingTV vs gender count\n"
   ]
  },
  {
   "cell_type": "code",
   "execution_count": 38,
   "metadata": {},
   "outputs": [
    {
     "data": {
      "text/plain": [
       "StreamingTV          Churn\n",
       "Yes                  No       1893\n",
       "No                   No       1868\n",
       "No internet service  No       1413\n",
       "No                   Yes       942\n",
       "Yes                  Yes       814\n",
       "No internet service  Yes       113\n",
       "dtype: int64"
      ]
     },
     "execution_count": 38,
     "metadata": {},
     "output_type": "execute_result"
    }
   ],
   "source": [
    "df[['StreamingTV','Churn']].value_counts() #Streaming TV vs churn count"
   ]
  },
  {
   "cell_type": "code",
   "execution_count": 39,
   "metadata": {},
   "outputs": [
    {
     "data": {
      "text/plain": [
       "StreamingMovies    \n",
       "No                     2785\n",
       "Yes                    2732\n",
       "No internet service    1526\n",
       "dtype: int64"
      ]
     },
     "execution_count": 39,
     "metadata": {},
     "output_type": "execute_result"
    }
   ],
   "source": [
    "df[['StreamingMovies']].value_counts() #StreamingMovies"
   ]
  },
  {
   "cell_type": "code",
   "execution_count": 40,
   "metadata": {},
   "outputs": [
    {
     "data": {
      "text/plain": [
       "StreamingMovies      gender\n",
       "No                   Male      1415\n",
       "Yes                  Female    1371\n",
       "No                   Female    1370\n",
       "Yes                  Male      1361\n",
       "No internet service  Male       779\n",
       "                     Female     747\n",
       "dtype: int64"
      ]
     },
     "execution_count": 40,
     "metadata": {},
     "output_type": "execute_result"
    }
   ],
   "source": [
    "df[['StreamingMovies','gender']].value_counts() #StreamingMovies vs gender"
   ]
  },
  {
   "cell_type": "code",
   "execution_count": 41,
   "metadata": {},
   "outputs": [
    {
     "data": {
      "text/plain": [
       "StreamingMovies      gender  Churn\n",
       "Yes                  Female  No       964\n",
       "No                   Male    No       953\n",
       "Yes                  Male    No       950\n",
       "No                   Female  No       894\n",
       "No internet service  Male    No       722\n",
       "                     Female  No       691\n",
       "No                   Female  Yes      476\n",
       "                     Male    Yes      462\n",
       "Yes                  Male    Yes      411\n",
       "                     Female  Yes      407\n",
       "No internet service  Male    Yes       57\n",
       "                     Female  Yes       56\n",
       "dtype: int64"
      ]
     },
     "execution_count": 41,
     "metadata": {},
     "output_type": "execute_result"
    }
   ],
   "source": [
    "df[['StreamingMovies','gender','Churn']].value_counts() #StreamingMovies vs gender vs churn count"
   ]
  },
  {
   "cell_type": "code",
   "execution_count": 42,
   "metadata": {},
   "outputs": [
    {
     "data": {
      "text/plain": [
       "Contract      \n",
       "Month-to-month    3875\n",
       "Two year          1695\n",
       "One year          1473\n",
       "dtype: int64"
      ]
     },
     "execution_count": 42,
     "metadata": {},
     "output_type": "execute_result"
    }
   ],
   "source": [
    "df[['Contract']].value_counts() #Contract count"
   ]
  },
  {
   "cell_type": "code",
   "execution_count": 43,
   "metadata": {},
   "outputs": [
    {
     "data": {
      "text/plain": [
       "Contract        gender\n",
       "Month-to-month  Male      1950\n",
       "                Female    1925\n",
       "Two year        Male       850\n",
       "                Female     845\n",
       "One year        Male       755\n",
       "                Female     718\n",
       "dtype: int64"
      ]
     },
     "execution_count": 43,
     "metadata": {},
     "output_type": "execute_result"
    }
   ],
   "source": [
    "df[['Contract','gender']].value_counts() #contract vs gender count"
   ]
  },
  {
   "cell_type": "code",
   "execution_count": 44,
   "metadata": {},
   "outputs": [
    {
     "data": {
      "text/plain": [
       "Contract        gender  Churn\n",
       "Month-to-month  Male    No       1137\n",
       "                Female  No       1083\n",
       "                        Yes       842\n",
       "Two year        Male    No        824\n",
       "                Female  No        823\n",
       "Month-to-month  Male    Yes       813\n",
       "One year        Male    No        664\n",
       "                Female  No        643\n",
       "                Male    Yes        91\n",
       "                Female  Yes        75\n",
       "Two year        Male    Yes        26\n",
       "                Female  Yes        22\n",
       "dtype: int64"
      ]
     },
     "execution_count": 44,
     "metadata": {},
     "output_type": "execute_result"
    }
   ],
   "source": [
    "df[['Contract','gender','Churn']].value_counts() #contract vs gender vs churn count"
   ]
  },
  {
   "cell_type": "code",
   "execution_count": 45,
   "metadata": {},
   "outputs": [
    {
     "data": {
      "text/plain": [
       "PaperlessBilling\n",
       "Yes                 4171\n",
       "No                  2872\n",
       "dtype: int64"
      ]
     },
     "execution_count": 45,
     "metadata": {},
     "output_type": "execute_result"
    }
   ],
   "source": [
    "df[['PaperlessBilling']].value_counts() #PaperlessBilling count"
   ]
  },
  {
   "cell_type": "code",
   "execution_count": 46,
   "metadata": {},
   "outputs": [
    {
     "data": {
      "text/plain": [
       "PaperlessBilling  gender\n",
       "Yes               Female    2086\n",
       "                  Male      2085\n",
       "No                Male      1470\n",
       "                  Female    1402\n",
       "dtype: int64"
      ]
     },
     "execution_count": 46,
     "metadata": {},
     "output_type": "execute_result"
    }
   ],
   "source": [
    "df[['PaperlessBilling','gender']].value_counts() #paperlessbillin vs gender count"
   ]
  },
  {
   "cell_type": "code",
   "execution_count": 47,
   "metadata": {},
   "outputs": [
    {
     "data": {
      "text/plain": [
       "PaymentMethod            \n",
       "Electronic check             2365\n",
       "Mailed check                 1612\n",
       "Bank transfer (automatic)    1544\n",
       "Credit card (automatic)      1522\n",
       "dtype: int64"
      ]
     },
     "execution_count": 47,
     "metadata": {},
     "output_type": "execute_result"
    }
   ],
   "source": [
    "df[['PaymentMethod']].value_counts() #PaymentMethod count"
   ]
  },
  {
   "cell_type": "code",
   "execution_count": 48,
   "metadata": {},
   "outputs": [
    {
     "data": {
      "text/plain": [
       "PaymentMethod              gender\n",
       "Electronic check           Male      1195\n",
       "                           Female    1170\n",
       "Mailed check               Male       834\n",
       "Bank transfer (automatic)  Female     788\n",
       "Mailed check               Female     778\n",
       "Credit card (automatic)    Male       770\n",
       "Bank transfer (automatic)  Male       756\n",
       "Credit card (automatic)    Female     752\n",
       "dtype: int64"
      ]
     },
     "execution_count": 48,
     "metadata": {},
     "output_type": "execute_result"
    }
   ],
   "source": [
    "df[['PaymentMethod','gender']].value_counts() #paymentmethod vs gender count"
   ]
  },
  {
   "cell_type": "code",
   "execution_count": 49,
   "metadata": {},
   "outputs": [
    {
     "data": {
      "text/plain": [
       "MonthlyCharges\n",
       "20.05             61\n",
       "19.85             45\n",
       "19.95             44\n",
       "19.90             44\n",
       "19.70             43\n",
       "                  ..\n",
       "67.60              1\n",
       "67.65              1\n",
       "67.70              1\n",
       "67.75              1\n",
       "118.75             1\n",
       "Length: 1585, dtype: int64"
      ]
     },
     "execution_count": 49,
     "metadata": {},
     "output_type": "execute_result"
    }
   ],
   "source": [
    "df[['MonthlyCharges']].value_counts() #monthly charges count"
   ]
  },
  {
   "cell_type": "code",
   "execution_count": 50,
   "metadata": {},
   "outputs": [
    {
     "data": {
      "text/plain": [
       "MonthlyCharges    64.761692\n",
       "dtype: float64"
      ]
     },
     "execution_count": 50,
     "metadata": {},
     "output_type": "execute_result"
    }
   ],
   "source": [
    "df[['MonthlyCharges']].mean() #Monthly charges count"
   ]
  },
  {
   "cell_type": "code",
   "execution_count": 51,
   "metadata": {},
   "outputs": [
    {
     "data": {
      "text/plain": [
       "MonthlyCharges    70.35\n",
       "dtype: float64"
      ]
     },
     "execution_count": 51,
     "metadata": {},
     "output_type": "execute_result"
    }
   ],
   "source": [
    "df[['MonthlyCharges']].median() #monthly charges count"
   ]
  },
  {
   "cell_type": "code",
   "execution_count": 52,
   "metadata": {},
   "outputs": [
    {
     "data": {
      "text/plain": [
       "TotalCharges\n",
       "                11\n",
       "20.2            11\n",
       "19.75            9\n",
       "20.05            8\n",
       "19.9             8\n",
       "                ..\n",
       "260.8            1\n",
       "260.7            1\n",
       "2599.95          1\n",
       "2598.95          1\n",
       "999.9            1\n",
       "Length: 6531, dtype: int64"
      ]
     },
     "execution_count": 52,
     "metadata": {},
     "output_type": "execute_result"
    }
   ],
   "source": [
    "df[['TotalCharges']].value_counts() #total charges count"
   ]
  },
  {
   "cell_type": "code",
   "execution_count": 53,
   "metadata": {},
   "outputs": [
    {
     "data": {
      "text/plain": [
       "0         29.85\n",
       "1        1889.5\n",
       "2        108.15\n",
       "3       1840.75\n",
       "4        151.65\n",
       "         ...   \n",
       "7038     1990.5\n",
       "7039     7362.9\n",
       "7040     346.45\n",
       "7041      306.6\n",
       "7042     6844.5\n",
       "Name: TotalCharges, Length: 7043, dtype: object"
      ]
     },
     "execution_count": 53,
     "metadata": {},
     "output_type": "execute_result"
    }
   ],
   "source": [
    "df['TotalCharges'] #total charges "
   ]
  },
  {
   "cell_type": "code",
   "execution_count": 54,
   "metadata": {},
   "outputs": [
    {
     "data": {
      "application/vnd.plotly.v1+json": {
       "config": {
        "plotlyServerURL": "https://plot.ly"
       },
       "data": [
        {
         "branchvalues": "total",
         "customdata": [
          [
           "No"
          ],
          [
           "Yes"
          ],
          [
           "Yes"
          ],
          [
           "No"
          ],
          [
           "Yes"
          ],
          [
           "Yes"
          ],
          [
           "No"
          ],
          [
           "Yes"
          ],
          [
           "No"
          ],
          [
           "Yes"
          ],
          [
           "No"
          ],
          [
           "Yes"
          ],
          [
           "No"
          ],
          [
           "No"
          ],
          [
           "Yes"
          ],
          [
           "No"
          ],
          [
           "No"
          ],
          [
           "No"
          ],
          [
           "No"
          ],
          [
           "Yes"
          ],
          [
           "No"
          ],
          [
           "Yes"
          ],
          [
           "No"
          ],
          [
           "Yes"
          ],
          [
           "No"
          ],
          [
           "Yes"
          ],
          [
           "No"
          ],
          [
           "No"
          ],
          [
           "No"
          ],
          [
           "Yes"
          ],
          [
           "Yes"
          ],
          [
           "No"
          ],
          [
           "Yes"
          ],
          [
           "No"
          ],
          [
           "Yes"
          ],
          [
           "No"
          ],
          [
           "Yes"
          ],
          [
           "Yes"
          ],
          [
           "No"
          ],
          [
           "Yes"
          ],
          [
           "Yes"
          ],
          [
           "Yes"
          ],
          [
           "Yes"
          ],
          [
           "No"
          ],
          [
           "Yes"
          ],
          [
           "Yes"
          ],
          [
           "No"
          ],
          [
           "Yes"
          ],
          [
           "No"
          ],
          [
           "No"
          ],
          [
           "Yes"
          ],
          [
           "No"
          ],
          [
           "Yes"
          ],
          [
           "Yes"
          ],
          [
           "Yes"
          ],
          [
           "Yes"
          ],
          [
           "No"
          ],
          [
           "No"
          ],
          [
           "Yes"
          ],
          [
           "No"
          ],
          [
           "No"
          ],
          [
           "No"
          ],
          [
           "No"
          ],
          [
           "No"
          ],
          [
           "Yes"
          ],
          [
           "Yes"
          ]
         ],
         "domain": {
          "x": [
           0,
           1
          ],
          "y": [
           0,
           1
          ]
         },
         "hovertemplate": "labels=%{label}<br>Count=%{value}<br>parent=%{parent}<br>id=%{id}<br>Churn=%{customdata[0]}<extra></extra>",
         "ids": [
          "No/Female/Month-to-month/Bank transfer (automatic)",
          "Yes/Male/One year/Electronic check",
          "Yes/Female/Two year/Electronic check",
          "No/Male/Two year/Electronic check",
          "Yes/Male/Two year/Electronic check",
          "Yes/Female/Month-to-month/Mailed check",
          "No/Female/One year/Mailed check",
          "Yes/Female/One year/Mailed check",
          "No/Male/One year/Mailed check",
          "Yes/Male/One year/Mailed check",
          "No/Female/Two year/Mailed check",
          "Yes/Female/Two year/Mailed check",
          "No/Male/Two year/Mailed check",
          "No/Female/Month-to-month",
          "Yes/Female/Month-to-month",
          "No/Male/Month-to-month",
          "No/Female/One year",
          "No/Male/One year",
          "No/Female/Two year",
          "Yes/Female/Two year",
          "No/Male/Two year",
          "Yes/Male/Two year",
          "No/Female",
          "Yes/Female",
          "No/Male",
          "Yes/Male",
          "No/Male/One year/Electronic check",
          "No/Female/One year/Electronic check",
          "No/Female/Two year/Electronic check",
          "Yes",
          "Yes/Male/Two year/Bank transfer (automatic)",
          "No/Female/Month-to-month/Credit card (automatic)",
          "Yes/Female/Two year/Bank transfer (automatic)",
          "No/Male/Month-to-month/Credit card (automatic)",
          "Yes/Male/Month-to-month/Credit card (automatic)",
          "No/Female/One year/Credit card (automatic)",
          "Yes/Female/One year/Credit card (automatic)",
          "Yes/Male/One year/Credit card (automatic)",
          "No/Male/One year/Bank transfer (automatic)",
          "Yes/Male/One year/Bank transfer (automatic)",
          "Yes/Female/Two year/Credit card (automatic)",
          "Yes/Male/Month-to-month/Bank transfer (automatic)",
          "Yes/Male/Two year/Credit card (automatic)",
          "No/Female/Month-to-month/Electronic check",
          "Yes/Female/Month-to-month/Electronic check",
          "Yes/Female/Month-to-month/Bank transfer (automatic)",
          "No/Male/Two year/Bank transfer (automatic)",
          "Yes/Female/One year",
          "No/Female/Two year/Bank transfer (automatic)",
          "No/Female/One year/Bank transfer (automatic)",
          "Yes/Male/One year",
          "No/Male/Month-to-month/Bank transfer (automatic)",
          "Yes/Female/One year/Bank transfer (automatic)",
          "Yes/Female/One year/Electronic check",
          "Yes/Female/Month-to-month/Credit card (automatic)",
          "Yes/Male/Month-to-month/Electronic check",
          "No/Male/One year/Credit card (automatic)",
          "No/Female/Two year/Credit card (automatic)",
          "Yes/Male/Month-to-month/Mailed check",
          "No/Male/Month-to-month/Mailed check",
          "No/Female/Month-to-month/Mailed check",
          "No/Male/Two year/Credit card (automatic)",
          "No",
          "No/Male/Month-to-month/Electronic check",
          "Yes/Male/Month-to-month",
          "Yes/Male/Two year/Mailed check"
         ],
         "labels": [
          "Bank transfer (automatic)",
          "Electronic check",
          "Electronic check",
          "Electronic check",
          "Electronic check",
          "Mailed check",
          "Mailed check",
          "Mailed check",
          "Mailed check",
          "Mailed check",
          "Mailed check",
          "Mailed check",
          "Mailed check",
          "Month-to-month",
          "Month-to-month",
          "Month-to-month",
          "One year",
          "One year",
          "Two year",
          "Two year",
          "Two year",
          "Two year",
          "Female",
          "Female",
          "Male",
          "Male",
          "Electronic check",
          "Electronic check",
          "Electronic check",
          "Yes",
          "Bank transfer (automatic)",
          "Credit card (automatic)",
          "Bank transfer (automatic)",
          "Credit card (automatic)",
          "Credit card (automatic)",
          "Credit card (automatic)",
          "Credit card (automatic)",
          "Credit card (automatic)",
          "Bank transfer (automatic)",
          "Bank transfer (automatic)",
          "Credit card (automatic)",
          "Bank transfer (automatic)",
          "Credit card (automatic)",
          "Electronic check",
          "Electronic check",
          "Bank transfer (automatic)",
          "Bank transfer (automatic)",
          "One year",
          "Bank transfer (automatic)",
          "Bank transfer (automatic)",
          "One year",
          "Bank transfer (automatic)",
          "Bank transfer (automatic)",
          "Electronic check",
          "Credit card (automatic)",
          "Electronic check",
          "Credit card (automatic)",
          "Credit card (automatic)",
          "Mailed check",
          "Mailed check",
          "Mailed check",
          "Credit card (automatic)",
          "No",
          "Electronic check",
          "Month-to-month",
          "Mailed check"
         ],
         "marker": {
          "colors": [
           "#636efa",
           "#EF553B",
           "#EF553B",
           "#636efa",
           "#EF553B",
           "#EF553B",
           "#636efa",
           "#EF553B",
           "#636efa",
           "#EF553B",
           "#636efa",
           "#EF553B",
           "#636efa",
           "#636efa",
           "#EF553B",
           "#636efa",
           "#636efa",
           "#636efa",
           "#636efa",
           "#EF553B",
           "#636efa",
           "#EF553B",
           "#636efa",
           "#EF553B",
           "#636efa",
           "#EF553B",
           "#636efa",
           "#636efa",
           "#636efa",
           "#EF553B",
           "#EF553B",
           "#636efa",
           "#EF553B",
           "#636efa",
           "#EF553B",
           "#636efa",
           "#EF553B",
           "#EF553B",
           "#636efa",
           "#EF553B",
           "#EF553B",
           "#EF553B",
           "#EF553B",
           "#636efa",
           "#EF553B",
           "#EF553B",
           "#636efa",
           "#EF553B",
           "#636efa",
           "#636efa",
           "#EF553B",
           "#636efa",
           "#EF553B",
           "#EF553B",
           "#EF553B",
           "#EF553B",
           "#636efa",
           "#636efa",
           "#EF553B",
           "#636efa",
           "#636efa",
           "#636efa",
           "#636efa",
           "#636efa",
           "#EF553B",
           "#EF553B"
          ]
         },
         "name": "",
         "parents": [
          "No/Female/Month-to-month",
          "Yes/Male/One year",
          "Yes/Female/Two year",
          "No/Male/Two year",
          "Yes/Male/Two year",
          "Yes/Female/Month-to-month",
          "No/Female/One year",
          "Yes/Female/One year",
          "No/Male/One year",
          "Yes/Male/One year",
          "No/Female/Two year",
          "Yes/Female/Two year",
          "No/Male/Two year",
          "No/Female",
          "Yes/Female",
          "No/Male",
          "No/Female",
          "No/Male",
          "No/Female",
          "Yes/Female",
          "No/Male",
          "Yes/Male",
          "No",
          "Yes",
          "No",
          "Yes",
          "No/Male/One year",
          "No/Female/One year",
          "No/Female/Two year",
          "",
          "Yes/Male/Two year",
          "No/Female/Month-to-month",
          "Yes/Female/Two year",
          "No/Male/Month-to-month",
          "Yes/Male/Month-to-month",
          "No/Female/One year",
          "Yes/Female/One year",
          "Yes/Male/One year",
          "No/Male/One year",
          "Yes/Male/One year",
          "Yes/Female/Two year",
          "Yes/Male/Month-to-month",
          "Yes/Male/Two year",
          "No/Female/Month-to-month",
          "Yes/Female/Month-to-month",
          "Yes/Female/Month-to-month",
          "No/Male/Two year",
          "Yes/Female",
          "No/Female/Two year",
          "No/Female/One year",
          "Yes/Male",
          "No/Male/Month-to-month",
          "Yes/Female/One year",
          "Yes/Female/One year",
          "Yes/Female/Month-to-month",
          "Yes/Male/Month-to-month",
          "No/Male/One year",
          "No/Female/Two year",
          "Yes/Male/Month-to-month",
          "No/Male/Month-to-month",
          "No/Female/Month-to-month",
          "No/Male/Two year",
          "",
          "No/Male/Month-to-month",
          "Yes/Male",
          "Yes/Male/Two year"
         ],
         "type": "treemap",
         "values": [
          198,
          41,
          7,
          81,
          6,
          135,
          153,
          13,
          161,
          10,
          192,
          2,
          187,
          1083,
          842,
          1137,
          643,
          664,
          823,
          22,
          824,
          26,
          2549,
          939,
          2625,
          930,
          144,
          139,
          74,
          1869,
          12,
          167,
          7,
          198,
          75,
          175,
          22,
          19,
          177,
          21,
          6,
          89,
          7,
          435,
          492,
          112,
          267,
          75,
          278,
          176,
          91,
          190,
          17,
          23,
          103,
          502,
          182,
          279,
          147,
          328,
          283,
          289,
          5174,
          421,
          813,
          1
         ]
        }
       ],
       "layout": {
        "legend": {
         "tracegroupgap": 0
        },
        "margin": {
         "t": 60
        },
        "template": {
         "data": {
          "bar": [
           {
            "error_x": {
             "color": "#2a3f5f"
            },
            "error_y": {
             "color": "#2a3f5f"
            },
            "marker": {
             "line": {
              "color": "#E5ECF6",
              "width": 0.5
             },
             "pattern": {
              "fillmode": "overlay",
              "size": 10,
              "solidity": 0.2
             }
            },
            "type": "bar"
           }
          ],
          "barpolar": [
           {
            "marker": {
             "line": {
              "color": "#E5ECF6",
              "width": 0.5
             },
             "pattern": {
              "fillmode": "overlay",
              "size": 10,
              "solidity": 0.2
             }
            },
            "type": "barpolar"
           }
          ],
          "carpet": [
           {
            "aaxis": {
             "endlinecolor": "#2a3f5f",
             "gridcolor": "white",
             "linecolor": "white",
             "minorgridcolor": "white",
             "startlinecolor": "#2a3f5f"
            },
            "baxis": {
             "endlinecolor": "#2a3f5f",
             "gridcolor": "white",
             "linecolor": "white",
             "minorgridcolor": "white",
             "startlinecolor": "#2a3f5f"
            },
            "type": "carpet"
           }
          ],
          "choropleth": [
           {
            "colorbar": {
             "outlinewidth": 0,
             "ticks": ""
            },
            "type": "choropleth"
           }
          ],
          "contour": [
           {
            "colorbar": {
             "outlinewidth": 0,
             "ticks": ""
            },
            "colorscale": [
             [
              0,
              "#0d0887"
             ],
             [
              0.1111111111111111,
              "#46039f"
             ],
             [
              0.2222222222222222,
              "#7201a8"
             ],
             [
              0.3333333333333333,
              "#9c179e"
             ],
             [
              0.4444444444444444,
              "#bd3786"
             ],
             [
              0.5555555555555556,
              "#d8576b"
             ],
             [
              0.6666666666666666,
              "#ed7953"
             ],
             [
              0.7777777777777778,
              "#fb9f3a"
             ],
             [
              0.8888888888888888,
              "#fdca26"
             ],
             [
              1,
              "#f0f921"
             ]
            ],
            "type": "contour"
           }
          ],
          "contourcarpet": [
           {
            "colorbar": {
             "outlinewidth": 0,
             "ticks": ""
            },
            "type": "contourcarpet"
           }
          ],
          "heatmap": [
           {
            "colorbar": {
             "outlinewidth": 0,
             "ticks": ""
            },
            "colorscale": [
             [
              0,
              "#0d0887"
             ],
             [
              0.1111111111111111,
              "#46039f"
             ],
             [
              0.2222222222222222,
              "#7201a8"
             ],
             [
              0.3333333333333333,
              "#9c179e"
             ],
             [
              0.4444444444444444,
              "#bd3786"
             ],
             [
              0.5555555555555556,
              "#d8576b"
             ],
             [
              0.6666666666666666,
              "#ed7953"
             ],
             [
              0.7777777777777778,
              "#fb9f3a"
             ],
             [
              0.8888888888888888,
              "#fdca26"
             ],
             [
              1,
              "#f0f921"
             ]
            ],
            "type": "heatmap"
           }
          ],
          "heatmapgl": [
           {
            "colorbar": {
             "outlinewidth": 0,
             "ticks": ""
            },
            "colorscale": [
             [
              0,
              "#0d0887"
             ],
             [
              0.1111111111111111,
              "#46039f"
             ],
             [
              0.2222222222222222,
              "#7201a8"
             ],
             [
              0.3333333333333333,
              "#9c179e"
             ],
             [
              0.4444444444444444,
              "#bd3786"
             ],
             [
              0.5555555555555556,
              "#d8576b"
             ],
             [
              0.6666666666666666,
              "#ed7953"
             ],
             [
              0.7777777777777778,
              "#fb9f3a"
             ],
             [
              0.8888888888888888,
              "#fdca26"
             ],
             [
              1,
              "#f0f921"
             ]
            ],
            "type": "heatmapgl"
           }
          ],
          "histogram": [
           {
            "marker": {
             "pattern": {
              "fillmode": "overlay",
              "size": 10,
              "solidity": 0.2
             }
            },
            "type": "histogram"
           }
          ],
          "histogram2d": [
           {
            "colorbar": {
             "outlinewidth": 0,
             "ticks": ""
            },
            "colorscale": [
             [
              0,
              "#0d0887"
             ],
             [
              0.1111111111111111,
              "#46039f"
             ],
             [
              0.2222222222222222,
              "#7201a8"
             ],
             [
              0.3333333333333333,
              "#9c179e"
             ],
             [
              0.4444444444444444,
              "#bd3786"
             ],
             [
              0.5555555555555556,
              "#d8576b"
             ],
             [
              0.6666666666666666,
              "#ed7953"
             ],
             [
              0.7777777777777778,
              "#fb9f3a"
             ],
             [
              0.8888888888888888,
              "#fdca26"
             ],
             [
              1,
              "#f0f921"
             ]
            ],
            "type": "histogram2d"
           }
          ],
          "histogram2dcontour": [
           {
            "colorbar": {
             "outlinewidth": 0,
             "ticks": ""
            },
            "colorscale": [
             [
              0,
              "#0d0887"
             ],
             [
              0.1111111111111111,
              "#46039f"
             ],
             [
              0.2222222222222222,
              "#7201a8"
             ],
             [
              0.3333333333333333,
              "#9c179e"
             ],
             [
              0.4444444444444444,
              "#bd3786"
             ],
             [
              0.5555555555555556,
              "#d8576b"
             ],
             [
              0.6666666666666666,
              "#ed7953"
             ],
             [
              0.7777777777777778,
              "#fb9f3a"
             ],
             [
              0.8888888888888888,
              "#fdca26"
             ],
             [
              1,
              "#f0f921"
             ]
            ],
            "type": "histogram2dcontour"
           }
          ],
          "mesh3d": [
           {
            "colorbar": {
             "outlinewidth": 0,
             "ticks": ""
            },
            "type": "mesh3d"
           }
          ],
          "parcoords": [
           {
            "line": {
             "colorbar": {
              "outlinewidth": 0,
              "ticks": ""
             }
            },
            "type": "parcoords"
           }
          ],
          "pie": [
           {
            "automargin": true,
            "type": "pie"
           }
          ],
          "scatter": [
           {
            "fillpattern": {
             "fillmode": "overlay",
             "size": 10,
             "solidity": 0.2
            },
            "type": "scatter"
           }
          ],
          "scatter3d": [
           {
            "line": {
             "colorbar": {
              "outlinewidth": 0,
              "ticks": ""
             }
            },
            "marker": {
             "colorbar": {
              "outlinewidth": 0,
              "ticks": ""
             }
            },
            "type": "scatter3d"
           }
          ],
          "scattercarpet": [
           {
            "marker": {
             "colorbar": {
              "outlinewidth": 0,
              "ticks": ""
             }
            },
            "type": "scattercarpet"
           }
          ],
          "scattergeo": [
           {
            "marker": {
             "colorbar": {
              "outlinewidth": 0,
              "ticks": ""
             }
            },
            "type": "scattergeo"
           }
          ],
          "scattergl": [
           {
            "marker": {
             "colorbar": {
              "outlinewidth": 0,
              "ticks": ""
             }
            },
            "type": "scattergl"
           }
          ],
          "scattermapbox": [
           {
            "marker": {
             "colorbar": {
              "outlinewidth": 0,
              "ticks": ""
             }
            },
            "type": "scattermapbox"
           }
          ],
          "scatterpolar": [
           {
            "marker": {
             "colorbar": {
              "outlinewidth": 0,
              "ticks": ""
             }
            },
            "type": "scatterpolar"
           }
          ],
          "scatterpolargl": [
           {
            "marker": {
             "colorbar": {
              "outlinewidth": 0,
              "ticks": ""
             }
            },
            "type": "scatterpolargl"
           }
          ],
          "scatterternary": [
           {
            "marker": {
             "colorbar": {
              "outlinewidth": 0,
              "ticks": ""
             }
            },
            "type": "scatterternary"
           }
          ],
          "surface": [
           {
            "colorbar": {
             "outlinewidth": 0,
             "ticks": ""
            },
            "colorscale": [
             [
              0,
              "#0d0887"
             ],
             [
              0.1111111111111111,
              "#46039f"
             ],
             [
              0.2222222222222222,
              "#7201a8"
             ],
             [
              0.3333333333333333,
              "#9c179e"
             ],
             [
              0.4444444444444444,
              "#bd3786"
             ],
             [
              0.5555555555555556,
              "#d8576b"
             ],
             [
              0.6666666666666666,
              "#ed7953"
             ],
             [
              0.7777777777777778,
              "#fb9f3a"
             ],
             [
              0.8888888888888888,
              "#fdca26"
             ],
             [
              1,
              "#f0f921"
             ]
            ],
            "type": "surface"
           }
          ],
          "table": [
           {
            "cells": {
             "fill": {
              "color": "#EBF0F8"
             },
             "line": {
              "color": "white"
             }
            },
            "header": {
             "fill": {
              "color": "#C8D4E3"
             },
             "line": {
              "color": "white"
             }
            },
            "type": "table"
           }
          ]
         },
         "layout": {
          "annotationdefaults": {
           "arrowcolor": "#2a3f5f",
           "arrowhead": 0,
           "arrowwidth": 1
          },
          "autotypenumbers": "strict",
          "coloraxis": {
           "colorbar": {
            "outlinewidth": 0,
            "ticks": ""
           }
          },
          "colorscale": {
           "diverging": [
            [
             0,
             "#8e0152"
            ],
            [
             0.1,
             "#c51b7d"
            ],
            [
             0.2,
             "#de77ae"
            ],
            [
             0.3,
             "#f1b6da"
            ],
            [
             0.4,
             "#fde0ef"
            ],
            [
             0.5,
             "#f7f7f7"
            ],
            [
             0.6,
             "#e6f5d0"
            ],
            [
             0.7,
             "#b8e186"
            ],
            [
             0.8,
             "#7fbc41"
            ],
            [
             0.9,
             "#4d9221"
            ],
            [
             1,
             "#276419"
            ]
           ],
           "sequential": [
            [
             0,
             "#0d0887"
            ],
            [
             0.1111111111111111,
             "#46039f"
            ],
            [
             0.2222222222222222,
             "#7201a8"
            ],
            [
             0.3333333333333333,
             "#9c179e"
            ],
            [
             0.4444444444444444,
             "#bd3786"
            ],
            [
             0.5555555555555556,
             "#d8576b"
            ],
            [
             0.6666666666666666,
             "#ed7953"
            ],
            [
             0.7777777777777778,
             "#fb9f3a"
            ],
            [
             0.8888888888888888,
             "#fdca26"
            ],
            [
             1,
             "#f0f921"
            ]
           ],
           "sequentialminus": [
            [
             0,
             "#0d0887"
            ],
            [
             0.1111111111111111,
             "#46039f"
            ],
            [
             0.2222222222222222,
             "#7201a8"
            ],
            [
             0.3333333333333333,
             "#9c179e"
            ],
            [
             0.4444444444444444,
             "#bd3786"
            ],
            [
             0.5555555555555556,
             "#d8576b"
            ],
            [
             0.6666666666666666,
             "#ed7953"
            ],
            [
             0.7777777777777778,
             "#fb9f3a"
            ],
            [
             0.8888888888888888,
             "#fdca26"
            ],
            [
             1,
             "#f0f921"
            ]
           ]
          },
          "colorway": [
           "#636efa",
           "#EF553B",
           "#00cc96",
           "#ab63fa",
           "#FFA15A",
           "#19d3f3",
           "#FF6692",
           "#B6E880",
           "#FF97FF",
           "#FECB52"
          ],
          "font": {
           "color": "#2a3f5f"
          },
          "geo": {
           "bgcolor": "white",
           "lakecolor": "white",
           "landcolor": "#E5ECF6",
           "showlakes": true,
           "showland": true,
           "subunitcolor": "white"
          },
          "hoverlabel": {
           "align": "left"
          },
          "hovermode": "closest",
          "mapbox": {
           "style": "light"
          },
          "paper_bgcolor": "white",
          "plot_bgcolor": "#E5ECF6",
          "polar": {
           "angularaxis": {
            "gridcolor": "white",
            "linecolor": "white",
            "ticks": ""
           },
           "bgcolor": "#E5ECF6",
           "radialaxis": {
            "gridcolor": "white",
            "linecolor": "white",
            "ticks": ""
           }
          },
          "scene": {
           "xaxis": {
            "backgroundcolor": "#E5ECF6",
            "gridcolor": "white",
            "gridwidth": 2,
            "linecolor": "white",
            "showbackground": true,
            "ticks": "",
            "zerolinecolor": "white"
           },
           "yaxis": {
            "backgroundcolor": "#E5ECF6",
            "gridcolor": "white",
            "gridwidth": 2,
            "linecolor": "white",
            "showbackground": true,
            "ticks": "",
            "zerolinecolor": "white"
           },
           "zaxis": {
            "backgroundcolor": "#E5ECF6",
            "gridcolor": "white",
            "gridwidth": 2,
            "linecolor": "white",
            "showbackground": true,
            "ticks": "",
            "zerolinecolor": "white"
           }
          },
          "shapedefaults": {
           "line": {
            "color": "#2a3f5f"
           }
          },
          "ternary": {
           "aaxis": {
            "gridcolor": "white",
            "linecolor": "white",
            "ticks": ""
           },
           "baxis": {
            "gridcolor": "white",
            "linecolor": "white",
            "ticks": ""
           },
           "bgcolor": "#E5ECF6",
           "caxis": {
            "gridcolor": "white",
            "linecolor": "white",
            "ticks": ""
           }
          },
          "title": {
           "x": 0.05
          },
          "xaxis": {
           "automargin": true,
           "gridcolor": "white",
           "linecolor": "white",
           "ticks": "",
           "title": {
            "standoff": 15
           },
           "zerolinecolor": "white",
           "zerolinewidth": 2
          },
          "yaxis": {
           "automargin": true,
           "gridcolor": "white",
           "linecolor": "white",
           "ticks": "",
           "title": {
            "standoff": 15
           },
           "zerolinecolor": "white",
           "zerolinewidth": 2
          }
         }
        },
        "title": {
         "text": " Churn Distribution ",
         "x": 0.5
        }
       }
      }
     },
     "metadata": {},
     "output_type": "display_data"
    }
   ],
   "source": [
    "df[\"Count\"] = 1\n",
    "\n",
    "fig = px.treemap(df, path=['Churn','gender','Contract','PaymentMethod'], values='Count',color ='Churn'\n",
    "                 )\n",
    "fig.update_layout(title = \" Churn Distribution \",title_x=0.5,\n",
    "                 )\n",
    "fig.show()"
   ]
  },
  {
   "cell_type": "code",
   "execution_count": 55,
   "metadata": {},
   "outputs": [
    {
     "data": {
      "application/vnd.plotly.v1+json": {
       "config": {
        "plotlyServerURL": "https://plot.ly"
       },
       "data": [
        {
         "alignmentgroup": "True",
         "hovertemplate": "Churn=No<br>Gender=%{x}<br>Count=%{y}<extra></extra>",
         "legendgroup": "No",
         "marker": {
          "color": "#636efa",
          "pattern": {
           "shape": ""
          }
         },
         "name": "No",
         "offsetgroup": "No",
         "orientation": "v",
         "showlegend": true,
         "textposition": "auto",
         "type": "bar",
         "x": [
          "Female",
          "Male"
         ],
         "xaxis": "x",
         "y": [
          2549,
          2625
         ],
         "yaxis": "y"
        },
        {
         "alignmentgroup": "True",
         "hovertemplate": "Churn=Yes<br>Gender=%{x}<br>Count=%{y}<extra></extra>",
         "legendgroup": "Yes",
         "marker": {
          "color": "#EF553B",
          "pattern": {
           "shape": ""
          }
         },
         "name": "Yes",
         "offsetgroup": "Yes",
         "orientation": "v",
         "showlegend": true,
         "textposition": "auto",
         "type": "bar",
         "x": [
          "Female",
          "Male"
         ],
         "xaxis": "x",
         "y": [
          939,
          930
         ],
         "yaxis": "y"
        }
       ],
       "layout": {
        "barmode": "group",
        "legend": {
         "title": {
          "text": "Churn"
         },
         "tracegroupgap": 0
        },
        "margin": {
         "t": 60
        },
        "template": {
         "data": {
          "bar": [
           {
            "error_x": {
             "color": "#2a3f5f"
            },
            "error_y": {
             "color": "#2a3f5f"
            },
            "marker": {
             "line": {
              "color": "#E5ECF6",
              "width": 0.5
             },
             "pattern": {
              "fillmode": "overlay",
              "size": 10,
              "solidity": 0.2
             }
            },
            "type": "bar"
           }
          ],
          "barpolar": [
           {
            "marker": {
             "line": {
              "color": "#E5ECF6",
              "width": 0.5
             },
             "pattern": {
              "fillmode": "overlay",
              "size": 10,
              "solidity": 0.2
             }
            },
            "type": "barpolar"
           }
          ],
          "carpet": [
           {
            "aaxis": {
             "endlinecolor": "#2a3f5f",
             "gridcolor": "white",
             "linecolor": "white",
             "minorgridcolor": "white",
             "startlinecolor": "#2a3f5f"
            },
            "baxis": {
             "endlinecolor": "#2a3f5f",
             "gridcolor": "white",
             "linecolor": "white",
             "minorgridcolor": "white",
             "startlinecolor": "#2a3f5f"
            },
            "type": "carpet"
           }
          ],
          "choropleth": [
           {
            "colorbar": {
             "outlinewidth": 0,
             "ticks": ""
            },
            "type": "choropleth"
           }
          ],
          "contour": [
           {
            "colorbar": {
             "outlinewidth": 0,
             "ticks": ""
            },
            "colorscale": [
             [
              0,
              "#0d0887"
             ],
             [
              0.1111111111111111,
              "#46039f"
             ],
             [
              0.2222222222222222,
              "#7201a8"
             ],
             [
              0.3333333333333333,
              "#9c179e"
             ],
             [
              0.4444444444444444,
              "#bd3786"
             ],
             [
              0.5555555555555556,
              "#d8576b"
             ],
             [
              0.6666666666666666,
              "#ed7953"
             ],
             [
              0.7777777777777778,
              "#fb9f3a"
             ],
             [
              0.8888888888888888,
              "#fdca26"
             ],
             [
              1,
              "#f0f921"
             ]
            ],
            "type": "contour"
           }
          ],
          "contourcarpet": [
           {
            "colorbar": {
             "outlinewidth": 0,
             "ticks": ""
            },
            "type": "contourcarpet"
           }
          ],
          "heatmap": [
           {
            "colorbar": {
             "outlinewidth": 0,
             "ticks": ""
            },
            "colorscale": [
             [
              0,
              "#0d0887"
             ],
             [
              0.1111111111111111,
              "#46039f"
             ],
             [
              0.2222222222222222,
              "#7201a8"
             ],
             [
              0.3333333333333333,
              "#9c179e"
             ],
             [
              0.4444444444444444,
              "#bd3786"
             ],
             [
              0.5555555555555556,
              "#d8576b"
             ],
             [
              0.6666666666666666,
              "#ed7953"
             ],
             [
              0.7777777777777778,
              "#fb9f3a"
             ],
             [
              0.8888888888888888,
              "#fdca26"
             ],
             [
              1,
              "#f0f921"
             ]
            ],
            "type": "heatmap"
           }
          ],
          "heatmapgl": [
           {
            "colorbar": {
             "outlinewidth": 0,
             "ticks": ""
            },
            "colorscale": [
             [
              0,
              "#0d0887"
             ],
             [
              0.1111111111111111,
              "#46039f"
             ],
             [
              0.2222222222222222,
              "#7201a8"
             ],
             [
              0.3333333333333333,
              "#9c179e"
             ],
             [
              0.4444444444444444,
              "#bd3786"
             ],
             [
              0.5555555555555556,
              "#d8576b"
             ],
             [
              0.6666666666666666,
              "#ed7953"
             ],
             [
              0.7777777777777778,
              "#fb9f3a"
             ],
             [
              0.8888888888888888,
              "#fdca26"
             ],
             [
              1,
              "#f0f921"
             ]
            ],
            "type": "heatmapgl"
           }
          ],
          "histogram": [
           {
            "marker": {
             "pattern": {
              "fillmode": "overlay",
              "size": 10,
              "solidity": 0.2
             }
            },
            "type": "histogram"
           }
          ],
          "histogram2d": [
           {
            "colorbar": {
             "outlinewidth": 0,
             "ticks": ""
            },
            "colorscale": [
             [
              0,
              "#0d0887"
             ],
             [
              0.1111111111111111,
              "#46039f"
             ],
             [
              0.2222222222222222,
              "#7201a8"
             ],
             [
              0.3333333333333333,
              "#9c179e"
             ],
             [
              0.4444444444444444,
              "#bd3786"
             ],
             [
              0.5555555555555556,
              "#d8576b"
             ],
             [
              0.6666666666666666,
              "#ed7953"
             ],
             [
              0.7777777777777778,
              "#fb9f3a"
             ],
             [
              0.8888888888888888,
              "#fdca26"
             ],
             [
              1,
              "#f0f921"
             ]
            ],
            "type": "histogram2d"
           }
          ],
          "histogram2dcontour": [
           {
            "colorbar": {
             "outlinewidth": 0,
             "ticks": ""
            },
            "colorscale": [
             [
              0,
              "#0d0887"
             ],
             [
              0.1111111111111111,
              "#46039f"
             ],
             [
              0.2222222222222222,
              "#7201a8"
             ],
             [
              0.3333333333333333,
              "#9c179e"
             ],
             [
              0.4444444444444444,
              "#bd3786"
             ],
             [
              0.5555555555555556,
              "#d8576b"
             ],
             [
              0.6666666666666666,
              "#ed7953"
             ],
             [
              0.7777777777777778,
              "#fb9f3a"
             ],
             [
              0.8888888888888888,
              "#fdca26"
             ],
             [
              1,
              "#f0f921"
             ]
            ],
            "type": "histogram2dcontour"
           }
          ],
          "mesh3d": [
           {
            "colorbar": {
             "outlinewidth": 0,
             "ticks": ""
            },
            "type": "mesh3d"
           }
          ],
          "parcoords": [
           {
            "line": {
             "colorbar": {
              "outlinewidth": 0,
              "ticks": ""
             }
            },
            "type": "parcoords"
           }
          ],
          "pie": [
           {
            "automargin": true,
            "type": "pie"
           }
          ],
          "scatter": [
           {
            "fillpattern": {
             "fillmode": "overlay",
             "size": 10,
             "solidity": 0.2
            },
            "type": "scatter"
           }
          ],
          "scatter3d": [
           {
            "line": {
             "colorbar": {
              "outlinewidth": 0,
              "ticks": ""
             }
            },
            "marker": {
             "colorbar": {
              "outlinewidth": 0,
              "ticks": ""
             }
            },
            "type": "scatter3d"
           }
          ],
          "scattercarpet": [
           {
            "marker": {
             "colorbar": {
              "outlinewidth": 0,
              "ticks": ""
             }
            },
            "type": "scattercarpet"
           }
          ],
          "scattergeo": [
           {
            "marker": {
             "colorbar": {
              "outlinewidth": 0,
              "ticks": ""
             }
            },
            "type": "scattergeo"
           }
          ],
          "scattergl": [
           {
            "marker": {
             "colorbar": {
              "outlinewidth": 0,
              "ticks": ""
             }
            },
            "type": "scattergl"
           }
          ],
          "scattermapbox": [
           {
            "marker": {
             "colorbar": {
              "outlinewidth": 0,
              "ticks": ""
             }
            },
            "type": "scattermapbox"
           }
          ],
          "scatterpolar": [
           {
            "marker": {
             "colorbar": {
              "outlinewidth": 0,
              "ticks": ""
             }
            },
            "type": "scatterpolar"
           }
          ],
          "scatterpolargl": [
           {
            "marker": {
             "colorbar": {
              "outlinewidth": 0,
              "ticks": ""
             }
            },
            "type": "scatterpolargl"
           }
          ],
          "scatterternary": [
           {
            "marker": {
             "colorbar": {
              "outlinewidth": 0,
              "ticks": ""
             }
            },
            "type": "scatterternary"
           }
          ],
          "surface": [
           {
            "colorbar": {
             "outlinewidth": 0,
             "ticks": ""
            },
            "colorscale": [
             [
              0,
              "#0d0887"
             ],
             [
              0.1111111111111111,
              "#46039f"
             ],
             [
              0.2222222222222222,
              "#7201a8"
             ],
             [
              0.3333333333333333,
              "#9c179e"
             ],
             [
              0.4444444444444444,
              "#bd3786"
             ],
             [
              0.5555555555555556,
              "#d8576b"
             ],
             [
              0.6666666666666666,
              "#ed7953"
             ],
             [
              0.7777777777777778,
              "#fb9f3a"
             ],
             [
              0.8888888888888888,
              "#fdca26"
             ],
             [
              1,
              "#f0f921"
             ]
            ],
            "type": "surface"
           }
          ],
          "table": [
           {
            "cells": {
             "fill": {
              "color": "#EBF0F8"
             },
             "line": {
              "color": "white"
             }
            },
            "header": {
             "fill": {
              "color": "#C8D4E3"
             },
             "line": {
              "color": "white"
             }
            },
            "type": "table"
           }
          ]
         },
         "layout": {
          "annotationdefaults": {
           "arrowcolor": "#2a3f5f",
           "arrowhead": 0,
           "arrowwidth": 1
          },
          "autotypenumbers": "strict",
          "coloraxis": {
           "colorbar": {
            "outlinewidth": 0,
            "ticks": ""
           }
          },
          "colorscale": {
           "diverging": [
            [
             0,
             "#8e0152"
            ],
            [
             0.1,
             "#c51b7d"
            ],
            [
             0.2,
             "#de77ae"
            ],
            [
             0.3,
             "#f1b6da"
            ],
            [
             0.4,
             "#fde0ef"
            ],
            [
             0.5,
             "#f7f7f7"
            ],
            [
             0.6,
             "#e6f5d0"
            ],
            [
             0.7,
             "#b8e186"
            ],
            [
             0.8,
             "#7fbc41"
            ],
            [
             0.9,
             "#4d9221"
            ],
            [
             1,
             "#276419"
            ]
           ],
           "sequential": [
            [
             0,
             "#0d0887"
            ],
            [
             0.1111111111111111,
             "#46039f"
            ],
            [
             0.2222222222222222,
             "#7201a8"
            ],
            [
             0.3333333333333333,
             "#9c179e"
            ],
            [
             0.4444444444444444,
             "#bd3786"
            ],
            [
             0.5555555555555556,
             "#d8576b"
            ],
            [
             0.6666666666666666,
             "#ed7953"
            ],
            [
             0.7777777777777778,
             "#fb9f3a"
            ],
            [
             0.8888888888888888,
             "#fdca26"
            ],
            [
             1,
             "#f0f921"
            ]
           ],
           "sequentialminus": [
            [
             0,
             "#0d0887"
            ],
            [
             0.1111111111111111,
             "#46039f"
            ],
            [
             0.2222222222222222,
             "#7201a8"
            ],
            [
             0.3333333333333333,
             "#9c179e"
            ],
            [
             0.4444444444444444,
             "#bd3786"
            ],
            [
             0.5555555555555556,
             "#d8576b"
            ],
            [
             0.6666666666666666,
             "#ed7953"
            ],
            [
             0.7777777777777778,
             "#fb9f3a"
            ],
            [
             0.8888888888888888,
             "#fdca26"
            ],
            [
             1,
             "#f0f921"
            ]
           ]
          },
          "colorway": [
           "#636efa",
           "#EF553B",
           "#00cc96",
           "#ab63fa",
           "#FFA15A",
           "#19d3f3",
           "#FF6692",
           "#B6E880",
           "#FF97FF",
           "#FECB52"
          ],
          "font": {
           "color": "#2a3f5f"
          },
          "geo": {
           "bgcolor": "white",
           "lakecolor": "white",
           "landcolor": "#E5ECF6",
           "showlakes": true,
           "showland": true,
           "subunitcolor": "white"
          },
          "hoverlabel": {
           "align": "left"
          },
          "hovermode": "closest",
          "mapbox": {
           "style": "light"
          },
          "paper_bgcolor": "white",
          "plot_bgcolor": "#E5ECF6",
          "polar": {
           "angularaxis": {
            "gridcolor": "white",
            "linecolor": "white",
            "ticks": ""
           },
           "bgcolor": "#E5ECF6",
           "radialaxis": {
            "gridcolor": "white",
            "linecolor": "white",
            "ticks": ""
           }
          },
          "scene": {
           "xaxis": {
            "backgroundcolor": "#E5ECF6",
            "gridcolor": "white",
            "gridwidth": 2,
            "linecolor": "white",
            "showbackground": true,
            "ticks": "",
            "zerolinecolor": "white"
           },
           "yaxis": {
            "backgroundcolor": "#E5ECF6",
            "gridcolor": "white",
            "gridwidth": 2,
            "linecolor": "white",
            "showbackground": true,
            "ticks": "",
            "zerolinecolor": "white"
           },
           "zaxis": {
            "backgroundcolor": "#E5ECF6",
            "gridcolor": "white",
            "gridwidth": 2,
            "linecolor": "white",
            "showbackground": true,
            "ticks": "",
            "zerolinecolor": "white"
           }
          },
          "shapedefaults": {
           "line": {
            "color": "#2a3f5f"
           }
          },
          "ternary": {
           "aaxis": {
            "gridcolor": "white",
            "linecolor": "white",
            "ticks": ""
           },
           "baxis": {
            "gridcolor": "white",
            "linecolor": "white",
            "ticks": ""
           },
           "bgcolor": "#E5ECF6",
           "caxis": {
            "gridcolor": "white",
            "linecolor": "white",
            "ticks": ""
           }
          },
          "title": {
           "x": 0.05
          },
          "xaxis": {
           "automargin": true,
           "gridcolor": "white",
           "linecolor": "white",
           "ticks": "",
           "title": {
            "standoff": 15
           },
           "zerolinecolor": "white",
           "zerolinewidth": 2
          },
          "yaxis": {
           "automargin": true,
           "gridcolor": "white",
           "linecolor": "white",
           "ticks": "",
           "title": {
            "standoff": 15
           },
           "zerolinecolor": "white",
           "zerolinewidth": 2
          }
         }
        },
        "title": {
         "text": "Gender With Customer Churn",
         "x": 0.5
        },
        "xaxis": {
         "anchor": "y",
         "domain": [
          0,
          1
         ],
         "title": {
          "text": "Gender"
         }
        },
        "yaxis": {
         "anchor": "x",
         "domain": [
          0,
          1
         ],
         "title": {
          "text": "Count"
         }
        }
       }
      }
     },
     "metadata": {},
     "output_type": "display_data"
    }
   ],
   "source": [
    "df_gender_=df.groupby(by =['gender','Churn'])['tenure'].count().to_frame().reset_index().rename(columns={'gender':'Gender','Response':'Response','tenure':'Count'})\n",
    "df_gender_['Churn']=df_gender_['Churn'].astype('category')\n",
    "\n",
    "fig = px.bar(df_gender_, x=\"Gender\", y=\"Count\",color=\"Churn\",barmode=\"group\",\n",
    "             \n",
    "             )\n",
    "fig.update_layout(title_text='Gender With Customer Churn',title_x=0.5)\n",
    "fig.show()"
   ]
  },
  {
   "cell_type": "code",
   "execution_count": 56,
   "metadata": {},
   "outputs": [],
   "source": [
    "df['tenure_month_group']=np.where((df['tenure']<3),\"< 3 months\",\n",
    "                                 np.where((df['tenure']>2)&(df['tenure']<=6),\"3-6 months\",\n",
    "                                   np.where((df['tenure']>6)&(df['tenure']<=12),\"7-12 months\",\n",
    "                                            np.where((df['tenure']>12)&(df['tenure']<=24),\"13-24 months\",\n",
    "                                        np.where((df['tenure']>24)&(df['tenure']<=60),\"25-60 months\",\n",
    "                                                np.where(df['tenure']>60,\"Above 60 months\",\"NULL\"))))))"
   ]
  },
  {
   "cell_type": "code",
   "execution_count": 57,
   "metadata": {},
   "outputs": [
    {
     "data": {
      "application/vnd.plotly.v1+json": {
       "config": {
        "plotlyServerURL": "https://plot.ly"
       },
       "data": [
        {
         "alignmentgroup": "True",
         "hovertemplate": "Churn=No<br>tenure_month_group=%{x}<br>TotalCharges=%{y}<extra></extra>",
         "legendgroup": "No",
         "marker": {
          "color": "#636efa",
          "pattern": {
           "shape": ""
          }
         },
         "name": "No",
         "offsetgroup": "No",
         "orientation": "v",
         "showlegend": true,
         "textposition": "auto",
         "type": "bar",
         "x": [
          "13-24 months",
          "25-60 months",
          "3-6 months",
          "7-12 months",
          "< 3 months",
          "Above 60 months"
         ],
         "xaxis": "x",
         "y": [
          730,
          1981,
          338,
          452,
          359,
          1314
         ],
         "yaxis": "y"
        },
        {
         "alignmentgroup": "True",
         "hovertemplate": "Churn=Yes<br>tenure_month_group=%{x}<br>TotalCharges=%{y}<extra></extra>",
         "legendgroup": "Yes",
         "marker": {
          "color": "#EF553B",
          "pattern": {
           "shape": ""
          }
         },
         "name": "Yes",
         "offsetgroup": "Yes",
         "orientation": "v",
         "showlegend": true,
         "textposition": "auto",
         "type": "bar",
         "x": [
          "13-24 months",
          "25-60 months",
          "3-6 months",
          "7-12 months",
          "< 3 months",
          "Above 60 months"
         ],
         "xaxis": "x",
         "y": [
          294,
          445,
          281,
          253,
          503,
          93
         ],
         "yaxis": "y"
        }
       ],
       "layout": {
        "barmode": "group",
        "legend": {
         "title": {
          "text": "Churn"
         },
         "tracegroupgap": 0
        },
        "margin": {
         "t": 60
        },
        "template": {
         "data": {
          "bar": [
           {
            "error_x": {
             "color": "#2a3f5f"
            },
            "error_y": {
             "color": "#2a3f5f"
            },
            "marker": {
             "line": {
              "color": "#E5ECF6",
              "width": 0.5
             },
             "pattern": {
              "fillmode": "overlay",
              "size": 10,
              "solidity": 0.2
             }
            },
            "type": "bar"
           }
          ],
          "barpolar": [
           {
            "marker": {
             "line": {
              "color": "#E5ECF6",
              "width": 0.5
             },
             "pattern": {
              "fillmode": "overlay",
              "size": 10,
              "solidity": 0.2
             }
            },
            "type": "barpolar"
           }
          ],
          "carpet": [
           {
            "aaxis": {
             "endlinecolor": "#2a3f5f",
             "gridcolor": "white",
             "linecolor": "white",
             "minorgridcolor": "white",
             "startlinecolor": "#2a3f5f"
            },
            "baxis": {
             "endlinecolor": "#2a3f5f",
             "gridcolor": "white",
             "linecolor": "white",
             "minorgridcolor": "white",
             "startlinecolor": "#2a3f5f"
            },
            "type": "carpet"
           }
          ],
          "choropleth": [
           {
            "colorbar": {
             "outlinewidth": 0,
             "ticks": ""
            },
            "type": "choropleth"
           }
          ],
          "contour": [
           {
            "colorbar": {
             "outlinewidth": 0,
             "ticks": ""
            },
            "colorscale": [
             [
              0,
              "#0d0887"
             ],
             [
              0.1111111111111111,
              "#46039f"
             ],
             [
              0.2222222222222222,
              "#7201a8"
             ],
             [
              0.3333333333333333,
              "#9c179e"
             ],
             [
              0.4444444444444444,
              "#bd3786"
             ],
             [
              0.5555555555555556,
              "#d8576b"
             ],
             [
              0.6666666666666666,
              "#ed7953"
             ],
             [
              0.7777777777777778,
              "#fb9f3a"
             ],
             [
              0.8888888888888888,
              "#fdca26"
             ],
             [
              1,
              "#f0f921"
             ]
            ],
            "type": "contour"
           }
          ],
          "contourcarpet": [
           {
            "colorbar": {
             "outlinewidth": 0,
             "ticks": ""
            },
            "type": "contourcarpet"
           }
          ],
          "heatmap": [
           {
            "colorbar": {
             "outlinewidth": 0,
             "ticks": ""
            },
            "colorscale": [
             [
              0,
              "#0d0887"
             ],
             [
              0.1111111111111111,
              "#46039f"
             ],
             [
              0.2222222222222222,
              "#7201a8"
             ],
             [
              0.3333333333333333,
              "#9c179e"
             ],
             [
              0.4444444444444444,
              "#bd3786"
             ],
             [
              0.5555555555555556,
              "#d8576b"
             ],
             [
              0.6666666666666666,
              "#ed7953"
             ],
             [
              0.7777777777777778,
              "#fb9f3a"
             ],
             [
              0.8888888888888888,
              "#fdca26"
             ],
             [
              1,
              "#f0f921"
             ]
            ],
            "type": "heatmap"
           }
          ],
          "heatmapgl": [
           {
            "colorbar": {
             "outlinewidth": 0,
             "ticks": ""
            },
            "colorscale": [
             [
              0,
              "#0d0887"
             ],
             [
              0.1111111111111111,
              "#46039f"
             ],
             [
              0.2222222222222222,
              "#7201a8"
             ],
             [
              0.3333333333333333,
              "#9c179e"
             ],
             [
              0.4444444444444444,
              "#bd3786"
             ],
             [
              0.5555555555555556,
              "#d8576b"
             ],
             [
              0.6666666666666666,
              "#ed7953"
             ],
             [
              0.7777777777777778,
              "#fb9f3a"
             ],
             [
              0.8888888888888888,
              "#fdca26"
             ],
             [
              1,
              "#f0f921"
             ]
            ],
            "type": "heatmapgl"
           }
          ],
          "histogram": [
           {
            "marker": {
             "pattern": {
              "fillmode": "overlay",
              "size": 10,
              "solidity": 0.2
             }
            },
            "type": "histogram"
           }
          ],
          "histogram2d": [
           {
            "colorbar": {
             "outlinewidth": 0,
             "ticks": ""
            },
            "colorscale": [
             [
              0,
              "#0d0887"
             ],
             [
              0.1111111111111111,
              "#46039f"
             ],
             [
              0.2222222222222222,
              "#7201a8"
             ],
             [
              0.3333333333333333,
              "#9c179e"
             ],
             [
              0.4444444444444444,
              "#bd3786"
             ],
             [
              0.5555555555555556,
              "#d8576b"
             ],
             [
              0.6666666666666666,
              "#ed7953"
             ],
             [
              0.7777777777777778,
              "#fb9f3a"
             ],
             [
              0.8888888888888888,
              "#fdca26"
             ],
             [
              1,
              "#f0f921"
             ]
            ],
            "type": "histogram2d"
           }
          ],
          "histogram2dcontour": [
           {
            "colorbar": {
             "outlinewidth": 0,
             "ticks": ""
            },
            "colorscale": [
             [
              0,
              "#0d0887"
             ],
             [
              0.1111111111111111,
              "#46039f"
             ],
             [
              0.2222222222222222,
              "#7201a8"
             ],
             [
              0.3333333333333333,
              "#9c179e"
             ],
             [
              0.4444444444444444,
              "#bd3786"
             ],
             [
              0.5555555555555556,
              "#d8576b"
             ],
             [
              0.6666666666666666,
              "#ed7953"
             ],
             [
              0.7777777777777778,
              "#fb9f3a"
             ],
             [
              0.8888888888888888,
              "#fdca26"
             ],
             [
              1,
              "#f0f921"
             ]
            ],
            "type": "histogram2dcontour"
           }
          ],
          "mesh3d": [
           {
            "colorbar": {
             "outlinewidth": 0,
             "ticks": ""
            },
            "type": "mesh3d"
           }
          ],
          "parcoords": [
           {
            "line": {
             "colorbar": {
              "outlinewidth": 0,
              "ticks": ""
             }
            },
            "type": "parcoords"
           }
          ],
          "pie": [
           {
            "automargin": true,
            "type": "pie"
           }
          ],
          "scatter": [
           {
            "fillpattern": {
             "fillmode": "overlay",
             "size": 10,
             "solidity": 0.2
            },
            "type": "scatter"
           }
          ],
          "scatter3d": [
           {
            "line": {
             "colorbar": {
              "outlinewidth": 0,
              "ticks": ""
             }
            },
            "marker": {
             "colorbar": {
              "outlinewidth": 0,
              "ticks": ""
             }
            },
            "type": "scatter3d"
           }
          ],
          "scattercarpet": [
           {
            "marker": {
             "colorbar": {
              "outlinewidth": 0,
              "ticks": ""
             }
            },
            "type": "scattercarpet"
           }
          ],
          "scattergeo": [
           {
            "marker": {
             "colorbar": {
              "outlinewidth": 0,
              "ticks": ""
             }
            },
            "type": "scattergeo"
           }
          ],
          "scattergl": [
           {
            "marker": {
             "colorbar": {
              "outlinewidth": 0,
              "ticks": ""
             }
            },
            "type": "scattergl"
           }
          ],
          "scattermapbox": [
           {
            "marker": {
             "colorbar": {
              "outlinewidth": 0,
              "ticks": ""
             }
            },
            "type": "scattermapbox"
           }
          ],
          "scatterpolar": [
           {
            "marker": {
             "colorbar": {
              "outlinewidth": 0,
              "ticks": ""
             }
            },
            "type": "scatterpolar"
           }
          ],
          "scatterpolargl": [
           {
            "marker": {
             "colorbar": {
              "outlinewidth": 0,
              "ticks": ""
             }
            },
            "type": "scatterpolargl"
           }
          ],
          "scatterternary": [
           {
            "marker": {
             "colorbar": {
              "outlinewidth": 0,
              "ticks": ""
             }
            },
            "type": "scatterternary"
           }
          ],
          "surface": [
           {
            "colorbar": {
             "outlinewidth": 0,
             "ticks": ""
            },
            "colorscale": [
             [
              0,
              "#0d0887"
             ],
             [
              0.1111111111111111,
              "#46039f"
             ],
             [
              0.2222222222222222,
              "#7201a8"
             ],
             [
              0.3333333333333333,
              "#9c179e"
             ],
             [
              0.4444444444444444,
              "#bd3786"
             ],
             [
              0.5555555555555556,
              "#d8576b"
             ],
             [
              0.6666666666666666,
              "#ed7953"
             ],
             [
              0.7777777777777778,
              "#fb9f3a"
             ],
             [
              0.8888888888888888,
              "#fdca26"
             ],
             [
              1,
              "#f0f921"
             ]
            ],
            "type": "surface"
           }
          ],
          "table": [
           {
            "cells": {
             "fill": {
              "color": "#EBF0F8"
             },
             "line": {
              "color": "white"
             }
            },
            "header": {
             "fill": {
              "color": "#C8D4E3"
             },
             "line": {
              "color": "white"
             }
            },
            "type": "table"
           }
          ]
         },
         "layout": {
          "annotationdefaults": {
           "arrowcolor": "#2a3f5f",
           "arrowhead": 0,
           "arrowwidth": 1
          },
          "autotypenumbers": "strict",
          "coloraxis": {
           "colorbar": {
            "outlinewidth": 0,
            "ticks": ""
           }
          },
          "colorscale": {
           "diverging": [
            [
             0,
             "#8e0152"
            ],
            [
             0.1,
             "#c51b7d"
            ],
            [
             0.2,
             "#de77ae"
            ],
            [
             0.3,
             "#f1b6da"
            ],
            [
             0.4,
             "#fde0ef"
            ],
            [
             0.5,
             "#f7f7f7"
            ],
            [
             0.6,
             "#e6f5d0"
            ],
            [
             0.7,
             "#b8e186"
            ],
            [
             0.8,
             "#7fbc41"
            ],
            [
             0.9,
             "#4d9221"
            ],
            [
             1,
             "#276419"
            ]
           ],
           "sequential": [
            [
             0,
             "#0d0887"
            ],
            [
             0.1111111111111111,
             "#46039f"
            ],
            [
             0.2222222222222222,
             "#7201a8"
            ],
            [
             0.3333333333333333,
             "#9c179e"
            ],
            [
             0.4444444444444444,
             "#bd3786"
            ],
            [
             0.5555555555555556,
             "#d8576b"
            ],
            [
             0.6666666666666666,
             "#ed7953"
            ],
            [
             0.7777777777777778,
             "#fb9f3a"
            ],
            [
             0.8888888888888888,
             "#fdca26"
            ],
            [
             1,
             "#f0f921"
            ]
           ],
           "sequentialminus": [
            [
             0,
             "#0d0887"
            ],
            [
             0.1111111111111111,
             "#46039f"
            ],
            [
             0.2222222222222222,
             "#7201a8"
            ],
            [
             0.3333333333333333,
             "#9c179e"
            ],
            [
             0.4444444444444444,
             "#bd3786"
            ],
            [
             0.5555555555555556,
             "#d8576b"
            ],
            [
             0.6666666666666666,
             "#ed7953"
            ],
            [
             0.7777777777777778,
             "#fb9f3a"
            ],
            [
             0.8888888888888888,
             "#fdca26"
            ],
            [
             1,
             "#f0f921"
            ]
           ]
          },
          "colorway": [
           "#636efa",
           "#EF553B",
           "#00cc96",
           "#ab63fa",
           "#FFA15A",
           "#19d3f3",
           "#FF6692",
           "#B6E880",
           "#FF97FF",
           "#FECB52"
          ],
          "font": {
           "color": "#2a3f5f"
          },
          "geo": {
           "bgcolor": "white",
           "lakecolor": "white",
           "landcolor": "#E5ECF6",
           "showlakes": true,
           "showland": true,
           "subunitcolor": "white"
          },
          "hoverlabel": {
           "align": "left"
          },
          "hovermode": "closest",
          "mapbox": {
           "style": "light"
          },
          "paper_bgcolor": "white",
          "plot_bgcolor": "#E5ECF6",
          "polar": {
           "angularaxis": {
            "gridcolor": "white",
            "linecolor": "white",
            "ticks": ""
           },
           "bgcolor": "#E5ECF6",
           "radialaxis": {
            "gridcolor": "white",
            "linecolor": "white",
            "ticks": ""
           }
          },
          "scene": {
           "xaxis": {
            "backgroundcolor": "#E5ECF6",
            "gridcolor": "white",
            "gridwidth": 2,
            "linecolor": "white",
            "showbackground": true,
            "ticks": "",
            "zerolinecolor": "white"
           },
           "yaxis": {
            "backgroundcolor": "#E5ECF6",
            "gridcolor": "white",
            "gridwidth": 2,
            "linecolor": "white",
            "showbackground": true,
            "ticks": "",
            "zerolinecolor": "white"
           },
           "zaxis": {
            "backgroundcolor": "#E5ECF6",
            "gridcolor": "white",
            "gridwidth": 2,
            "linecolor": "white",
            "showbackground": true,
            "ticks": "",
            "zerolinecolor": "white"
           }
          },
          "shapedefaults": {
           "line": {
            "color": "#2a3f5f"
           }
          },
          "ternary": {
           "aaxis": {
            "gridcolor": "white",
            "linecolor": "white",
            "ticks": ""
           },
           "baxis": {
            "gridcolor": "white",
            "linecolor": "white",
            "ticks": ""
           },
           "bgcolor": "#E5ECF6",
           "caxis": {
            "gridcolor": "white",
            "linecolor": "white",
            "ticks": ""
           }
          },
          "title": {
           "x": 0.05
          },
          "xaxis": {
           "automargin": true,
           "gridcolor": "white",
           "linecolor": "white",
           "ticks": "",
           "title": {
            "standoff": 15
           },
           "zerolinecolor": "white",
           "zerolinewidth": 2
          },
          "yaxis": {
           "automargin": true,
           "gridcolor": "white",
           "linecolor": "white",
           "ticks": "",
           "title": {
            "standoff": 15
           },
           "zerolinecolor": "white",
           "zerolinewidth": 2
          }
         }
        },
        "title": {
         "text": "Customer Churn  by Month Group",
         "x": 0.5
        },
        "xaxis": {
         "anchor": "y",
         "domain": [
          0,
          1
         ],
         "title": {
          "text": "tenure_month_group"
         }
        },
        "yaxis": {
         "anchor": "x",
         "domain": [
          0,
          1
         ],
         "title": {
          "text": "TotalCharges"
         }
        }
       }
      }
     },
     "metadata": {},
     "output_type": "display_data"
    }
   ],
   "source": [
    "df_months=df.groupby(by =['tenure_month_group','Churn'])['TotalCharges'].count().to_frame().reset_index()\n",
    "\n",
    "\n",
    "\n",
    "fig = px.bar(df_months, x='tenure_month_group', y='TotalCharges',color=\"Churn\",barmode=\"group\",\n",
    "             \n",
    "             )\n",
    "fig.update_layout(title_text='Customer Churn  by Month Group',title_x=0.5)\n",
    "fig.show()"
   ]
  },
  {
   "cell_type": "code",
   "execution_count": 58,
   "metadata": {},
   "outputs": [
    {
     "data": {
      "application/vnd.plotly.v1+json": {
       "config": {
        "plotlyServerURL": "https://plot.ly"
       },
       "data": [
        {
         "hole": 0.2,
         "hoverinfo": "label+percent",
         "insidetextorientation": "radial",
         "labels": [
          "No",
          "Yes"
         ],
         "textfont": {
          "size": 12
         },
         "textinfo": "value+percent",
         "type": "pie",
         "values": [
          5174,
          1869
         ]
        }
       ],
       "layout": {
        "template": {
         "data": {
          "bar": [
           {
            "error_x": {
             "color": "#2a3f5f"
            },
            "error_y": {
             "color": "#2a3f5f"
            },
            "marker": {
             "line": {
              "color": "#E5ECF6",
              "width": 0.5
             },
             "pattern": {
              "fillmode": "overlay",
              "size": 10,
              "solidity": 0.2
             }
            },
            "type": "bar"
           }
          ],
          "barpolar": [
           {
            "marker": {
             "line": {
              "color": "#E5ECF6",
              "width": 0.5
             },
             "pattern": {
              "fillmode": "overlay",
              "size": 10,
              "solidity": 0.2
             }
            },
            "type": "barpolar"
           }
          ],
          "carpet": [
           {
            "aaxis": {
             "endlinecolor": "#2a3f5f",
             "gridcolor": "white",
             "linecolor": "white",
             "minorgridcolor": "white",
             "startlinecolor": "#2a3f5f"
            },
            "baxis": {
             "endlinecolor": "#2a3f5f",
             "gridcolor": "white",
             "linecolor": "white",
             "minorgridcolor": "white",
             "startlinecolor": "#2a3f5f"
            },
            "type": "carpet"
           }
          ],
          "choropleth": [
           {
            "colorbar": {
             "outlinewidth": 0,
             "ticks": ""
            },
            "type": "choropleth"
           }
          ],
          "contour": [
           {
            "colorbar": {
             "outlinewidth": 0,
             "ticks": ""
            },
            "colorscale": [
             [
              0,
              "#0d0887"
             ],
             [
              0.1111111111111111,
              "#46039f"
             ],
             [
              0.2222222222222222,
              "#7201a8"
             ],
             [
              0.3333333333333333,
              "#9c179e"
             ],
             [
              0.4444444444444444,
              "#bd3786"
             ],
             [
              0.5555555555555556,
              "#d8576b"
             ],
             [
              0.6666666666666666,
              "#ed7953"
             ],
             [
              0.7777777777777778,
              "#fb9f3a"
             ],
             [
              0.8888888888888888,
              "#fdca26"
             ],
             [
              1,
              "#f0f921"
             ]
            ],
            "type": "contour"
           }
          ],
          "contourcarpet": [
           {
            "colorbar": {
             "outlinewidth": 0,
             "ticks": ""
            },
            "type": "contourcarpet"
           }
          ],
          "heatmap": [
           {
            "colorbar": {
             "outlinewidth": 0,
             "ticks": ""
            },
            "colorscale": [
             [
              0,
              "#0d0887"
             ],
             [
              0.1111111111111111,
              "#46039f"
             ],
             [
              0.2222222222222222,
              "#7201a8"
             ],
             [
              0.3333333333333333,
              "#9c179e"
             ],
             [
              0.4444444444444444,
              "#bd3786"
             ],
             [
              0.5555555555555556,
              "#d8576b"
             ],
             [
              0.6666666666666666,
              "#ed7953"
             ],
             [
              0.7777777777777778,
              "#fb9f3a"
             ],
             [
              0.8888888888888888,
              "#fdca26"
             ],
             [
              1,
              "#f0f921"
             ]
            ],
            "type": "heatmap"
           }
          ],
          "heatmapgl": [
           {
            "colorbar": {
             "outlinewidth": 0,
             "ticks": ""
            },
            "colorscale": [
             [
              0,
              "#0d0887"
             ],
             [
              0.1111111111111111,
              "#46039f"
             ],
             [
              0.2222222222222222,
              "#7201a8"
             ],
             [
              0.3333333333333333,
              "#9c179e"
             ],
             [
              0.4444444444444444,
              "#bd3786"
             ],
             [
              0.5555555555555556,
              "#d8576b"
             ],
             [
              0.6666666666666666,
              "#ed7953"
             ],
             [
              0.7777777777777778,
              "#fb9f3a"
             ],
             [
              0.8888888888888888,
              "#fdca26"
             ],
             [
              1,
              "#f0f921"
             ]
            ],
            "type": "heatmapgl"
           }
          ],
          "histogram": [
           {
            "marker": {
             "pattern": {
              "fillmode": "overlay",
              "size": 10,
              "solidity": 0.2
             }
            },
            "type": "histogram"
           }
          ],
          "histogram2d": [
           {
            "colorbar": {
             "outlinewidth": 0,
             "ticks": ""
            },
            "colorscale": [
             [
              0,
              "#0d0887"
             ],
             [
              0.1111111111111111,
              "#46039f"
             ],
             [
              0.2222222222222222,
              "#7201a8"
             ],
             [
              0.3333333333333333,
              "#9c179e"
             ],
             [
              0.4444444444444444,
              "#bd3786"
             ],
             [
              0.5555555555555556,
              "#d8576b"
             ],
             [
              0.6666666666666666,
              "#ed7953"
             ],
             [
              0.7777777777777778,
              "#fb9f3a"
             ],
             [
              0.8888888888888888,
              "#fdca26"
             ],
             [
              1,
              "#f0f921"
             ]
            ],
            "type": "histogram2d"
           }
          ],
          "histogram2dcontour": [
           {
            "colorbar": {
             "outlinewidth": 0,
             "ticks": ""
            },
            "colorscale": [
             [
              0,
              "#0d0887"
             ],
             [
              0.1111111111111111,
              "#46039f"
             ],
             [
              0.2222222222222222,
              "#7201a8"
             ],
             [
              0.3333333333333333,
              "#9c179e"
             ],
             [
              0.4444444444444444,
              "#bd3786"
             ],
             [
              0.5555555555555556,
              "#d8576b"
             ],
             [
              0.6666666666666666,
              "#ed7953"
             ],
             [
              0.7777777777777778,
              "#fb9f3a"
             ],
             [
              0.8888888888888888,
              "#fdca26"
             ],
             [
              1,
              "#f0f921"
             ]
            ],
            "type": "histogram2dcontour"
           }
          ],
          "mesh3d": [
           {
            "colorbar": {
             "outlinewidth": 0,
             "ticks": ""
            },
            "type": "mesh3d"
           }
          ],
          "parcoords": [
           {
            "line": {
             "colorbar": {
              "outlinewidth": 0,
              "ticks": ""
             }
            },
            "type": "parcoords"
           }
          ],
          "pie": [
           {
            "automargin": true,
            "type": "pie"
           }
          ],
          "scatter": [
           {
            "fillpattern": {
             "fillmode": "overlay",
             "size": 10,
             "solidity": 0.2
            },
            "type": "scatter"
           }
          ],
          "scatter3d": [
           {
            "line": {
             "colorbar": {
              "outlinewidth": 0,
              "ticks": ""
             }
            },
            "marker": {
             "colorbar": {
              "outlinewidth": 0,
              "ticks": ""
             }
            },
            "type": "scatter3d"
           }
          ],
          "scattercarpet": [
           {
            "marker": {
             "colorbar": {
              "outlinewidth": 0,
              "ticks": ""
             }
            },
            "type": "scattercarpet"
           }
          ],
          "scattergeo": [
           {
            "marker": {
             "colorbar": {
              "outlinewidth": 0,
              "ticks": ""
             }
            },
            "type": "scattergeo"
           }
          ],
          "scattergl": [
           {
            "marker": {
             "colorbar": {
              "outlinewidth": 0,
              "ticks": ""
             }
            },
            "type": "scattergl"
           }
          ],
          "scattermapbox": [
           {
            "marker": {
             "colorbar": {
              "outlinewidth": 0,
              "ticks": ""
             }
            },
            "type": "scattermapbox"
           }
          ],
          "scatterpolar": [
           {
            "marker": {
             "colorbar": {
              "outlinewidth": 0,
              "ticks": ""
             }
            },
            "type": "scatterpolar"
           }
          ],
          "scatterpolargl": [
           {
            "marker": {
             "colorbar": {
              "outlinewidth": 0,
              "ticks": ""
             }
            },
            "type": "scatterpolargl"
           }
          ],
          "scatterternary": [
           {
            "marker": {
             "colorbar": {
              "outlinewidth": 0,
              "ticks": ""
             }
            },
            "type": "scatterternary"
           }
          ],
          "surface": [
           {
            "colorbar": {
             "outlinewidth": 0,
             "ticks": ""
            },
            "colorscale": [
             [
              0,
              "#0d0887"
             ],
             [
              0.1111111111111111,
              "#46039f"
             ],
             [
              0.2222222222222222,
              "#7201a8"
             ],
             [
              0.3333333333333333,
              "#9c179e"
             ],
             [
              0.4444444444444444,
              "#bd3786"
             ],
             [
              0.5555555555555556,
              "#d8576b"
             ],
             [
              0.6666666666666666,
              "#ed7953"
             ],
             [
              0.7777777777777778,
              "#fb9f3a"
             ],
             [
              0.8888888888888888,
              "#fdca26"
             ],
             [
              1,
              "#f0f921"
             ]
            ],
            "type": "surface"
           }
          ],
          "table": [
           {
            "cells": {
             "fill": {
              "color": "#EBF0F8"
             },
             "line": {
              "color": "white"
             }
            },
            "header": {
             "fill": {
              "color": "#C8D4E3"
             },
             "line": {
              "color": "white"
             }
            },
            "type": "table"
           }
          ]
         },
         "layout": {
          "annotationdefaults": {
           "arrowcolor": "#2a3f5f",
           "arrowhead": 0,
           "arrowwidth": 1
          },
          "autotypenumbers": "strict",
          "coloraxis": {
           "colorbar": {
            "outlinewidth": 0,
            "ticks": ""
           }
          },
          "colorscale": {
           "diverging": [
            [
             0,
             "#8e0152"
            ],
            [
             0.1,
             "#c51b7d"
            ],
            [
             0.2,
             "#de77ae"
            ],
            [
             0.3,
             "#f1b6da"
            ],
            [
             0.4,
             "#fde0ef"
            ],
            [
             0.5,
             "#f7f7f7"
            ],
            [
             0.6,
             "#e6f5d0"
            ],
            [
             0.7,
             "#b8e186"
            ],
            [
             0.8,
             "#7fbc41"
            ],
            [
             0.9,
             "#4d9221"
            ],
            [
             1,
             "#276419"
            ]
           ],
           "sequential": [
            [
             0,
             "#0d0887"
            ],
            [
             0.1111111111111111,
             "#46039f"
            ],
            [
             0.2222222222222222,
             "#7201a8"
            ],
            [
             0.3333333333333333,
             "#9c179e"
            ],
            [
             0.4444444444444444,
             "#bd3786"
            ],
            [
             0.5555555555555556,
             "#d8576b"
            ],
            [
             0.6666666666666666,
             "#ed7953"
            ],
            [
             0.7777777777777778,
             "#fb9f3a"
            ],
            [
             0.8888888888888888,
             "#fdca26"
            ],
            [
             1,
             "#f0f921"
            ]
           ],
           "sequentialminus": [
            [
             0,
             "#0d0887"
            ],
            [
             0.1111111111111111,
             "#46039f"
            ],
            [
             0.2222222222222222,
             "#7201a8"
            ],
            [
             0.3333333333333333,
             "#9c179e"
            ],
            [
             0.4444444444444444,
             "#bd3786"
            ],
            [
             0.5555555555555556,
             "#d8576b"
            ],
            [
             0.6666666666666666,
             "#ed7953"
            ],
            [
             0.7777777777777778,
             "#fb9f3a"
            ],
            [
             0.8888888888888888,
             "#fdca26"
            ],
            [
             1,
             "#f0f921"
            ]
           ]
          },
          "colorway": [
           "#636efa",
           "#EF553B",
           "#00cc96",
           "#ab63fa",
           "#FFA15A",
           "#19d3f3",
           "#FF6692",
           "#B6E880",
           "#FF97FF",
           "#FECB52"
          ],
          "font": {
           "color": "#2a3f5f"
          },
          "geo": {
           "bgcolor": "white",
           "lakecolor": "white",
           "landcolor": "#E5ECF6",
           "showlakes": true,
           "showland": true,
           "subunitcolor": "white"
          },
          "hoverlabel": {
           "align": "left"
          },
          "hovermode": "closest",
          "mapbox": {
           "style": "light"
          },
          "paper_bgcolor": "white",
          "plot_bgcolor": "#E5ECF6",
          "polar": {
           "angularaxis": {
            "gridcolor": "white",
            "linecolor": "white",
            "ticks": ""
           },
           "bgcolor": "#E5ECF6",
           "radialaxis": {
            "gridcolor": "white",
            "linecolor": "white",
            "ticks": ""
           }
          },
          "scene": {
           "xaxis": {
            "backgroundcolor": "#E5ECF6",
            "gridcolor": "white",
            "gridwidth": 2,
            "linecolor": "white",
            "showbackground": true,
            "ticks": "",
            "zerolinecolor": "white"
           },
           "yaxis": {
            "backgroundcolor": "#E5ECF6",
            "gridcolor": "white",
            "gridwidth": 2,
            "linecolor": "white",
            "showbackground": true,
            "ticks": "",
            "zerolinecolor": "white"
           },
           "zaxis": {
            "backgroundcolor": "#E5ECF6",
            "gridcolor": "white",
            "gridwidth": 2,
            "linecolor": "white",
            "showbackground": true,
            "ticks": "",
            "zerolinecolor": "white"
           }
          },
          "shapedefaults": {
           "line": {
            "color": "#2a3f5f"
           }
          },
          "ternary": {
           "aaxis": {
            "gridcolor": "white",
            "linecolor": "white",
            "ticks": ""
           },
           "baxis": {
            "gridcolor": "white",
            "linecolor": "white",
            "ticks": ""
           },
           "bgcolor": "#E5ECF6",
           "caxis": {
            "gridcolor": "white",
            "linecolor": "white",
            "ticks": ""
           }
          },
          "title": {
           "x": 0.05
          },
          "xaxis": {
           "automargin": true,
           "gridcolor": "white",
           "linecolor": "white",
           "ticks": "",
           "title": {
            "standoff": 15
           },
           "zerolinecolor": "white",
           "zerolinewidth": 2
          },
          "yaxis": {
           "automargin": true,
           "gridcolor": "white",
           "linecolor": "white",
           "ticks": "",
           "title": {
            "standoff": 15
           },
           "zerolinecolor": "white",
           "zerolinewidth": 2
          }
         }
        },
        "title": {
         "text": "Customer Churn",
         "x": 0.5
        }
       }
      }
     },
     "metadata": {},
     "output_type": "display_data"
    }
   ],
   "source": [
    "df_ch=df['Churn'].value_counts().to_frame().reset_index().rename(columns={'index':'Churn','Churn':'count'})\n",
    "fig = go.Figure([go.Pie(labels=df_ch['Churn'], values=df_ch['count'],hole=0.2)])\n",
    "\n",
    "\n",
    "\n",
    "fig.update_traces(hoverinfo='label+percent', textinfo='value+percent', textfont_size=12,insidetextorientation='radial')\n",
    "\n",
    "\n",
    "\n",
    "fig.update_layout(title=\"Customer Churn\",title_x=0.5)\n",
    "fig.show()"
   ]
  },
  {
   "cell_type": "code",
   "execution_count": 59,
   "metadata": {},
   "outputs": [
    {
     "data": {
      "image/png": "[encoded data removed]",
      "text/plain": [
       "<Figure size 1800x3600 with 4 Axes>"
      ]
     },
     "metadata": {},
     "output_type": "display_data"
    }
   ],
   "source": [
    "fig, ax = plt.subplots(4, figsize=(25, 50))\n",
    "sns.set(font_scale=2)\n",
    "\n",
    "g=sns.boxplot(data=df, x=\"tenure\", y=\"Churn\", ax=ax[0], hue=\"Churn\")\n",
    "g=sns.histplot(data=df, x=\"tenure\", ax=ax[1], hue=\"Churn\")\n",
    "\n",
    "\n",
    "g=sns.boxplot(data=df, x=\"MonthlyCharges\", y=\"Churn\", ax=ax[2], hue=\"Churn\")\n",
    "g=sns.histplot(data=df, x=\"MonthlyCharges\", ax=ax[3], hue=\"Churn\")\n",
    "\n",
    "\n",
    "#g=sns.boxplot(data=df, x=\"TotalCharges\", y=\"Churn\", ax=ax[4], hue=\"Churn\")\n",
    "#g=sns.histplot(data=df, x=\"TotalCharges\", ax=ax[5], hue=\"Churn\")"
   ]
  },
  {
   "cell_type": "code",
   "execution_count": 60,
   "metadata": {},
   "outputs": [
    {
     "data": {
      "application/vnd.plotly.v1+json": {
       "config": {
        "plotlyServerURL": "https://plot.ly"
       },
       "data": [
        {
         "alignmentgroup": "True",
         "hovertemplate": "Churn=No<br>tenure_month_group=%{x}<br>MonthlyCharges=%{y}<extra></extra>",
         "legendgroup": "No",
         "marker": {
          "color": "#636efa",
          "pattern": {
           "shape": ""
          }
         },
         "name": "No",
         "offsetgroup": "No",
         "orientation": "v",
         "showlegend": true,
         "textposition": "auto",
         "type": "bar",
         "x": [
          "13-24 months",
          "25-60 months",
          "3-6 months",
          "7-12 months",
          "< 3 months",
          "Above 60 months"
         ],
         "xaxis": "x",
         "y": [
          730,
          1981,
          338,
          452,
          359,
          1314
         ],
         "yaxis": "y"
        },
        {
         "alignmentgroup": "True",
         "hovertemplate": "Churn=Yes<br>tenure_month_group=%{x}<br>MonthlyCharges=%{y}<extra></extra>",
         "legendgroup": "Yes",
         "marker": {
          "color": "#EF553B",
          "pattern": {
           "shape": ""
          }
         },
         "name": "Yes",
         "offsetgroup": "Yes",
         "orientation": "v",
         "showlegend": true,
         "textposition": "auto",
         "type": "bar",
         "x": [
          "13-24 months",
          "25-60 months",
          "3-6 months",
          "7-12 months",
          "< 3 months",
          "Above 60 months"
         ],
         "xaxis": "x",
         "y": [
          294,
          445,
          281,
          253,
          503,
          93
         ],
         "yaxis": "y"
        }
       ],
       "layout": {
        "barmode": "group",
        "legend": {
         "title": {
          "text": "Churn"
         },
         "tracegroupgap": 0
        },
        "margin": {
         "t": 60
        },
        "template": {
         "data": {
          "bar": [
           {
            "error_x": {
             "color": "#2a3f5f"
            },
            "error_y": {
             "color": "#2a3f5f"
            },
            "marker": {
             "line": {
              "color": "#E5ECF6",
              "width": 0.5
             },
             "pattern": {
              "fillmode": "overlay",
              "size": 10,
              "solidity": 0.2
             }
            },
            "type": "bar"
           }
          ],
          "barpolar": [
           {
            "marker": {
             "line": {
              "color": "#E5ECF6",
              "width": 0.5
             },
             "pattern": {
              "fillmode": "overlay",
              "size": 10,
              "solidity": 0.2
             }
            },
            "type": "barpolar"
           }
          ],
          "carpet": [
           {
            "aaxis": {
             "endlinecolor": "#2a3f5f",
             "gridcolor": "white",
             "linecolor": "white",
             "minorgridcolor": "white",
             "startlinecolor": "#2a3f5f"
            },
            "baxis": {
             "endlinecolor": "#2a3f5f",
             "gridcolor": "white",
             "linecolor": "white",
             "minorgridcolor": "white",
             "startlinecolor": "#2a3f5f"
            },
            "type": "carpet"
           }
          ],
          "choropleth": [
           {
            "colorbar": {
             "outlinewidth": 0,
             "ticks": ""
            },
            "type": "choropleth"
           }
          ],
          "contour": [
           {
            "colorbar": {
             "outlinewidth": 0,
             "ticks": ""
            },
            "colorscale": [
             [
              0,
              "#0d0887"
             ],
             [
              0.1111111111111111,
              "#46039f"
             ],
             [
              0.2222222222222222,
              "#7201a8"
             ],
             [
              0.3333333333333333,
              "#9c179e"
             ],
             [
              0.4444444444444444,
              "#bd3786"
             ],
             [
              0.5555555555555556,
              "#d8576b"
             ],
             [
              0.6666666666666666,
              "#ed7953"
             ],
             [
              0.7777777777777778,
              "#fb9f3a"
             ],
             [
              0.8888888888888888,
              "#fdca26"
             ],
             [
              1,
              "#f0f921"
             ]
            ],
            "type": "contour"
           }
          ],
          "contourcarpet": [
           {
            "colorbar": {
             "outlinewidth": 0,
             "ticks": ""
            },
            "type": "contourcarpet"
           }
          ],
          "heatmap": [
           {
            "colorbar": {
             "outlinewidth": 0,
             "ticks": ""
            },
            "colorscale": [
             [
              0,
              "#0d0887"
             ],
             [
              0.1111111111111111,
              "#46039f"
             ],
             [
              0.2222222222222222,
              "#7201a8"
             ],
             [
              0.3333333333333333,
              "#9c179e"
             ],
             [
              0.4444444444444444,
              "#bd3786"
             ],
             [
              0.5555555555555556,
              "#d8576b"
             ],
             [
              0.6666666666666666,
              "#ed7953"
             ],
             [
              0.7777777777777778,
              "#fb9f3a"
             ],
             [
              0.8888888888888888,
              "#fdca26"
             ],
             [
              1,
              "#f0f921"
             ]
            ],
            "type": "heatmap"
           }
          ],
          "heatmapgl": [
           {
            "colorbar": {
             "outlinewidth": 0,
             "ticks": ""
            },
            "colorscale": [
             [
              0,
              "#0d0887"
             ],
             [
              0.1111111111111111,
              "#46039f"
             ],
             [
              0.2222222222222222,
              "#7201a8"
             ],
             [
              0.3333333333333333,
              "#9c179e"
             ],
             [
              0.4444444444444444,
              "#bd3786"
             ],
             [
              0.5555555555555556,
              "#d8576b"
             ],
             [
              0.6666666666666666,
              "#ed7953"
             ],
             [
              0.7777777777777778,
              "#fb9f3a"
             ],
             [
              0.8888888888888888,
              "#fdca26"
             ],
             [
              1,
              "#f0f921"
             ]
            ],
            "type": "heatmapgl"
           }
          ],
          "histogram": [
           {
            "marker": {
             "pattern": {
              "fillmode": "overlay",
              "size": 10,
              "solidity": 0.2
             }
            },
            "type": "histogram"
           }
          ],
          "histogram2d": [
           {
            "colorbar": {
             "outlinewidth": 0,
             "ticks": ""
            },
            "colorscale": [
             [
              0,
              "#0d0887"
             ],
             [
              0.1111111111111111,
              "#46039f"
             ],
             [
              0.2222222222222222,
              "#7201a8"
             ],
             [
              0.3333333333333333,
              "#9c179e"
             ],
             [
              0.4444444444444444,
              "#bd3786"
             ],
             [
              0.5555555555555556,
              "#d8576b"
             ],
             [
              0.6666666666666666,
              "#ed7953"
             ],
             [
              0.7777777777777778,
              "#fb9f3a"
             ],
             [
              0.8888888888888888,
              "#fdca26"
             ],
             [
              1,
              "#f0f921"
             ]
            ],
            "type": "histogram2d"
           }
          ],
          "histogram2dcontour": [
           {
            "colorbar": {
             "outlinewidth": 0,
             "ticks": ""
            },
            "colorscale": [
             [
              0,
              "#0d0887"
             ],
             [
              0.1111111111111111,
              "#46039f"
             ],
             [
              0.2222222222222222,
              "#7201a8"
             ],
             [
              0.3333333333333333,
              "#9c179e"
             ],
             [
              0.4444444444444444,
              "#bd3786"
             ],
             [
              0.5555555555555556,
              "#d8576b"
             ],
             [
              0.6666666666666666,
              "#ed7953"
             ],
             [
              0.7777777777777778,
              "#fb9f3a"
             ],
             [
              0.8888888888888888,
              "#fdca26"
             ],
             [
              1,
              "#f0f921"
             ]
            ],
            "type": "histogram2dcontour"
           }
          ],
          "mesh3d": [
           {
            "colorbar": {
             "outlinewidth": 0,
             "ticks": ""
            },
            "type": "mesh3d"
           }
          ],
          "parcoords": [
           {
            "line": {
             "colorbar": {
              "outlinewidth": 0,
              "ticks": ""
             }
            },
            "type": "parcoords"
           }
          ],
          "pie": [
           {
            "automargin": true,
            "type": "pie"
           }
          ],
          "scatter": [
           {
            "fillpattern": {
             "fillmode": "overlay",
             "size": 10,
             "solidity": 0.2
            },
            "type": "scatter"
           }
          ],
          "scatter3d": [
           {
            "line": {
             "colorbar": {
              "outlinewidth": 0,
              "ticks": ""
             }
            },
            "marker": {
             "colorbar": {
              "outlinewidth": 0,
              "ticks": ""
             }
            },
            "type": "scatter3d"
           }
          ],
          "scattercarpet": [
           {
            "marker": {
             "colorbar": {
              "outlinewidth": 0,
              "ticks": ""
             }
            },
            "type": "scattercarpet"
           }
          ],
          "scattergeo": [
           {
            "marker": {
             "colorbar": {
              "outlinewidth": 0,
              "ticks": ""
             }
            },
            "type": "scattergeo"
           }
          ],
          "scattergl": [
           {
            "marker": {
             "colorbar": {
              "outlinewidth": 0,
              "ticks": ""
             }
            },
            "type": "scattergl"
           }
          ],
          "scattermapbox": [
           {
            "marker": {
             "colorbar": {
              "outlinewidth": 0,
              "ticks": ""
             }
            },
            "type": "scattermapbox"
           }
          ],
          "scatterpolar": [
           {
            "marker": {
             "colorbar": {
              "outlinewidth": 0,
              "ticks": ""
             }
            },
            "type": "scatterpolar"
           }
          ],
          "scatterpolargl": [
           {
            "marker": {
             "colorbar": {
              "outlinewidth": 0,
              "ticks": ""
             }
            },
            "type": "scatterpolargl"
           }
          ],
          "scatterternary": [
           {
            "marker": {
             "colorbar": {
              "outlinewidth": 0,
              "ticks": ""
             }
            },
            "type": "scatterternary"
           }
          ],
          "surface": [
           {
            "colorbar": {
             "outlinewidth": 0,
             "ticks": ""
            },
            "colorscale": [
             [
              0,
              "#0d0887"
             ],
             [
              0.1111111111111111,
              "#46039f"
             ],
             [
              0.2222222222222222,
              "#7201a8"
             ],
             [
              0.3333333333333333,
              "#9c179e"
             ],
             [
              0.4444444444444444,
              "#bd3786"
             ],
             [
              0.5555555555555556,
              "#d8576b"
             ],
             [
              0.6666666666666666,
              "#ed7953"
             ],
             [
              0.7777777777777778,
              "#fb9f3a"
             ],
             [
              0.8888888888888888,
              "#fdca26"
             ],
             [
              1,
              "#f0f921"
             ]
            ],
            "type": "surface"
           }
          ],
          "table": [
           {
            "cells": {
             "fill": {
              "color": "#EBF0F8"
             },
             "line": {
              "color": "white"
             }
            },
            "header": {
             "fill": {
              "color": "#C8D4E3"
             },
             "line": {
              "color": "white"
             }
            },
            "type": "table"
           }
          ]
         },
         "layout": {
          "annotationdefaults": {
           "arrowcolor": "#2a3f5f",
           "arrowhead": 0,
           "arrowwidth": 1
          },
          "autotypenumbers": "strict",
          "coloraxis": {
           "colorbar": {
            "outlinewidth": 0,
            "ticks": ""
           }
          },
          "colorscale": {
           "diverging": [
            [
             0,
             "#8e0152"
            ],
            [
             0.1,
             "#c51b7d"
            ],
            [
             0.2,
             "#de77ae"
            ],
            [
             0.3,
             "#f1b6da"
            ],
            [
             0.4,
             "#fde0ef"
            ],
            [
             0.5,
             "#f7f7f7"
            ],
            [
             0.6,
             "#e6f5d0"
            ],
            [
             0.7,
             "#b8e186"
            ],
            [
             0.8,
             "#7fbc41"
            ],
            [
             0.9,
             "#4d9221"
            ],
            [
             1,
             "#276419"
            ]
           ],
           "sequential": [
            [
             0,
             "#0d0887"
            ],
            [
             0.1111111111111111,
             "#46039f"
            ],
            [
             0.2222222222222222,
             "#7201a8"
            ],
            [
             0.3333333333333333,
             "#9c179e"
            ],
            [
             0.4444444444444444,
             "#bd3786"
            ],
            [
             0.5555555555555556,
             "#d8576b"
            ],
            [
             0.6666666666666666,
             "#ed7953"
            ],
            [
             0.7777777777777778,
             "#fb9f3a"
            ],
            [
             0.8888888888888888,
             "#fdca26"
            ],
            [
             1,
             "#f0f921"
            ]
           ],
           "sequentialminus": [
            [
             0,
             "#0d0887"
            ],
            [
             0.1111111111111111,
             "#46039f"
            ],
            [
             0.2222222222222222,
             "#7201a8"
            ],
            [
             0.3333333333333333,
             "#9c179e"
            ],
            [
             0.4444444444444444,
             "#bd3786"
            ],
            [
             0.5555555555555556,
             "#d8576b"
            ],
            [
             0.6666666666666666,
             "#ed7953"
            ],
            [
             0.7777777777777778,
             "#fb9f3a"
            ],
            [
             0.8888888888888888,
             "#fdca26"
            ],
            [
             1,
             "#f0f921"
            ]
           ]
          },
          "colorway": [
           "#636efa",
           "#EF553B",
           "#00cc96",
           "#ab63fa",
           "#FFA15A",
           "#19d3f3",
           "#FF6692",
           "#B6E880",
           "#FF97FF",
           "#FECB52"
          ],
          "font": {
           "color": "#2a3f5f"
          },
          "geo": {
           "bgcolor": "white",
           "lakecolor": "white",
           "landcolor": "#E5ECF6",
           "showlakes": true,
           "showland": true,
           "subunitcolor": "white"
          },
          "hoverlabel": {
           "align": "left"
          },
          "hovermode": "closest",
          "mapbox": {
           "style": "light"
          },
          "paper_bgcolor": "white",
          "plot_bgcolor": "#E5ECF6",
          "polar": {
           "angularaxis": {
            "gridcolor": "white",
            "linecolor": "white",
            "ticks": ""
           },
           "bgcolor": "#E5ECF6",
           "radialaxis": {
            "gridcolor": "white",
            "linecolor": "white",
            "ticks": ""
           }
          },
          "scene": {
           "xaxis": {
            "backgroundcolor": "#E5ECF6",
            "gridcolor": "white",
            "gridwidth": 2,
            "linecolor": "white",
            "showbackground": true,
            "ticks": "",
            "zerolinecolor": "white"
           },
           "yaxis": {
            "backgroundcolor": "#E5ECF6",
            "gridcolor": "white",
            "gridwidth": 2,
            "linecolor": "white",
            "showbackground": true,
            "ticks": "",
            "zerolinecolor": "white"
           },
           "zaxis": {
            "backgroundcolor": "#E5ECF6",
            "gridcolor": "white",
            "gridwidth": 2,
            "linecolor": "white",
            "showbackground": true,
            "ticks": "",
            "zerolinecolor": "white"
           }
          },
          "shapedefaults": {
           "line": {
            "color": "#2a3f5f"
           }
          },
          "ternary": {
           "aaxis": {
            "gridcolor": "white",
            "linecolor": "white",
            "ticks": ""
           },
           "baxis": {
            "gridcolor": "white",
            "linecolor": "white",
            "ticks": ""
           },
           "bgcolor": "#E5ECF6",
           "caxis": {
            "gridcolor": "white",
            "linecolor": "white",
            "ticks": ""
           }
          },
          "title": {
           "x": 0.05
          },
          "xaxis": {
           "automargin": true,
           "gridcolor": "white",
           "linecolor": "white",
           "ticks": "",
           "title": {
            "standoff": 15
           },
           "zerolinecolor": "white",
           "zerolinewidth": 2
          },
          "yaxis": {
           "automargin": true,
           "gridcolor": "white",
           "linecolor": "white",
           "ticks": "",
           "title": {
            "standoff": 15
           },
           "zerolinecolor": "white",
           "zerolinewidth": 2
          }
         }
        },
        "title": {
         "text": "Customer Churn  by Month Group",
         "x": 0.5
        },
        "xaxis": {
         "anchor": "y",
         "domain": [
          0,
          1
         ],
         "title": {
          "text": "tenure_month_group"
         }
        },
        "yaxis": {
         "anchor": "x",
         "domain": [
          0,
          1
         ],
         "title": {
          "text": "MonthlyCharges"
         }
        }
       }
      }
     },
     "metadata": {},
     "output_type": "display_data"
    }
   ],
   "source": [
    "df_months=df.groupby(by =['tenure_month_group','Churn'])['MonthlyCharges'].count().to_frame().reset_index()\n",
    "\n",
    "\n",
    "\n",
    "fig = px.bar(df_months, x='tenure_month_group', y='MonthlyCharges',color=\"Churn\",barmode=\"group\",\n",
    "             \n",
    "             )\n",
    "fig.update_layout(title_text='Customer Churn  by Month Group',title_x=0.5)\n",
    "fig.show()"
   ]
  },
  {
   "cell_type": "code",
   "execution_count": 61,
   "metadata": {},
   "outputs": [
    {
     "data": {
      "text/plain": [
       "<AxesSubplot:xlabel='Churn', ylabel='count'>"
      ]
     },
     "execution_count": 61,
     "metadata": {},
     "output_type": "execute_result"
    },
    {
     "data": {
      "image/png": "[encoded data removed]",
      "text/plain": [
       "<Figure size 1080x1080 with 4 Axes>"
      ]
     },
     "metadata": {},
     "output_type": "display_data"
    }
   ],
   "source": [
    "plt.figure(figsize = (15,15))\n",
    "\n",
    "plt.subplot(3,2,1)\n",
    "sns.countplot(x = 'StreamingMovies', palette = 'Set2', data = df)\n",
    "\n",
    "plt.subplot(3,2,2)\n",
    "sns.countplot(x = 'Contract', palette = 'Set2', data = df)\n",
    "\n",
    "plt.subplot(3,2,3)\n",
    "sns.countplot(x = 'PaperlessBilling', palette = 'Set2', data = df)\n",
    "\n",
    "plt.subplot(3,2,4)\n",
    "sns.countplot(x = 'Churn', palette = 'Set2', data = df)"
   ]
  },
  {
   "cell_type": "code",
   "execution_count": 62,
   "metadata": {},
   "outputs": [
    {
     "data": {
      "text/plain": [
       "<AxesSubplot:xlabel='tenure'>"
      ]
     },
     "execution_count": 62,
     "metadata": {},
     "output_type": "execute_result"
    },
    {
     "data": {
      "image/png": "[encoded data removed]",
      "text/plain": [
       "<Figure size 432x288 with 1 Axes>"
      ]
     },
     "metadata": {},
     "output_type": "display_data"
    }
   ],
   "source": [
    "sns.boxplot(x=df[\"tenure\"])"
   ]
  },
  {
   "cell_type": "code",
   "execution_count": 63,
   "metadata": {},
   "outputs": [
    {
     "data": {
      "text/plain": [
       "array(['No', 'Yes'], dtype=object)"
      ]
     },
     "execution_count": 63,
     "metadata": {},
     "output_type": "execute_result"
    }
   ],
   "source": [
    "df.Churn.unique()"
   ]
  },
  {
   "cell_type": "code",
   "execution_count": 64,
   "metadata": {},
   "outputs": [],
   "source": [
    "df.Churn.replace({\"Yes\":1, \"No\":0}, inplace = True)"
   ]
  },
  {
   "cell_type": "code",
   "execution_count": 65,
   "metadata": {},
   "outputs": [
    {
     "data": {
      "text/plain": [
       "<AxesSubplot:xlabel='tenure', ylabel='Count'>"
      ]
     },
     "execution_count": 65,
     "metadata": {},
     "output_type": "execute_result"
    },
    {
     "data": {
      "image/png": "[encoded data removed]",
      "text/plain": [
       "<Figure size 432x288 with 1 Axes>"
      ]
     },
     "metadata": {},
     "output_type": "display_data"
    }
   ],
   "source": [
    "plt.subplot(1,2,1)\n",
    "sns.histplot(df['tenure'], kde = False)\n"
   ]
  },
  {
   "cell_type": "code",
   "execution_count": 66,
   "metadata": {},
   "outputs": [
    {
     "data": {
      "text/plain": [
       "<AxesSubplot:xlabel='StreamingTV', ylabel='count'>"
      ]
     },
     "execution_count": 66,
     "metadata": {},
     "output_type": "execute_result"
    },
    {
     "data": {
      "image/png": "[encoded data removed]",
      "text/plain": [
       "<Figure size 1080x1080 with 6 Axes>"
      ]
     },
     "metadata": {},
     "output_type": "display_data"
    }
   ],
   "source": [
    "plt.figure(figsize = (15,15))\n",
    "\n",
    "plt.subplot(3,2,1)\n",
    "sns.countplot(x = 'InternetService', hue = 'Churn', palette = 'Set2', data = df)\n",
    "\n",
    "plt.subplot(3,2,2)\n",
    "sns.countplot(x = 'OnlineSecurity', hue = 'Churn', palette = 'Set2', data = df)\n",
    "\n",
    "plt.subplot(3,2,3)\n",
    "sns.countplot(x = 'OnlineBackup', hue = 'Churn', palette = 'Set2', data = df)\n",
    "\n",
    "plt.subplot(3,2,4)\n",
    "sns.countplot(x = 'DeviceProtection', hue = 'Churn', palette = 'Set2', data = df)\n",
    "\n",
    "plt.subplot(3,2,5)\n",
    "sns.countplot(x = 'TechSupport', hue = 'Churn', palette = 'Set2', data = df)\n",
    "\n",
    "plt.subplot(3,2,6)\n",
    "sns.countplot(x = 'StreamingTV', hue = 'Churn', palette = 'Set2', data = df)"
   ]
  },
  {
   "cell_type": "markdown",
   "metadata": {},
   "source": [
    "Partner No         3641"
   ]
  },
  {
   "cell_type": "code",
   "execution_count": 67,
   "metadata": {},
   "outputs": [
    {
     "name": "stdout",
     "output_type": "stream",
     "text": [
      "<class 'pandas.core.frame.DataFrame'>\n",
      "RangeIndex: 7043 entries, 0 to 7042\n",
      "Columns: 13626 entries, SeniorCitizen to tenure_month_group_Above 60 months\n",
      "dtypes: float64(1), int64(4), uint8(13621)\n",
      "memory usage: 91.8 MB\n"
     ]
    }
   ],
   "source": [
    "# Replace churn string values with numeric binary values\n",
    "df.Churn.replace({\"Yes\":1, \"No\":0}, inplace = True)\n",
    "# Utilize pandas dummy variable function to create dummy variable series for categorical data\n",
    "dummy_df = pd.get_dummies(df)\n",
    "dummy_df.to_csv('d.csv')\n",
    "dummy_df.info()"
   ]
  },
  {
   "cell_type": "markdown",
   "metadata": {},
   "source": [
    "## Pre-Processing Data for Regression"
   ]
  },
  {
   "cell_type": "code",
   "execution_count": 68,
   "metadata": {},
   "outputs": [],
   "source": [
    "# Establish our target feature, churn, as our y feature\n",
    "y = dummy_df.Churn.values\n",
    "# Drop our target feature from our features dataframe\n",
    "X = dummy_df.drop('Churn', axis = 1)\n",
    "# Save dataframe column titles to list for reassigning after min max scale \n",
    "cols = X.columns"
   ]
  },
  {
   "cell_type": "markdown",
   "metadata": {},
   "source": [
    "## Scaling our Data"
   ]
  },
  {
   "cell_type": "code",
   "execution_count": 69,
   "metadata": {},
   "outputs": [],
   "source": [
    "# Instantiate min-max scaling object\n",
    "mm = MinMaxScaler()\n",
    "# Fit and transform our feature dataframe\n",
    "X = pd.DataFrame(mm.fit_transform(X))\n",
    "# Reassign column names so new dataframe has corresponding names\n",
    "X.columns = cols"
   ]
  },
  {
   "cell_type": "markdown",
   "metadata": {},
   "source": [
    "## Train Test Split\n"
   ]
  },
  {
   "cell_type": "code",
   "execution_count": 70,
   "metadata": {},
   "outputs": [],
   "source": [
    "# Perform train test split from our target feature series and the predicting feature dataframe (set test size to 25% of data)\n",
    "X_train, X_test, y_train, y_test = train_test_split(X, y, test_size = 0.25, random_state = 40)"
   ]
  },
  {
   "cell_type": "markdown",
   "metadata": {},
   "source": [
    "## Logistic Regression"
   ]
  },
  {
   "cell_type": "code",
   "execution_count": 71,
   "metadata": {},
   "outputs": [
    {
     "data": {
      "text/plain": [
       "LogisticRegression(C=1000000000000.0, fit_intercept=False, solver='liblinear')"
      ]
     },
     "execution_count": 71,
     "metadata": {},
     "output_type": "execute_result"
    }
   ],
   "source": [
    "\n",
    "# Instantiate a Logistic Regression model without an intercept. C is set to an arbitrarily large number. Use 'liblinear' solver method.\n",
    "logreg = LogisticRegression(fit_intercept = False, C = 1e12, solver = 'liblinear')\n",
    "# Fit the model to our X and y training sets\n",
    "logreg.fit(X_train, y_train)\n",
    "\n",
    "#reg = LazyRegressor(verbose=0, ignore_warnings=False, custom_metric=None)\n",
    "#models, predictions = reg.fit(X_train, X_test, y_train, y_test)\n",
    "\n",
    "#print(models)"
   ]
  },
  {
   "cell_type": "code",
   "execution_count": 72,
   "metadata": {},
   "outputs": [],
   "source": [
    "# Generate model prediction data for train and test sets\n",
    "y_hat_train = logreg.predict(X_train)\n",
    "y_hat_test = logreg.predict(X_test)"
   ]
  },
  {
   "cell_type": "code",
   "execution_count": 73,
   "metadata": {},
   "outputs": [
    {
     "name": "stdout",
     "output_type": "stream",
     "text": [
      "0    5282\n",
      "dtype: int64\n",
      "----------------------------------\n",
      "0    1.0\n",
      "dtype: float64\n"
     ]
    }
   ],
   "source": [
    "# Find residual differences between train data and predicted train data\n",
    "residuals = np.abs(y_train - y_hat_train)\n",
    "# Print value counts of our predicted values \n",
    "print(pd.Series(residuals).value_counts())\n",
    "print('----------------------------------')\n",
    "# Print normalized value counts of our predicted values\n",
    "print(pd.Series(residuals).value_counts(normalize = True))"
   ]
  },
  {
   "cell_type": "code",
   "execution_count": 74,
   "metadata": {},
   "outputs": [
    {
     "name": "stdout",
     "output_type": "stream",
     "text": [
      "Confusion Matrix: \n",
      " [[1155  140]\n",
      " [ 222  244]]\n"
     ]
    }
   ],
   "source": [
    "# Call confusion_matrix function from sklearn.metrics using actual y_test and predicted y_test data sets \n",
    "cnf_matrix = confusion_matrix(y_test, y_hat_test)\n",
    "print('Confusion Matrix: \\n', cnf_matrix)"
   ]
  },
  {
   "cell_type": "code",
   "execution_count": 75,
   "metadata": {},
   "outputs": [],
   "source": [
    "def print_metrics(y_train, y_hat_train, y_test, y_hat_test):\n",
    "    print('Training Metrics:')\n",
    "    print(f'Training Precision: ', round(precision_score(y_train, y_hat_train), 2))\n",
    "    print(f'Training Recall: ', round(recall_score(y_train, y_hat_train), 2))\n",
    "    print(f'Training Accuracy: ', round(accuracy_score(y_train, y_hat_train), 2))\n",
    "    print(f'Training F1-Score: ', round(f1_score(y_train, y_hat_train), 2))\n",
    "    print('\\n')\n",
    "    print(f'Testing Metrics:')\n",
    "    print(f'Testing Precision: ', round(precision_score(y_test, y_hat_test),2))\n",
    "    print(f'Testing Recall: ', round(recall_score(y_test, y_hat_test),2))\n",
    "    print(f'Testing Accuracy: ', round(accuracy_score(y_test, y_hat_test),2))\n",
    "    print(f'Testing F1-Score: ', round(f1_score(y_test, y_hat_test),2))"
   ]
  },
  {
   "cell_type": "code",
   "execution_count": 76,
   "metadata": {},
   "outputs": [
    {
     "name": "stdout",
     "output_type": "stream",
     "text": [
      "Training Metrics:\n",
      "Training Precision:  1.0\n",
      "Training Recall:  1.0\n",
      "Training Accuracy:  1.0\n",
      "Training F1-Score:  1.0\n",
      "\n",
      "\n",
      "Testing Metrics:\n",
      "Testing Precision:  0.64\n",
      "Testing Recall:  0.52\n",
      "Testing Accuracy:  0.79\n",
      "Testing F1-Score:  0.57\n"
     ]
    }
   ],
   "source": [
    "# Print 4 main logistic model metrics for training and test sets (Precision, Recall, Accuracy, F1)\n",
    "print_metrics(y_train, y_hat_train, y_test, y_hat_test)"
   ]
  },
  {
   "cell_type": "code",
   "execution_count": 77,
   "metadata": {},
   "outputs": [],
   "source": [
    "def print_metric_comparisons(X, y):\n",
    "    \n",
    "    # Create an empty list for each of the 4 classification metrics (Precision/Recall/Accuracy/F1-Score)\n",
    "    training_precision = []\n",
    "    testing_precision = []\n",
    "    training_recall = []\n",
    "    testing_recall = []\n",
    "    training_accuracy = []\n",
    "    testing_accuracy = []\n",
    "    training_f1 = []\n",
    "    testing_f1 = []\n",
    "    \n",
    "    # Iterate through a range of test_sizes to use for our logistic regression, using same parameters as our first logistic regression in our notebook. Append each respective result metric to its respective list.\n",
    "    for i in range(10, 95):\n",
    "        X_train, X_test, y_train, y_test = train_test_split(X, y, test_size=i/100.0, random_state = 33)\n",
    "        logreg = LogisticRegression(fit_intercept=False, C=1e25, solver='liblinear')\n",
    "        model_log = logreg.fit(X_train, y_train)\n",
    "        y_hat_test = logreg.predict(X_test)\n",
    "        y_hat_train = logreg.predict(X_train)\n",
    "\n",
    "        training_precision.append(precision_score(y_train, y_hat_train))\n",
    "        testing_precision.append(precision_score(y_test, y_hat_test))\n",
    "        training_recall.append(recall_score(y_train, y_hat_train))\n",
    "        testing_recall.append(recall_score(y_test, y_hat_test))\n",
    "        training_accuracy.append(accuracy_score(y_train, y_hat_train))\n",
    "        testing_accuracy.append(accuracy_score(y_test, y_hat_test))\n",
    "        training_f1.append(f1_score(y_train, y_hat_train))\n",
    "        testing_f1.append(f1_score(y_test, y_hat_test))\n",
    "        \n",
    "    # Use subplots to create a scatter plot of each of the 4 metrics. \n",
    "    plt.figure(figsize = (20, 10))\n",
    "    plt.subplot(221)\n",
    "    plt.title('Precision Score', fontweight = 'bold', fontsize = 30)\n",
    "    # Scatter plot training precision list\n",
    "    plt.scatter(list(range(10, 95)), training_precision, label='training_precision')\n",
    "    # Scatte4r plot test precision list\n",
    "    plt.scatter(list(range(10, 95)), testing_precision, label='testing_precision')\n",
    "    plt.xlabel('Model Test Size (%)', fontsize = 20)\n",
    "    plt.legend(loc = 'best')\n",
    "\n",
    "    plt.subplot(222)\n",
    "    plt.title('Recall Score', fontweight = 'bold', fontsize = 30)\n",
    "    # Scatter plot training recall list\n",
    "    plt.scatter(list(range(10, 95)), training_recall, label='training_recall')\n",
    "    # Scatter plot test recall list\n",
    "    plt.scatter(list(range(10, 95)), testing_recall, label='testing_recall')\n",
    "    plt.xlabel('Model Test Size (%)', fontsize = 20)\n",
    "    plt.legend(loc = 'best')\n",
    "\n",
    "    plt.subplot(223)\n",
    "    plt.title('Accuracy Score', fontweight = 'bold', fontsize = 30)\n",
    "    # Scatter plot training accuracy list\n",
    "    plt.scatter(list(range(10, 95)), training_accuracy, label='training_accuracy')\n",
    "    # Scatter plot test accuracy list\n",
    "    plt.scatter(list(range(10, 95)), testing_accuracy, label='testing_accuracy')\n",
    "    plt.xlabel('Model Test Size (%)', fontsize = 20)\n",
    "    plt.legend(loc = 'best')\n",
    "\n",
    "    plt.subplot(224)\n",
    "    plt.title('F1 Score', fontweight = 'bold', fontsize = 30)\n",
    "    # Scatter plot training f1-score list\n",
    "    plt.scatter(list(range(10, 95)), training_f1, label='training_f1')\n",
    "    # Scatter plot testing f1-score list\n",
    "    plt.scatter(list(range(10, 95)), testing_f1, label='testing_f1')\n",
    "    plt.xlabel('Model Test Size (%)', fontsize = 20)\n",
    "    plt.legend(loc = 'best')\n",
    "\n",
    "    plt.tight_layout()"
   ]
  },
  {
   "cell_type": "code",
   "execution_count": 78,
   "metadata": {},
   "outputs": [
    {
     "data": {
      "image/png": "[encoded data removed]",
      "text/plain": [
       "<Figure size 1440x720 with 4 Axes>"
      ]
     },
     "metadata": {},
     "output_type": "display_data"
    }
   ],
   "source": [
    "print_metric_comparisons(X, y)"
   ]
  },
  {
   "cell_type": "markdown",
   "metadata": {},
   "source": [
    "## Peceptron"
   ]
  },
  {
   "cell_type": "code",
   "execution_count": 79,
   "metadata": {},
   "outputs": [
    {
     "name": "stderr",
     "output_type": "stream",
     "text": [
      "c:\\Users\\F5480264\\Anaconda3\\lib\\site-packages\\sklearn\\neural_network\\_multilayer_perceptron.py:549: ConvergenceWarning:\n",
      "\n",
      "lbfgs failed to converge (status=1):\n",
      "STOP: TOTAL NO. of ITERATIONS REACHED LIMIT.\n",
      "\n",
      "Increase the number of iterations (max_iter) or scale the data as shown in:\n",
      "    https://scikit-learn.org/stable/modules/preprocessing.html\n",
      "\n"
     ]
    },
    {
     "data": {
      "text/plain": [
       "MLPRegressor(alpha=0.001, hidden_layer_sizes=50, learning_rate='adaptive',\n",
       "             solver='lbfgs')"
      ]
     },
     "execution_count": 79,
     "metadata": {},
     "output_type": "execute_result"
    }
   ],
   "source": [
    "from sklearn.neural_network import MLPRegressor\n",
    "mlp = MLPRegressor(hidden_layer_sizes = 50, alpha = 0.001, solver = 'lbfgs', learning_rate = 'adaptive')\n",
    "mlp.fit(X_train, y_train)"
   ]
  },
  {
   "cell_type": "code",
   "execution_count": 80,
   "metadata": {},
   "outputs": [],
   "source": [
    "y_hat_train2 = mlp.predict(X_train)\n",
    "y_hat_test2 = mlp.predict(X_test)"
   ]
  },
  {
   "cell_type": "code",
   "execution_count": 81,
   "metadata": {},
   "outputs": [
    {
     "name": "stdout",
     "output_type": "stream",
     "text": [
      "0.004917    1\n",
      "0.108104    1\n",
      "0.001839    1\n",
      "0.011785    1\n",
      "0.004890    1\n",
      "           ..\n",
      "0.001252    1\n",
      "0.016487    1\n",
      "0.010256    1\n",
      "0.003484    1\n",
      "0.004514    1\n",
      "Length: 5282, dtype: int64\n",
      "----------------------------------\n",
      "0.004917    0.000189\n",
      "0.108104    0.000189\n",
      "0.001839    0.000189\n",
      "0.011785    0.000189\n",
      "0.004890    0.000189\n",
      "              ...   \n",
      "0.001252    0.000189\n",
      "0.016487    0.000189\n",
      "0.010256    0.000189\n",
      "0.003484    0.000189\n",
      "0.004514    0.000189\n",
      "Length: 5282, dtype: float64\n"
     ]
    }
   ],
   "source": [
    "# Find residual differences between train data and predicted train data\n",
    "residuals = np.abs(y_train - y_hat_train2)\n",
    "# Print value counts of our predicted values \n",
    "print(pd.Series(residuals).value_counts())\n",
    "print('----------------------------------')\n",
    "# Print normalized value counts of our predicted values\n",
    "print(pd.Series(residuals).value_counts(normalize = True))"
   ]
  },
  {
   "cell_type": "markdown",
   "metadata": {},
   "source": [
    "## CatBoostRegressor\n"
   ]
  },
  {
   "cell_type": "code",
   "execution_count": 82,
   "metadata": {},
   "outputs": [
    {
     "name": "stdout",
     "output_type": "stream",
     "text": [
      "Learning rate set to 0.053258\n",
      "0:\tlearn: 0.4352107\ttotal: 214ms\tremaining: 3m 33s\n",
      "1:\tlearn: 0.4292335\ttotal: 283ms\tremaining: 2m 21s\n",
      "2:\tlearn: 0.4237214\ttotal: 358ms\tremaining: 1m 58s\n",
      "3:\tlearn: 0.4187373\ttotal: 435ms\tremaining: 1m 48s\n",
      "4:\tlearn: 0.4141264\ttotal: 513ms\tremaining: 1m 42s\n",
      "5:\tlearn: 0.4102372\ttotal: 620ms\tremaining: 1m 42s\n",
      "6:\tlearn: 0.4069516\ttotal: 685ms\tremaining: 1m 37s\n",
      "7:\tlearn: 0.4033192\ttotal: 751ms\tremaining: 1m 33s\n",
      "8:\tlearn: 0.4001678\ttotal: 841ms\tremaining: 1m 32s\n",
      "9:\tlearn: 0.3969944\ttotal: 948ms\tremaining: 1m 33s\n",
      "10:\tlearn: 0.3939326\ttotal: 1.04s\tremaining: 1m 33s\n",
      "11:\tlearn: 0.3911068\ttotal: 1.12s\tremaining: 1m 32s\n",
      "12:\tlearn: 0.3887150\ttotal: 1.21s\tremaining: 1m 31s\n",
      "13:\tlearn: 0.3864320\ttotal: 1.29s\tremaining: 1m 31s\n",
      "14:\tlearn: 0.3843373\ttotal: 1.38s\tremaining: 1m 30s\n",
      "15:\tlearn: 0.3826398\ttotal: 1.46s\tremaining: 1m 29s\n",
      "16:\tlearn: 0.3810693\ttotal: 1.56s\tremaining: 1m 30s\n",
      "17:\tlearn: 0.3795420\ttotal: 1.66s\tremaining: 1m 30s\n",
      "18:\tlearn: 0.3778566\ttotal: 1.76s\tremaining: 1m 30s\n",
      "19:\tlearn: 0.3766198\ttotal: 1.85s\tremaining: 1m 30s\n",
      "20:\tlearn: 0.3754141\ttotal: 1.98s\tremaining: 1m 32s\n",
      "21:\tlearn: 0.3742544\ttotal: 2.08s\tremaining: 1m 32s\n",
      "22:\tlearn: 0.3730646\ttotal: 2.16s\tremaining: 1m 31s\n",
      "23:\tlearn: 0.3719631\ttotal: 2.25s\tremaining: 1m 31s\n",
      "24:\tlearn: 0.3710283\ttotal: 2.34s\tremaining: 1m 31s\n",
      "25:\tlearn: 0.3703069\ttotal: 2.42s\tremaining: 1m 30s\n",
      "26:\tlearn: 0.3694904\ttotal: 2.51s\tremaining: 1m 30s\n",
      "27:\tlearn: 0.3688697\ttotal: 2.58s\tremaining: 1m 29s\n",
      "28:\tlearn: 0.3680420\ttotal: 2.67s\tremaining: 1m 29s\n",
      "29:\tlearn: 0.3674001\ttotal: 2.74s\tremaining: 1m 28s\n",
      "30:\tlearn: 0.3668657\ttotal: 2.83s\tremaining: 1m 28s\n",
      "31:\tlearn: 0.3663060\ttotal: 2.9s\tremaining: 1m 27s\n",
      "32:\tlearn: 0.3657284\ttotal: 2.98s\tremaining: 1m 27s\n",
      "33:\tlearn: 0.3652746\ttotal: 3.22s\tremaining: 1m 31s\n",
      "34:\tlearn: 0.3647188\ttotal: 3.33s\tremaining: 1m 31s\n",
      "35:\tlearn: 0.3641528\ttotal: 3.44s\tremaining: 1m 32s\n",
      "36:\tlearn: 0.3637044\ttotal: 3.53s\tremaining: 1m 31s\n",
      "37:\tlearn: 0.3632205\ttotal: 3.67s\tremaining: 1m 32s\n",
      "38:\tlearn: 0.3627801\ttotal: 3.78s\tremaining: 1m 33s\n",
      "39:\tlearn: 0.3624375\ttotal: 3.9s\tremaining: 1m 33s\n",
      "40:\tlearn: 0.3622020\ttotal: 4s\tremaining: 1m 33s\n",
      "41:\tlearn: 0.3618812\ttotal: 4.13s\tremaining: 1m 34s\n",
      "42:\tlearn: 0.3614549\ttotal: 4.28s\tremaining: 1m 35s\n",
      "43:\tlearn: 0.3611509\ttotal: 4.37s\tremaining: 1m 34s\n",
      "44:\tlearn: 0.3608666\ttotal: 4.47s\tremaining: 1m 34s\n",
      "45:\tlearn: 0.3604360\ttotal: 4.55s\tremaining: 1m 34s\n",
      "46:\tlearn: 0.3602860\ttotal: 4.63s\tremaining: 1m 33s\n",
      "47:\tlearn: 0.3600468\ttotal: 4.7s\tremaining: 1m 33s\n",
      "48:\tlearn: 0.3598686\ttotal: 4.77s\tremaining: 1m 32s\n",
      "49:\tlearn: 0.3594805\ttotal: 4.84s\tremaining: 1m 32s\n",
      "50:\tlearn: 0.3592865\ttotal: 4.92s\tremaining: 1m 31s\n",
      "51:\tlearn: 0.3588943\ttotal: 4.99s\tremaining: 1m 30s\n",
      "52:\tlearn: 0.3587292\ttotal: 5.06s\tremaining: 1m 30s\n",
      "53:\tlearn: 0.3584336\ttotal: 5.13s\tremaining: 1m 29s\n",
      "54:\tlearn: 0.3581568\ttotal: 5.2s\tremaining: 1m 29s\n",
      "55:\tlearn: 0.3579233\ttotal: 5.27s\tremaining: 1m 28s\n",
      "56:\tlearn: 0.3577221\ttotal: 5.37s\tremaining: 1m 28s\n",
      "57:\tlearn: 0.3574878\ttotal: 5.49s\tremaining: 1m 29s\n",
      "58:\tlearn: 0.3574010\ttotal: 5.53s\tremaining: 1m 28s\n",
      "59:\tlearn: 0.3572176\ttotal: 5.62s\tremaining: 1m 28s\n",
      "60:\tlearn: 0.3570413\ttotal: 5.7s\tremaining: 1m 27s\n",
      "61:\tlearn: 0.3569637\ttotal: 5.79s\tremaining: 1m 27s\n",
      "62:\tlearn: 0.3567915\ttotal: 5.96s\tremaining: 1m 28s\n",
      "63:\tlearn: 0.3567682\ttotal: 6.06s\tremaining: 1m 28s\n",
      "64:\tlearn: 0.3567264\ttotal: 6.16s\tremaining: 1m 28s\n",
      "65:\tlearn: 0.3566206\ttotal: 6.24s\tremaining: 1m 28s\n",
      "66:\tlearn: 0.3565671\ttotal: 6.29s\tremaining: 1m 27s\n",
      "67:\tlearn: 0.3564676\ttotal: 6.36s\tremaining: 1m 27s\n",
      "68:\tlearn: 0.3564476\ttotal: 6.44s\tremaining: 1m 26s\n",
      "69:\tlearn: 0.3562957\ttotal: 6.49s\tremaining: 1m 26s\n",
      "70:\tlearn: 0.3562704\ttotal: 6.55s\tremaining: 1m 25s\n",
      "71:\tlearn: 0.3562549\ttotal: 6.59s\tremaining: 1m 25s\n",
      "72:\tlearn: 0.3562001\ttotal: 6.67s\tremaining: 1m 24s\n",
      "73:\tlearn: 0.3561778\ttotal: 6.75s\tremaining: 1m 24s\n",
      "74:\tlearn: 0.3560823\ttotal: 6.82s\tremaining: 1m 24s\n",
      "75:\tlearn: 0.3560508\ttotal: 6.89s\tremaining: 1m 23s\n",
      "76:\tlearn: 0.3560092\ttotal: 6.98s\tremaining: 1m 23s\n",
      "77:\tlearn: 0.3559075\ttotal: 7.05s\tremaining: 1m 23s\n",
      "78:\tlearn: 0.3558834\ttotal: 7.13s\tremaining: 1m 23s\n",
      "79:\tlearn: 0.3558596\ttotal: 7.21s\tremaining: 1m 22s\n",
      "80:\tlearn: 0.3558404\ttotal: 7.29s\tremaining: 1m 22s\n",
      "81:\tlearn: 0.3558152\ttotal: 7.36s\tremaining: 1m 22s\n",
      "82:\tlearn: 0.3558008\ttotal: 7.54s\tremaining: 1m 23s\n",
      "83:\tlearn: 0.3557788\ttotal: 7.62s\tremaining: 1m 23s\n",
      "84:\tlearn: 0.3557391\ttotal: 7.69s\tremaining: 1m 22s\n",
      "85:\tlearn: 0.3556965\ttotal: 7.79s\tremaining: 1m 22s\n",
      "86:\tlearn: 0.3556777\ttotal: 7.9s\tremaining: 1m 22s\n",
      "87:\tlearn: 0.3555421\ttotal: 7.98s\tremaining: 1m 22s\n",
      "88:\tlearn: 0.3555208\ttotal: 8.06s\tremaining: 1m 22s\n",
      "89:\tlearn: 0.3554976\ttotal: 8.15s\tremaining: 1m 22s\n",
      "90:\tlearn: 0.3554700\ttotal: 8.26s\tremaining: 1m 22s\n",
      "91:\tlearn: 0.3554019\ttotal: 8.36s\tremaining: 1m 22s\n",
      "92:\tlearn: 0.3552063\ttotal: 8.44s\tremaining: 1m 22s\n",
      "93:\tlearn: 0.3551819\ttotal: 8.53s\tremaining: 1m 22s\n",
      "94:\tlearn: 0.3551638\ttotal: 8.65s\tremaining: 1m 22s\n",
      "95:\tlearn: 0.3551340\ttotal: 8.74s\tremaining: 1m 22s\n",
      "96:\tlearn: 0.3551103\ttotal: 8.82s\tremaining: 1m 22s\n",
      "97:\tlearn: 0.3550031\ttotal: 8.93s\tremaining: 1m 22s\n",
      "98:\tlearn: 0.3549813\ttotal: 9.03s\tremaining: 1m 22s\n",
      "99:\tlearn: 0.3549677\ttotal: 9.1s\tremaining: 1m 21s\n",
      "100:\tlearn: 0.3548944\ttotal: 9.18s\tremaining: 1m 21s\n",
      "101:\tlearn: 0.3548776\ttotal: 9.25s\tremaining: 1m 21s\n",
      "102:\tlearn: 0.3548544\ttotal: 9.34s\tremaining: 1m 21s\n",
      "103:\tlearn: 0.3548152\ttotal: 9.44s\tremaining: 1m 21s\n",
      "104:\tlearn: 0.3547930\ttotal: 9.56s\tremaining: 1m 21s\n",
      "105:\tlearn: 0.3547380\ttotal: 9.67s\tremaining: 1m 21s\n",
      "106:\tlearn: 0.3544584\ttotal: 9.76s\tremaining: 1m 21s\n",
      "107:\tlearn: 0.3544446\ttotal: 9.81s\tremaining: 1m 21s\n",
      "108:\tlearn: 0.3544064\ttotal: 9.9s\tremaining: 1m 20s\n",
      "109:\tlearn: 0.3543460\ttotal: 10s\tremaining: 1m 20s\n",
      "110:\tlearn: 0.3543194\ttotal: 10.1s\tremaining: 1m 20s\n",
      "111:\tlearn: 0.3543010\ttotal: 10.2s\tremaining: 1m 20s\n",
      "112:\tlearn: 0.3542784\ttotal: 10.2s\tremaining: 1m 20s\n",
      "113:\tlearn: 0.3542597\ttotal: 10.3s\tremaining: 1m 20s\n",
      "114:\tlearn: 0.3542334\ttotal: 10.4s\tremaining: 1m 19s\n",
      "115:\tlearn: 0.3542077\ttotal: 10.5s\tremaining: 1m 19s\n",
      "116:\tlearn: 0.3541877\ttotal: 10.5s\tremaining: 1m 19s\n",
      "117:\tlearn: 0.3541613\ttotal: 10.6s\tremaining: 1m 19s\n",
      "118:\tlearn: 0.3541379\ttotal: 10.7s\tremaining: 1m 18s\n",
      "119:\tlearn: 0.3541127\ttotal: 10.8s\tremaining: 1m 18s\n",
      "120:\tlearn: 0.3540825\ttotal: 10.8s\tremaining: 1m 18s\n",
      "121:\tlearn: 0.3540552\ttotal: 10.9s\tremaining: 1m 18s\n",
      "122:\tlearn: 0.3539872\ttotal: 11s\tremaining: 1m 18s\n",
      "123:\tlearn: 0.3539686\ttotal: 11s\tremaining: 1m 17s\n",
      "124:\tlearn: 0.3539383\ttotal: 11.1s\tremaining: 1m 17s\n",
      "125:\tlearn: 0.3539189\ttotal: 11.2s\tremaining: 1m 17s\n",
      "126:\tlearn: 0.3538368\ttotal: 11.2s\tremaining: 1m 17s\n",
      "127:\tlearn: 0.3538062\ttotal: 11.3s\tremaining: 1m 16s\n",
      "128:\tlearn: 0.3537847\ttotal: 11.4s\tremaining: 1m 16s\n",
      "129:\tlearn: 0.3537693\ttotal: 11.4s\tremaining: 1m 16s\n",
      "130:\tlearn: 0.3537430\ttotal: 11.6s\tremaining: 1m 16s\n",
      "131:\tlearn: 0.3537264\ttotal: 11.6s\tremaining: 1m 16s\n",
      "132:\tlearn: 0.3537106\ttotal: 11.7s\tremaining: 1m 16s\n",
      "133:\tlearn: 0.3536821\ttotal: 11.8s\tremaining: 1m 16s\n",
      "134:\tlearn: 0.3536679\ttotal: 11.9s\tremaining: 1m 16s\n",
      "135:\tlearn: 0.3536419\ttotal: 12s\tremaining: 1m 15s\n",
      "136:\tlearn: 0.3536212\ttotal: 12s\tremaining: 1m 15s\n",
      "137:\tlearn: 0.3533287\ttotal: 12.1s\tremaining: 1m 15s\n",
      "138:\tlearn: 0.3533065\ttotal: 12.2s\tremaining: 1m 15s\n",
      "139:\tlearn: 0.3532886\ttotal: 12.2s\tremaining: 1m 15s\n",
      "140:\tlearn: 0.3532661\ttotal: 12.3s\tremaining: 1m 15s\n",
      "141:\tlearn: 0.3532398\ttotal: 12.4s\tremaining: 1m 14s\n",
      "142:\tlearn: 0.3532209\ttotal: 12.5s\tremaining: 1m 14s\n",
      "143:\tlearn: 0.3531978\ttotal: 12.5s\tremaining: 1m 14s\n",
      "144:\tlearn: 0.3531669\ttotal: 12.6s\tremaining: 1m 14s\n",
      "145:\tlearn: 0.3531409\ttotal: 12.7s\tremaining: 1m 14s\n",
      "146:\tlearn: 0.3531157\ttotal: 12.7s\tremaining: 1m 13s\n",
      "147:\tlearn: 0.3530925\ttotal: 12.8s\tremaining: 1m 13s\n",
      "148:\tlearn: 0.3530289\ttotal: 12.9s\tremaining: 1m 13s\n",
      "149:\tlearn: 0.3530011\ttotal: 12.9s\tremaining: 1m 13s\n",
      "150:\tlearn: 0.3529756\ttotal: 13s\tremaining: 1m 13s\n",
      "151:\tlearn: 0.3529533\ttotal: 13.1s\tremaining: 1m 12s\n",
      "152:\tlearn: 0.3529283\ttotal: 13.2s\tremaining: 1m 12s\n",
      "153:\tlearn: 0.3529075\ttotal: 13.2s\tremaining: 1m 12s\n",
      "154:\tlearn: 0.3528805\ttotal: 13.3s\tremaining: 1m 12s\n",
      "155:\tlearn: 0.3528485\ttotal: 13.4s\tremaining: 1m 12s\n",
      "156:\tlearn: 0.3528273\ttotal: 13.4s\tremaining: 1m 12s\n",
      "157:\tlearn: 0.3527902\ttotal: 13.5s\tremaining: 1m 11s\n",
      "158:\tlearn: 0.3527638\ttotal: 13.6s\tremaining: 1m 11s\n",
      "159:\tlearn: 0.3527397\ttotal: 13.6s\tremaining: 1m 11s\n",
      "160:\tlearn: 0.3527149\ttotal: 13.7s\tremaining: 1m 11s\n",
      "161:\tlearn: 0.3526881\ttotal: 13.8s\tremaining: 1m 11s\n",
      "162:\tlearn: 0.3526649\ttotal: 13.8s\tremaining: 1m 10s\n",
      "163:\tlearn: 0.3526329\ttotal: 13.9s\tremaining: 1m 10s\n",
      "164:\tlearn: 0.3526054\ttotal: 14s\tremaining: 1m 10s\n",
      "165:\tlearn: 0.3525800\ttotal: 14s\tremaining: 1m 10s\n",
      "166:\tlearn: 0.3525512\ttotal: 14.1s\tremaining: 1m 10s\n",
      "167:\tlearn: 0.3525095\ttotal: 14.1s\tremaining: 1m 10s\n",
      "168:\tlearn: 0.3524865\ttotal: 14.2s\tremaining: 1m 9s\n",
      "169:\tlearn: 0.3524570\ttotal: 14.3s\tremaining: 1m 9s\n",
      "170:\tlearn: 0.3524236\ttotal: 14.3s\tremaining: 1m 9s\n",
      "171:\tlearn: 0.3523883\ttotal: 14.4s\tremaining: 1m 9s\n",
      "172:\tlearn: 0.3523568\ttotal: 14.5s\tremaining: 1m 9s\n",
      "173:\tlearn: 0.3523211\ttotal: 14.5s\tremaining: 1m 9s\n",
      "174:\tlearn: 0.3522870\ttotal: 14.6s\tremaining: 1m 8s\n",
      "175:\tlearn: 0.3522491\ttotal: 14.7s\tremaining: 1m 8s\n",
      "176:\tlearn: 0.3522149\ttotal: 14.7s\tremaining: 1m 8s\n",
      "177:\tlearn: 0.3521806\ttotal: 14.8s\tremaining: 1m 8s\n",
      "178:\tlearn: 0.3521480\ttotal: 14.8s\tremaining: 1m 8s\n",
      "179:\tlearn: 0.3521011\ttotal: 14.9s\tremaining: 1m 7s\n",
      "180:\tlearn: 0.3520671\ttotal: 15s\tremaining: 1m 7s\n",
      "181:\tlearn: 0.3520281\ttotal: 15s\tremaining: 1m 7s\n",
      "182:\tlearn: 0.3519925\ttotal: 15.1s\tremaining: 1m 7s\n",
      "183:\tlearn: 0.3519591\ttotal: 15.2s\tremaining: 1m 7s\n",
      "184:\tlearn: 0.3519275\ttotal: 15.3s\tremaining: 1m 7s\n",
      "185:\tlearn: 0.3518941\ttotal: 15.3s\tremaining: 1m 7s\n",
      "186:\tlearn: 0.3518597\ttotal: 15.4s\tremaining: 1m 6s\n",
      "187:\tlearn: 0.3518146\ttotal: 15.4s\tremaining: 1m 6s\n",
      "188:\tlearn: 0.3517704\ttotal: 15.5s\tremaining: 1m 6s\n",
      "189:\tlearn: 0.3515420\ttotal: 15.6s\tremaining: 1m 6s\n",
      "190:\tlearn: 0.3515039\ttotal: 15.6s\tremaining: 1m 6s\n",
      "191:\tlearn: 0.3514698\ttotal: 15.7s\tremaining: 1m 6s\n",
      "192:\tlearn: 0.3514351\ttotal: 15.7s\tremaining: 1m 5s\n",
      "193:\tlearn: 0.3514014\ttotal: 15.8s\tremaining: 1m 5s\n",
      "194:\tlearn: 0.3513667\ttotal: 15.9s\tremaining: 1m 5s\n",
      "195:\tlearn: 0.3513140\ttotal: 15.9s\tremaining: 1m 5s\n",
      "196:\tlearn: 0.3512700\ttotal: 16s\tremaining: 1m 5s\n",
      "197:\tlearn: 0.3512309\ttotal: 16.1s\tremaining: 1m 5s\n",
      "198:\tlearn: 0.3511966\ttotal: 16.2s\tremaining: 1m 5s\n",
      "199:\tlearn: 0.3511618\ttotal: 16.3s\tremaining: 1m 5s\n",
      "200:\tlearn: 0.3511296\ttotal: 16.3s\tremaining: 1m 4s\n",
      "201:\tlearn: 0.3510957\ttotal: 16.4s\tremaining: 1m 4s\n",
      "202:\tlearn: 0.3510616\ttotal: 16.4s\tremaining: 1m 4s\n",
      "203:\tlearn: 0.3510275\ttotal: 16.5s\tremaining: 1m 4s\n",
      "204:\tlearn: 0.3509834\ttotal: 16.6s\tremaining: 1m 4s\n",
      "205:\tlearn: 0.3509491\ttotal: 16.7s\tremaining: 1m 4s\n",
      "206:\tlearn: 0.3509150\ttotal: 16.8s\tremaining: 1m 4s\n",
      "207:\tlearn: 0.3508772\ttotal: 16.8s\tremaining: 1m 4s\n",
      "208:\tlearn: 0.3508314\ttotal: 16.9s\tremaining: 1m 4s\n",
      "209:\tlearn: 0.3507983\ttotal: 17s\tremaining: 1m 4s\n",
      "210:\tlearn: 0.3507649\ttotal: 17.1s\tremaining: 1m 4s\n",
      "211:\tlearn: 0.3507314\ttotal: 17.2s\tremaining: 1m 4s\n",
      "212:\tlearn: 0.3506951\ttotal: 17.3s\tremaining: 1m 3s\n",
      "213:\tlearn: 0.3506619\ttotal: 17.4s\tremaining: 1m 3s\n",
      "214:\tlearn: 0.3506176\ttotal: 17.5s\tremaining: 1m 3s\n",
      "215:\tlearn: 0.3505847\ttotal: 17.5s\tremaining: 1m 3s\n",
      "216:\tlearn: 0.3505434\ttotal: 17.6s\tremaining: 1m 3s\n",
      "217:\tlearn: 0.3505072\ttotal: 17.7s\tremaining: 1m 3s\n",
      "218:\tlearn: 0.3504740\ttotal: 17.8s\tremaining: 1m 3s\n",
      "219:\tlearn: 0.3504412\ttotal: 17.8s\tremaining: 1m 3s\n",
      "220:\tlearn: 0.3504084\ttotal: 17.9s\tremaining: 1m 3s\n",
      "221:\tlearn: 0.3503756\ttotal: 18s\tremaining: 1m 3s\n",
      "222:\tlearn: 0.3503433\ttotal: 18.1s\tremaining: 1m 2s\n",
      "223:\tlearn: 0.3503108\ttotal: 18.1s\tremaining: 1m 2s\n",
      "224:\tlearn: 0.3502785\ttotal: 18.2s\tremaining: 1m 2s\n",
      "225:\tlearn: 0.3502463\ttotal: 18.3s\tremaining: 1m 2s\n",
      "226:\tlearn: 0.3502141\ttotal: 18.3s\tremaining: 1m 2s\n",
      "227:\tlearn: 0.3501823\ttotal: 18.4s\tremaining: 1m 2s\n",
      "228:\tlearn: 0.3501503\ttotal: 18.5s\tremaining: 1m 2s\n",
      "229:\tlearn: 0.3501184\ttotal: 18.5s\tremaining: 1m 2s\n",
      "230:\tlearn: 0.3500864\ttotal: 18.6s\tremaining: 1m 1s\n",
      "231:\tlearn: 0.3500548\ttotal: 18.7s\tremaining: 1m 1s\n",
      "232:\tlearn: 0.3500228\ttotal: 18.7s\tremaining: 1m 1s\n",
      "233:\tlearn: 0.3499691\ttotal: 18.8s\tremaining: 1m 1s\n",
      "234:\tlearn: 0.3499374\ttotal: 18.9s\tremaining: 1m 1s\n",
      "235:\tlearn: 0.3499058\ttotal: 19s\tremaining: 1m 1s\n",
      "236:\tlearn: 0.3496683\ttotal: 19.1s\tremaining: 1m 1s\n",
      "237:\tlearn: 0.3496368\ttotal: 19.2s\tremaining: 1m 1s\n",
      "238:\tlearn: 0.3496055\ttotal: 19.2s\tremaining: 1m 1s\n",
      "239:\tlearn: 0.3495740\ttotal: 19.3s\tremaining: 1m 1s\n",
      "240:\tlearn: 0.3495425\ttotal: 19.4s\tremaining: 1m\n",
      "241:\tlearn: 0.3495112\ttotal: 19.4s\tremaining: 1m\n",
      "242:\tlearn: 0.3494801\ttotal: 19.5s\tremaining: 1m\n",
      "243:\tlearn: 0.3494306\ttotal: 19.6s\tremaining: 1m\n",
      "244:\tlearn: 0.3493996\ttotal: 19.7s\tremaining: 1m\n",
      "245:\tlearn: 0.3493684\ttotal: 19.8s\tremaining: 1m\n",
      "246:\tlearn: 0.3493373\ttotal: 19.8s\tremaining: 1m\n",
      "247:\tlearn: 0.3493063\ttotal: 19.9s\tremaining: 1m\n",
      "248:\tlearn: 0.3492753\ttotal: 20s\tremaining: 1m\n",
      "249:\tlearn: 0.3492444\ttotal: 20.1s\tremaining: 1m\n",
      "250:\tlearn: 0.3492135\ttotal: 20.2s\tremaining: 1m\n",
      "251:\tlearn: 0.3491826\ttotal: 20.3s\tremaining: 1m\n",
      "252:\tlearn: 0.3491518\ttotal: 20.4s\tremaining: 1m\n",
      "253:\tlearn: 0.3491211\ttotal: 20.4s\tremaining: 1m\n",
      "254:\tlearn: 0.3490903\ttotal: 20.5s\tremaining: 60s\n",
      "255:\tlearn: 0.3490597\ttotal: 20.6s\tremaining: 59.9s\n",
      "256:\tlearn: 0.3490290\ttotal: 20.7s\tremaining: 59.8s\n",
      "257:\tlearn: 0.3489985\ttotal: 20.8s\tremaining: 59.7s\n",
      "258:\tlearn: 0.3489681\ttotal: 20.8s\tremaining: 59.6s\n",
      "259:\tlearn: 0.3489376\ttotal: 20.9s\tremaining: 59.6s\n",
      "260:\tlearn: 0.3489073\ttotal: 21s\tremaining: 59.5s\n",
      "261:\tlearn: 0.3488769\ttotal: 21.1s\tremaining: 59.4s\n",
      "262:\tlearn: 0.3486318\ttotal: 21.1s\tremaining: 59.2s\n",
      "263:\tlearn: 0.3486014\ttotal: 21.2s\tremaining: 59.1s\n",
      "264:\tlearn: 0.3485711\ttotal: 21.3s\tremaining: 59s\n",
      "265:\tlearn: 0.3485409\ttotal: 21.3s\tremaining: 58.9s\n",
      "266:\tlearn: 0.3485106\ttotal: 21.4s\tremaining: 58.7s\n",
      "267:\tlearn: 0.3484804\ttotal: 21.5s\tremaining: 58.6s\n",
      "268:\tlearn: 0.3484502\ttotal: 21.5s\tremaining: 58.5s\n",
      "269:\tlearn: 0.3484201\ttotal: 21.6s\tremaining: 58.4s\n",
      "270:\tlearn: 0.3483900\ttotal: 21.7s\tremaining: 58.3s\n",
      "271:\tlearn: 0.3483600\ttotal: 21.7s\tremaining: 58.2s\n",
      "272:\tlearn: 0.3483299\ttotal: 21.8s\tremaining: 58s\n",
      "273:\tlearn: 0.3482999\ttotal: 21.9s\tremaining: 57.9s\n",
      "274:\tlearn: 0.3482700\ttotal: 21.9s\tremaining: 57.8s\n",
      "275:\tlearn: 0.3482201\ttotal: 22s\tremaining: 57.7s\n",
      "276:\tlearn: 0.3481902\ttotal: 22s\tremaining: 57.5s\n",
      "277:\tlearn: 0.3481604\ttotal: 22.1s\tremaining: 57.4s\n",
      "278:\tlearn: 0.3481306\ttotal: 22.2s\tremaining: 57.3s\n",
      "279:\tlearn: 0.3481009\ttotal: 22.3s\tremaining: 57.2s\n",
      "280:\tlearn: 0.3480712\ttotal: 22.3s\tremaining: 57.1s\n",
      "281:\tlearn: 0.3480415\ttotal: 22.4s\tremaining: 57s\n",
      "282:\tlearn: 0.3480120\ttotal: 22.5s\tremaining: 56.9s\n",
      "283:\tlearn: 0.3479825\ttotal: 22.5s\tremaining: 56.8s\n",
      "284:\tlearn: 0.3479530\ttotal: 22.6s\tremaining: 56.7s\n",
      "285:\tlearn: 0.3479234\ttotal: 22.7s\tremaining: 56.7s\n",
      "286:\tlearn: 0.3478939\ttotal: 22.8s\tremaining: 56.6s\n",
      "287:\tlearn: 0.3478645\ttotal: 22.8s\tremaining: 56.5s\n",
      "288:\tlearn: 0.3478350\ttotal: 22.9s\tremaining: 56.4s\n",
      "289:\tlearn: 0.3478056\ttotal: 23s\tremaining: 56.3s\n",
      "290:\tlearn: 0.3477763\ttotal: 23.1s\tremaining: 56.2s\n",
      "291:\tlearn: 0.3477469\ttotal: 23.1s\tremaining: 56.1s\n",
      "292:\tlearn: 0.3477176\ttotal: 23.2s\tremaining: 56s\n",
      "293:\tlearn: 0.3476884\ttotal: 23.3s\tremaining: 55.9s\n",
      "294:\tlearn: 0.3476591\ttotal: 23.3s\tremaining: 55.7s\n",
      "295:\tlearn: 0.3476299\ttotal: 23.4s\tremaining: 55.6s\n",
      "296:\tlearn: 0.3476007\ttotal: 23.4s\tremaining: 55.5s\n",
      "297:\tlearn: 0.3475716\ttotal: 23.5s\tremaining: 55.4s\n",
      "298:\tlearn: 0.3475426\ttotal: 23.6s\tremaining: 55.3s\n",
      "299:\tlearn: 0.3475135\ttotal: 23.6s\tremaining: 55.2s\n",
      "300:\tlearn: 0.3474845\ttotal: 23.7s\tremaining: 55s\n",
      "301:\tlearn: 0.3474555\ttotal: 23.8s\tremaining: 54.9s\n",
      "302:\tlearn: 0.3474266\ttotal: 23.8s\tremaining: 54.8s\n",
      "303:\tlearn: 0.3473732\ttotal: 23.9s\tremaining: 54.7s\n",
      "304:\tlearn: 0.3473444\ttotal: 24s\tremaining: 54.6s\n",
      "305:\tlearn: 0.3473155\ttotal: 24s\tremaining: 54.5s\n",
      "306:\tlearn: 0.3472866\ttotal: 24.1s\tremaining: 54.4s\n",
      "307:\tlearn: 0.3472577\ttotal: 24.2s\tremaining: 54.3s\n",
      "308:\tlearn: 0.3472289\ttotal: 24.2s\tremaining: 54.2s\n",
      "309:\tlearn: 0.3472001\ttotal: 24.3s\tremaining: 54s\n",
      "310:\tlearn: 0.3469677\ttotal: 24.3s\tremaining: 53.9s\n",
      "311:\tlearn: 0.3469389\ttotal: 24.4s\tremaining: 53.8s\n",
      "312:\tlearn: 0.3469101\ttotal: 24.5s\tremaining: 53.7s\n",
      "313:\tlearn: 0.3468814\ttotal: 24.6s\tremaining: 53.6s\n",
      "314:\tlearn: 0.3468526\ttotal: 24.6s\tremaining: 53.6s\n",
      "315:\tlearn: 0.3468239\ttotal: 24.7s\tremaining: 53.5s\n",
      "316:\tlearn: 0.3467953\ttotal: 24.8s\tremaining: 53.4s\n",
      "317:\tlearn: 0.3467666\ttotal: 24.9s\tremaining: 53.3s\n",
      "318:\tlearn: 0.3467380\ttotal: 24.9s\tremaining: 53.2s\n",
      "319:\tlearn: 0.3467094\ttotal: 25s\tremaining: 53.1s\n",
      "320:\tlearn: 0.3466808\ttotal: 25s\tremaining: 53s\n",
      "321:\tlearn: 0.3466524\ttotal: 25.1s\tremaining: 52.9s\n",
      "322:\tlearn: 0.3466239\ttotal: 25.2s\tremaining: 52.8s\n",
      "323:\tlearn: 0.3465955\ttotal: 25.2s\tremaining: 52.7s\n",
      "324:\tlearn: 0.3465672\ttotal: 25.3s\tremaining: 52.5s\n",
      "325:\tlearn: 0.3465389\ttotal: 25.3s\tremaining: 52.4s\n",
      "326:\tlearn: 0.3465105\ttotal: 25.4s\tremaining: 52.3s\n",
      "327:\tlearn: 0.3464836\ttotal: 25.5s\tremaining: 52.2s\n",
      "328:\tlearn: 0.3464553\ttotal: 25.5s\tremaining: 52.1s\n",
      "329:\tlearn: 0.3464270\ttotal: 25.6s\tremaining: 52s\n",
      "330:\tlearn: 0.3463987\ttotal: 25.7s\tremaining: 51.9s\n",
      "331:\tlearn: 0.3463705\ttotal: 25.7s\tremaining: 51.8s\n",
      "332:\tlearn: 0.3463422\ttotal: 25.8s\tremaining: 51.7s\n",
      "333:\tlearn: 0.3463140\ttotal: 25.9s\tremaining: 51.6s\n",
      "334:\tlearn: 0.3462858\ttotal: 25.9s\tremaining: 51.5s\n",
      "335:\tlearn: 0.3462577\ttotal: 26s\tremaining: 51.4s\n",
      "336:\tlearn: 0.3462297\ttotal: 26.1s\tremaining: 51.3s\n",
      "337:\tlearn: 0.3462016\ttotal: 26.1s\tremaining: 51.2s\n",
      "338:\tlearn: 0.3461736\ttotal: 26.2s\tremaining: 51.1s\n",
      "339:\tlearn: 0.3461455\ttotal: 26.3s\tremaining: 51s\n",
      "340:\tlearn: 0.3461175\ttotal: 26.3s\tremaining: 50.9s\n",
      "341:\tlearn: 0.3460895\ttotal: 26.4s\tremaining: 50.8s\n",
      "342:\tlearn: 0.3460615\ttotal: 26.5s\tremaining: 50.7s\n",
      "343:\tlearn: 0.3460336\ttotal: 26.5s\tremaining: 50.6s\n",
      "344:\tlearn: 0.3459860\ttotal: 26.6s\tremaining: 50.5s\n",
      "345:\tlearn: 0.3459581\ttotal: 26.6s\tremaining: 50.4s\n",
      "346:\tlearn: 0.3459302\ttotal: 26.7s\tremaining: 50.3s\n",
      "347:\tlearn: 0.3459023\ttotal: 26.8s\tremaining: 50.1s\n",
      "348:\tlearn: 0.3458745\ttotal: 26.8s\tremaining: 50s\n",
      "349:\tlearn: 0.3458467\ttotal: 26.9s\tremaining: 49.9s\n",
      "350:\tlearn: 0.3458190\ttotal: 27s\tremaining: 49.8s\n",
      "351:\tlearn: 0.3457912\ttotal: 27s\tremaining: 49.7s\n",
      "352:\tlearn: 0.3457635\ttotal: 27.1s\tremaining: 49.7s\n",
      "353:\tlearn: 0.3457358\ttotal: 27.2s\tremaining: 49.6s\n",
      "354:\tlearn: 0.3457082\ttotal: 27.2s\tremaining: 49.5s\n",
      "355:\tlearn: 0.3456806\ttotal: 27.3s\tremaining: 49.4s\n",
      "356:\tlearn: 0.3456530\ttotal: 27.4s\tremaining: 49.3s\n",
      "357:\tlearn: 0.3456254\ttotal: 27.4s\tremaining: 49.2s\n",
      "358:\tlearn: 0.3455550\ttotal: 27.5s\tremaining: 49.1s\n",
      "359:\tlearn: 0.3455275\ttotal: 27.6s\tremaining: 49s\n",
      "360:\tlearn: 0.3454999\ttotal: 27.6s\tremaining: 48.9s\n",
      "361:\tlearn: 0.3454724\ttotal: 27.7s\tremaining: 48.8s\n",
      "362:\tlearn: 0.3454448\ttotal: 27.8s\tremaining: 48.7s\n",
      "363:\tlearn: 0.3454173\ttotal: 27.8s\tremaining: 48.6s\n",
      "364:\tlearn: 0.3453899\ttotal: 27.9s\tremaining: 48.5s\n",
      "365:\tlearn: 0.3453631\ttotal: 27.9s\tremaining: 48.4s\n",
      "366:\tlearn: 0.3453357\ttotal: 28s\tremaining: 48.3s\n",
      "367:\tlearn: 0.3453084\ttotal: 28.1s\tremaining: 48.2s\n",
      "368:\tlearn: 0.3452810\ttotal: 28.1s\tremaining: 48.1s\n",
      "369:\tlearn: 0.3452537\ttotal: 28.2s\tremaining: 48s\n",
      "370:\tlearn: 0.3452263\ttotal: 28.3s\tremaining: 47.9s\n",
      "371:\tlearn: 0.3451989\ttotal: 28.3s\tremaining: 47.9s\n",
      "372:\tlearn: 0.3451717\ttotal: 28.4s\tremaining: 47.7s\n",
      "373:\tlearn: 0.3451443\ttotal: 28.4s\tremaining: 47.6s\n",
      "374:\tlearn: 0.3451170\ttotal: 28.5s\tremaining: 47.5s\n",
      "375:\tlearn: 0.3450898\ttotal: 28.5s\tremaining: 47.4s\n",
      "376:\tlearn: 0.3450626\ttotal: 28.6s\tremaining: 47.2s\n",
      "377:\tlearn: 0.3450354\ttotal: 28.6s\tremaining: 47.1s\n",
      "378:\tlearn: 0.3450082\ttotal: 28.7s\tremaining: 47s\n",
      "379:\tlearn: 0.3449811\ttotal: 28.8s\tremaining: 47s\n",
      "380:\tlearn: 0.3449540\ttotal: 28.9s\tremaining: 46.9s\n",
      "381:\tlearn: 0.3449269\ttotal: 28.9s\tremaining: 46.8s\n",
      "382:\tlearn: 0.3448997\ttotal: 29s\tremaining: 46.7s\n",
      "383:\tlearn: 0.3448727\ttotal: 29s\tremaining: 46.6s\n",
      "384:\tlearn: 0.3448457\ttotal: 29.1s\tremaining: 46.5s\n",
      "385:\tlearn: 0.3448187\ttotal: 29.2s\tremaining: 46.5s\n",
      "386:\tlearn: 0.3447916\ttotal: 29.3s\tremaining: 46.4s\n",
      "387:\tlearn: 0.3447655\ttotal: 29.3s\tremaining: 46.3s\n",
      "388:\tlearn: 0.3447385\ttotal: 29.4s\tremaining: 46.2s\n",
      "389:\tlearn: 0.3447116\ttotal: 29.5s\tremaining: 46.1s\n",
      "390:\tlearn: 0.3446847\ttotal: 29.5s\tremaining: 46s\n",
      "391:\tlearn: 0.3446577\ttotal: 29.6s\tremaining: 45.9s\n",
      "392:\tlearn: 0.3446308\ttotal: 29.6s\tremaining: 45.8s\n",
      "393:\tlearn: 0.3446039\ttotal: 29.7s\tremaining: 45.7s\n",
      "394:\tlearn: 0.3445771\ttotal: 29.8s\tremaining: 45.6s\n",
      "395:\tlearn: 0.3445502\ttotal: 29.9s\tremaining: 45.5s\n",
      "396:\tlearn: 0.3445235\ttotal: 29.9s\tremaining: 45.5s\n",
      "397:\tlearn: 0.3444967\ttotal: 30s\tremaining: 45.4s\n",
      "398:\tlearn: 0.3444699\ttotal: 30.1s\tremaining: 45.3s\n",
      "399:\tlearn: 0.3444432\ttotal: 30.1s\tremaining: 45.2s\n",
      "400:\tlearn: 0.3444165\ttotal: 30.2s\tremaining: 45.1s\n",
      "401:\tlearn: 0.3443898\ttotal: 30.3s\tremaining: 45.1s\n",
      "402:\tlearn: 0.3443631\ttotal: 30.4s\tremaining: 45s\n",
      "403:\tlearn: 0.3443365\ttotal: 30.4s\tremaining: 44.9s\n",
      "404:\tlearn: 0.3443099\ttotal: 30.5s\tremaining: 44.8s\n",
      "405:\tlearn: 0.3442833\ttotal: 30.6s\tremaining: 44.7s\n",
      "406:\tlearn: 0.3442567\ttotal: 30.6s\tremaining: 44.6s\n",
      "407:\tlearn: 0.3442157\ttotal: 30.7s\tremaining: 44.6s\n",
      "408:\tlearn: 0.3441622\ttotal: 30.8s\tremaining: 44.5s\n",
      "409:\tlearn: 0.3441356\ttotal: 30.9s\tremaining: 44.4s\n",
      "410:\tlearn: 0.3441090\ttotal: 30.9s\tremaining: 44.3s\n",
      "411:\tlearn: 0.3440825\ttotal: 31s\tremaining: 44.2s\n",
      "412:\tlearn: 0.3440559\ttotal: 31.1s\tremaining: 44.1s\n",
      "413:\tlearn: 0.3440295\ttotal: 31.1s\tremaining: 44s\n",
      "414:\tlearn: 0.3440030\ttotal: 31.2s\tremaining: 43.9s\n",
      "415:\tlearn: 0.3439765\ttotal: 31.2s\tremaining: 43.9s\n",
      "416:\tlearn: 0.3439501\ttotal: 31.3s\tremaining: 43.7s\n",
      "417:\tlearn: 0.3439237\ttotal: 31.4s\tremaining: 43.7s\n",
      "418:\tlearn: 0.3438973\ttotal: 31.4s\tremaining: 43.5s\n",
      "419:\tlearn: 0.3438710\ttotal: 31.4s\tremaining: 43.4s\n",
      "420:\tlearn: 0.3438446\ttotal: 31.5s\tremaining: 43.3s\n",
      "421:\tlearn: 0.3438183\ttotal: 31.6s\tremaining: 43.2s\n",
      "422:\tlearn: 0.3437920\ttotal: 31.6s\tremaining: 43.1s\n",
      "423:\tlearn: 0.3437656\ttotal: 31.7s\tremaining: 43s\n",
      "424:\tlearn: 0.3437394\ttotal: 31.7s\tremaining: 42.9s\n",
      "425:\tlearn: 0.3435192\ttotal: 31.8s\tremaining: 42.9s\n",
      "426:\tlearn: 0.3434928\ttotal: 31.9s\tremaining: 42.8s\n",
      "427:\tlearn: 0.3434664\ttotal: 32s\tremaining: 42.7s\n",
      "428:\tlearn: 0.3434401\ttotal: 32s\tremaining: 42.6s\n",
      "429:\tlearn: 0.3434138\ttotal: 32.1s\tremaining: 42.5s\n",
      "430:\tlearn: 0.3433876\ttotal: 32.1s\tremaining: 42.4s\n",
      "431:\tlearn: 0.3433614\ttotal: 32.2s\tremaining: 42.4s\n",
      "432:\tlearn: 0.3433351\ttotal: 32.3s\tremaining: 42.3s\n",
      "433:\tlearn: 0.3433090\ttotal: 32.4s\tremaining: 42.2s\n",
      "434:\tlearn: 0.3432828\ttotal: 32.4s\tremaining: 42.1s\n",
      "435:\tlearn: 0.3432567\ttotal: 32.5s\tremaining: 42s\n",
      "436:\tlearn: 0.3432305\ttotal: 32.5s\tremaining: 41.9s\n",
      "437:\tlearn: 0.3432044\ttotal: 32.6s\tremaining: 41.8s\n",
      "438:\tlearn: 0.3431784\ttotal: 32.7s\tremaining: 41.8s\n",
      "439:\tlearn: 0.3431523\ttotal: 32.8s\tremaining: 41.7s\n",
      "440:\tlearn: 0.3431262\ttotal: 32.8s\tremaining: 41.6s\n",
      "441:\tlearn: 0.3431001\ttotal: 32.9s\tremaining: 41.5s\n",
      "442:\tlearn: 0.3430741\ttotal: 33s\tremaining: 41.4s\n",
      "443:\tlearn: 0.3430480\ttotal: 33s\tremaining: 41.4s\n",
      "444:\tlearn: 0.3430220\ttotal: 33.1s\tremaining: 41.3s\n",
      "445:\tlearn: 0.3429960\ttotal: 33.2s\tremaining: 41.2s\n",
      "446:\tlearn: 0.3429701\ttotal: 33.2s\tremaining: 41.1s\n",
      "447:\tlearn: 0.3429442\ttotal: 33.3s\tremaining: 41s\n",
      "448:\tlearn: 0.3429182\ttotal: 33.4s\tremaining: 41s\n",
      "449:\tlearn: 0.3428923\ttotal: 33.4s\tremaining: 40.9s\n",
      "450:\tlearn: 0.3428665\ttotal: 33.5s\tremaining: 40.8s\n",
      "451:\tlearn: 0.3428406\ttotal: 33.6s\tremaining: 40.7s\n",
      "452:\tlearn: 0.3428009\ttotal: 33.6s\tremaining: 40.6s\n",
      "453:\tlearn: 0.3427750\ttotal: 33.7s\tremaining: 40.5s\n",
      "454:\tlearn: 0.3427492\ttotal: 33.8s\tremaining: 40.5s\n",
      "455:\tlearn: 0.3427234\ttotal: 33.8s\tremaining: 40.4s\n",
      "456:\tlearn: 0.3426976\ttotal: 33.9s\tremaining: 40.3s\n",
      "457:\tlearn: 0.3426718\ttotal: 34s\tremaining: 40.2s\n",
      "458:\tlearn: 0.3426460\ttotal: 34s\tremaining: 40.1s\n",
      "459:\tlearn: 0.3426203\ttotal: 34.1s\tremaining: 40s\n",
      "460:\tlearn: 0.3425945\ttotal: 34.2s\tremaining: 39.9s\n",
      "461:\tlearn: 0.3425688\ttotal: 34.2s\tremaining: 39.9s\n",
      "462:\tlearn: 0.3425430\ttotal: 34.3s\tremaining: 39.8s\n",
      "463:\tlearn: 0.3425173\ttotal: 34.4s\tremaining: 39.7s\n",
      "464:\tlearn: 0.3424917\ttotal: 34.4s\tremaining: 39.6s\n",
      "465:\tlearn: 0.3424660\ttotal: 34.5s\tremaining: 39.5s\n",
      "466:\tlearn: 0.3424404\ttotal: 34.6s\tremaining: 39.4s\n",
      "467:\tlearn: 0.3424148\ttotal: 34.6s\tremaining: 39.4s\n",
      "468:\tlearn: 0.3423892\ttotal: 34.7s\tremaining: 39.3s\n",
      "469:\tlearn: 0.3423635\ttotal: 34.7s\tremaining: 39.2s\n",
      "470:\tlearn: 0.3423379\ttotal: 34.8s\tremaining: 39.1s\n",
      "471:\tlearn: 0.3423124\ttotal: 34.9s\tremaining: 39s\n",
      "472:\tlearn: 0.3422869\ttotal: 34.9s\tremaining: 38.9s\n",
      "473:\tlearn: 0.3422614\ttotal: 35s\tremaining: 38.8s\n",
      "474:\tlearn: 0.3420052\ttotal: 35.1s\tremaining: 38.8s\n",
      "475:\tlearn: 0.3419795\ttotal: 35.2s\tremaining: 38.7s\n",
      "476:\tlearn: 0.3419539\ttotal: 35.2s\tremaining: 38.6s\n",
      "477:\tlearn: 0.3419284\ttotal: 35.3s\tremaining: 38.5s\n",
      "478:\tlearn: 0.3419029\ttotal: 35.3s\tremaining: 38.4s\n",
      "479:\tlearn: 0.3418773\ttotal: 35.4s\tremaining: 38.4s\n",
      "480:\tlearn: 0.3418519\ttotal: 35.5s\tremaining: 38.3s\n",
      "481:\tlearn: 0.3418264\ttotal: 35.5s\tremaining: 38.2s\n",
      "482:\tlearn: 0.3418009\ttotal: 35.6s\tremaining: 38.1s\n",
      "483:\tlearn: 0.3417755\ttotal: 35.7s\tremaining: 38s\n",
      "484:\tlearn: 0.3417501\ttotal: 35.8s\tremaining: 38s\n",
      "485:\tlearn: 0.3417247\ttotal: 35.8s\tremaining: 37.9s\n",
      "486:\tlearn: 0.3416993\ttotal: 35.9s\tremaining: 37.8s\n",
      "487:\tlearn: 0.3416739\ttotal: 35.9s\tremaining: 37.7s\n",
      "488:\tlearn: 0.3416486\ttotal: 36s\tremaining: 37.6s\n",
      "489:\tlearn: 0.3416233\ttotal: 36.1s\tremaining: 37.6s\n",
      "490:\tlearn: 0.3415979\ttotal: 36.2s\tremaining: 37.5s\n",
      "491:\tlearn: 0.3415726\ttotal: 36.3s\tremaining: 37.4s\n",
      "492:\tlearn: 0.3415473\ttotal: 36.3s\tremaining: 37.4s\n",
      "493:\tlearn: 0.3415220\ttotal: 36.4s\tremaining: 37.3s\n",
      "494:\tlearn: 0.3414968\ttotal: 36.5s\tremaining: 37.2s\n",
      "495:\tlearn: 0.3414716\ttotal: 36.5s\tremaining: 37.1s\n",
      "496:\tlearn: 0.3414464\ttotal: 36.6s\tremaining: 37.1s\n",
      "497:\tlearn: 0.3414211\ttotal: 36.7s\tremaining: 37s\n",
      "498:\tlearn: 0.3413960\ttotal: 36.8s\tremaining: 36.9s\n",
      "499:\tlearn: 0.3413707\ttotal: 36.8s\tremaining: 36.8s\n",
      "500:\tlearn: 0.3413455\ttotal: 36.9s\tremaining: 36.7s\n",
      "501:\tlearn: 0.3413203\ttotal: 37s\tremaining: 36.7s\n",
      "502:\tlearn: 0.3412953\ttotal: 37.1s\tremaining: 36.6s\n",
      "503:\tlearn: 0.3412701\ttotal: 37.1s\tremaining: 36.5s\n",
      "504:\tlearn: 0.3412450\ttotal: 37.2s\tremaining: 36.5s\n",
      "505:\tlearn: 0.3412199\ttotal: 37.3s\tremaining: 36.4s\n",
      "506:\tlearn: 0.3411948\ttotal: 37.3s\tremaining: 36.3s\n",
      "507:\tlearn: 0.3411697\ttotal: 37.4s\tremaining: 36.2s\n",
      "508:\tlearn: 0.3411447\ttotal: 37.4s\tremaining: 36.1s\n",
      "509:\tlearn: 0.3411196\ttotal: 37.5s\tremaining: 36s\n",
      "510:\tlearn: 0.3410946\ttotal: 37.6s\tremaining: 36s\n",
      "511:\tlearn: 0.3410696\ttotal: 37.7s\tremaining: 35.9s\n",
      "512:\tlearn: 0.3410446\ttotal: 37.7s\tremaining: 35.8s\n",
      "513:\tlearn: 0.3410196\ttotal: 37.8s\tremaining: 35.7s\n",
      "514:\tlearn: 0.3409946\ttotal: 37.9s\tremaining: 35.7s\n",
      "515:\tlearn: 0.3409563\ttotal: 37.9s\tremaining: 35.6s\n",
      "516:\tlearn: 0.3409314\ttotal: 38s\tremaining: 35.5s\n",
      "517:\tlearn: 0.3409065\ttotal: 38s\tremaining: 35.4s\n",
      "518:\tlearn: 0.3408816\ttotal: 38.1s\tremaining: 35.3s\n",
      "519:\tlearn: 0.3408567\ttotal: 38.2s\tremaining: 35.2s\n",
      "520:\tlearn: 0.3408058\ttotal: 38.2s\tremaining: 35.1s\n",
      "521:\tlearn: 0.3407809\ttotal: 38.3s\tremaining: 35s\n",
      "522:\tlearn: 0.3407560\ttotal: 38.3s\tremaining: 35s\n",
      "523:\tlearn: 0.3407311\ttotal: 38.4s\tremaining: 34.9s\n",
      "524:\tlearn: 0.3407064\ttotal: 38.4s\tremaining: 34.8s\n",
      "525:\tlearn: 0.3406816\ttotal: 38.5s\tremaining: 34.7s\n",
      "526:\tlearn: 0.3406568\ttotal: 38.5s\tremaining: 34.6s\n",
      "527:\tlearn: 0.3406320\ttotal: 38.6s\tremaining: 34.5s\n",
      "528:\tlearn: 0.3406073\ttotal: 38.6s\tremaining: 34.4s\n",
      "529:\tlearn: 0.3405825\ttotal: 38.7s\tremaining: 34.3s\n",
      "530:\tlearn: 0.3403715\ttotal: 38.8s\tremaining: 34.2s\n",
      "531:\tlearn: 0.3403465\ttotal: 38.8s\tremaining: 34.2s\n",
      "532:\tlearn: 0.3403217\ttotal: 38.9s\tremaining: 34.1s\n",
      "533:\tlearn: 0.3402969\ttotal: 39s\tremaining: 34s\n",
      "534:\tlearn: 0.3402722\ttotal: 39s\tremaining: 33.9s\n",
      "535:\tlearn: 0.3402474\ttotal: 39.1s\tremaining: 33.8s\n",
      "536:\tlearn: 0.3402227\ttotal: 39.1s\tremaining: 33.7s\n",
      "537:\tlearn: 0.3401980\ttotal: 39.2s\tremaining: 33.7s\n",
      "538:\tlearn: 0.3401733\ttotal: 39.2s\tremaining: 33.6s\n",
      "539:\tlearn: 0.3401486\ttotal: 39.3s\tremaining: 33.5s\n",
      "540:\tlearn: 0.3401239\ttotal: 39.4s\tremaining: 33.4s\n",
      "541:\tlearn: 0.3400993\ttotal: 39.4s\tremaining: 33.3s\n",
      "542:\tlearn: 0.3400747\ttotal: 39.5s\tremaining: 33.2s\n",
      "543:\tlearn: 0.3400501\ttotal: 39.6s\tremaining: 33.2s\n",
      "544:\tlearn: 0.3400255\ttotal: 39.6s\tremaining: 33.1s\n",
      "545:\tlearn: 0.3400008\ttotal: 39.7s\tremaining: 33s\n",
      "546:\tlearn: 0.3399776\ttotal: 39.8s\tremaining: 32.9s\n",
      "547:\tlearn: 0.3399530\ttotal: 39.8s\tremaining: 32.9s\n",
      "548:\tlearn: 0.3399285\ttotal: 39.9s\tremaining: 32.8s\n",
      "549:\tlearn: 0.3399040\ttotal: 40s\tremaining: 32.7s\n",
      "550:\tlearn: 0.3398795\ttotal: 40s\tremaining: 32.6s\n",
      "551:\tlearn: 0.3398550\ttotal: 40.1s\tremaining: 32.5s\n",
      "552:\tlearn: 0.3398305\ttotal: 40.2s\tremaining: 32.5s\n",
      "553:\tlearn: 0.3398060\ttotal: 40.3s\tremaining: 32.4s\n",
      "554:\tlearn: 0.3397816\ttotal: 40.3s\tremaining: 32.3s\n",
      "555:\tlearn: 0.3397572\ttotal: 40.4s\tremaining: 32.3s\n",
      "556:\tlearn: 0.3397327\ttotal: 40.5s\tremaining: 32.2s\n",
      "557:\tlearn: 0.3397083\ttotal: 40.6s\tremaining: 32.2s\n",
      "558:\tlearn: 0.3396839\ttotal: 40.7s\tremaining: 32.1s\n",
      "559:\tlearn: 0.3396595\ttotal: 40.8s\tremaining: 32.1s\n",
      "560:\tlearn: 0.3396352\ttotal: 40.9s\tremaining: 32s\n",
      "561:\tlearn: 0.3396108\ttotal: 40.9s\tremaining: 31.9s\n",
      "562:\tlearn: 0.3395864\ttotal: 41s\tremaining: 31.8s\n",
      "563:\tlearn: 0.3395621\ttotal: 41.1s\tremaining: 31.8s\n",
      "564:\tlearn: 0.3395377\ttotal: 41.2s\tremaining: 31.7s\n",
      "565:\tlearn: 0.3395134\ttotal: 41.2s\tremaining: 31.6s\n",
      "566:\tlearn: 0.3394890\ttotal: 41.3s\tremaining: 31.6s\n",
      "567:\tlearn: 0.3394648\ttotal: 41.4s\tremaining: 31.5s\n",
      "568:\tlearn: 0.3394405\ttotal: 41.5s\tremaining: 31.4s\n",
      "569:\tlearn: 0.3394163\ttotal: 41.5s\tremaining: 31.3s\n",
      "570:\tlearn: 0.3393921\ttotal: 41.6s\tremaining: 31.3s\n",
      "571:\tlearn: 0.3393678\ttotal: 41.7s\tremaining: 31.2s\n",
      "572:\tlearn: 0.3393436\ttotal: 41.8s\tremaining: 31.2s\n",
      "573:\tlearn: 0.3393194\ttotal: 41.9s\tremaining: 31.1s\n",
      "574:\tlearn: 0.3392952\ttotal: 42s\tremaining: 31s\n",
      "575:\tlearn: 0.3392711\ttotal: 42.1s\tremaining: 31s\n",
      "576:\tlearn: 0.3392469\ttotal: 42.2s\tremaining: 30.9s\n",
      "577:\tlearn: 0.3392227\ttotal: 42.3s\tremaining: 30.9s\n",
      "578:\tlearn: 0.3391986\ttotal: 42.3s\tremaining: 30.8s\n",
      "579:\tlearn: 0.3391744\ttotal: 42.4s\tremaining: 30.7s\n",
      "580:\tlearn: 0.3391372\ttotal: 42.5s\tremaining: 30.7s\n",
      "581:\tlearn: 0.3391131\ttotal: 42.6s\tremaining: 30.6s\n",
      "582:\tlearn: 0.3390889\ttotal: 42.6s\tremaining: 30.5s\n",
      "583:\tlearn: 0.3390649\ttotal: 42.7s\tremaining: 30.4s\n",
      "584:\tlearn: 0.3390408\ttotal: 42.7s\tremaining: 30.3s\n",
      "585:\tlearn: 0.3390167\ttotal: 42.8s\tremaining: 30.2s\n",
      "586:\tlearn: 0.3389927\ttotal: 42.9s\tremaining: 30.2s\n",
      "587:\tlearn: 0.3389686\ttotal: 42.9s\tremaining: 30.1s\n",
      "588:\tlearn: 0.3389446\ttotal: 43s\tremaining: 30s\n",
      "589:\tlearn: 0.3389206\ttotal: 43.1s\tremaining: 29.9s\n",
      "590:\tlearn: 0.3388966\ttotal: 43.1s\tremaining: 29.9s\n",
      "591:\tlearn: 0.3388727\ttotal: 43.2s\tremaining: 29.8s\n",
      "592:\tlearn: 0.3388487\ttotal: 43.3s\tremaining: 29.7s\n",
      "593:\tlearn: 0.3386852\ttotal: 43.3s\tremaining: 29.6s\n",
      "594:\tlearn: 0.3386440\ttotal: 43.4s\tremaining: 29.5s\n",
      "595:\tlearn: 0.3386199\ttotal: 43.4s\tremaining: 29.5s\n",
      "596:\tlearn: 0.3385959\ttotal: 43.5s\tremaining: 29.4s\n",
      "597:\tlearn: 0.3385720\ttotal: 43.6s\tremaining: 29.3s\n",
      "598:\tlearn: 0.3385480\ttotal: 43.7s\tremaining: 29.2s\n",
      "599:\tlearn: 0.3385241\ttotal: 43.8s\tremaining: 29.2s\n",
      "600:\tlearn: 0.3385002\ttotal: 43.9s\tremaining: 29.1s\n",
      "601:\tlearn: 0.3384763\ttotal: 44s\tremaining: 29.1s\n",
      "602:\tlearn: 0.3384524\ttotal: 44.1s\tremaining: 29s\n",
      "603:\tlearn: 0.3384286\ttotal: 44.2s\tremaining: 29s\n",
      "604:\tlearn: 0.3384048\ttotal: 44.3s\tremaining: 28.9s\n",
      "605:\tlearn: 0.3383810\ttotal: 44.4s\tremaining: 28.9s\n",
      "606:\tlearn: 0.3383572\ttotal: 44.5s\tremaining: 28.8s\n",
      "607:\tlearn: 0.3383334\ttotal: 44.6s\tremaining: 28.7s\n",
      "608:\tlearn: 0.3383095\ttotal: 44.6s\tremaining: 28.7s\n",
      "609:\tlearn: 0.3382858\ttotal: 44.7s\tremaining: 28.6s\n",
      "610:\tlearn: 0.3382620\ttotal: 44.8s\tremaining: 28.5s\n",
      "611:\tlearn: 0.3382382\ttotal: 44.9s\tremaining: 28.5s\n",
      "612:\tlearn: 0.3382145\ttotal: 45s\tremaining: 28.4s\n",
      "613:\tlearn: 0.3381907\ttotal: 45.1s\tremaining: 28.4s\n",
      "614:\tlearn: 0.3381669\ttotal: 45.2s\tremaining: 28.3s\n",
      "615:\tlearn: 0.3381432\ttotal: 45.3s\tremaining: 28.3s\n",
      "616:\tlearn: 0.3381194\ttotal: 45.5s\tremaining: 28.2s\n",
      "617:\tlearn: 0.3380957\ttotal: 45.6s\tremaining: 28.2s\n",
      "618:\tlearn: 0.3380720\ttotal: 45.7s\tremaining: 28.1s\n",
      "619:\tlearn: 0.3380482\ttotal: 45.8s\tremaining: 28.1s\n",
      "620:\tlearn: 0.3380246\ttotal: 45.9s\tremaining: 28s\n",
      "621:\tlearn: 0.3380009\ttotal: 46s\tremaining: 27.9s\n",
      "622:\tlearn: 0.3379772\ttotal: 46.1s\tremaining: 27.9s\n",
      "623:\tlearn: 0.3379535\ttotal: 46.2s\tremaining: 27.8s\n",
      "624:\tlearn: 0.3379299\ttotal: 46.2s\tremaining: 27.7s\n",
      "625:\tlearn: 0.3379063\ttotal: 46.3s\tremaining: 27.7s\n",
      "626:\tlearn: 0.3378826\ttotal: 46.4s\tremaining: 27.6s\n",
      "627:\tlearn: 0.3378591\ttotal: 46.5s\tremaining: 27.5s\n",
      "628:\tlearn: 0.3378355\ttotal: 46.5s\tremaining: 27.4s\n",
      "629:\tlearn: 0.3378119\ttotal: 46.6s\tremaining: 27.4s\n",
      "630:\tlearn: 0.3377883\ttotal: 46.7s\tremaining: 27.3s\n",
      "631:\tlearn: 0.3377648\ttotal: 46.7s\tremaining: 27.2s\n",
      "632:\tlearn: 0.3377413\ttotal: 46.8s\tremaining: 27.1s\n",
      "633:\tlearn: 0.3377177\ttotal: 46.9s\tremaining: 27.1s\n",
      "634:\tlearn: 0.3376942\ttotal: 46.9s\tremaining: 27s\n",
      "635:\tlearn: 0.3376707\ttotal: 47.1s\tremaining: 26.9s\n",
      "636:\tlearn: 0.3376472\ttotal: 47.1s\tremaining: 26.9s\n",
      "637:\tlearn: 0.3376237\ttotal: 47.3s\tremaining: 26.8s\n",
      "638:\tlearn: 0.3376002\ttotal: 47.4s\tremaining: 26.8s\n",
      "639:\tlearn: 0.3375768\ttotal: 47.5s\tremaining: 26.7s\n",
      "640:\tlearn: 0.3375534\ttotal: 47.6s\tremaining: 26.7s\n",
      "641:\tlearn: 0.3375299\ttotal: 47.7s\tremaining: 26.6s\n",
      "642:\tlearn: 0.3375065\ttotal: 47.8s\tremaining: 26.5s\n",
      "643:\tlearn: 0.3374832\ttotal: 47.9s\tremaining: 26.5s\n",
      "644:\tlearn: 0.3374597\ttotal: 47.9s\tremaining: 26.4s\n",
      "645:\tlearn: 0.3374364\ttotal: 48s\tremaining: 26.3s\n",
      "646:\tlearn: 0.3374130\ttotal: 48.1s\tremaining: 26.2s\n",
      "647:\tlearn: 0.3373897\ttotal: 48.2s\tremaining: 26.2s\n",
      "648:\tlearn: 0.3373663\ttotal: 48.3s\tremaining: 26.1s\n",
      "649:\tlearn: 0.3373430\ttotal: 48.4s\tremaining: 26.1s\n",
      "650:\tlearn: 0.3373197\ttotal: 48.5s\tremaining: 26s\n",
      "651:\tlearn: 0.3372965\ttotal: 48.6s\tremaining: 25.9s\n",
      "652:\tlearn: 0.3372732\ttotal: 48.7s\tremaining: 25.9s\n",
      "653:\tlearn: 0.3372499\ttotal: 48.9s\tremaining: 25.9s\n",
      "654:\tlearn: 0.3372267\ttotal: 49.1s\tremaining: 25.9s\n",
      "655:\tlearn: 0.3372034\ttotal: 49.4s\tremaining: 25.9s\n",
      "656:\tlearn: 0.3371802\ttotal: 49.6s\tremaining: 25.9s\n",
      "657:\tlearn: 0.3371570\ttotal: 49.7s\tremaining: 25.8s\n",
      "658:\tlearn: 0.3371338\ttotal: 49.8s\tremaining: 25.8s\n",
      "659:\tlearn: 0.3371106\ttotal: 49.9s\tremaining: 25.7s\n",
      "660:\tlearn: 0.3370874\ttotal: 50.1s\tremaining: 25.7s\n",
      "661:\tlearn: 0.3370642\ttotal: 50.3s\tremaining: 25.7s\n",
      "662:\tlearn: 0.3370410\ttotal: 50.5s\tremaining: 25.7s\n",
      "663:\tlearn: 0.3370178\ttotal: 50.7s\tremaining: 25.6s\n",
      "664:\tlearn: 0.3369947\ttotal: 50.8s\tremaining: 25.6s\n",
      "665:\tlearn: 0.3369588\ttotal: 50.9s\tremaining: 25.5s\n",
      "666:\tlearn: 0.3369356\ttotal: 51s\tremaining: 25.5s\n",
      "667:\tlearn: 0.3369125\ttotal: 51.1s\tremaining: 25.4s\n",
      "668:\tlearn: 0.3368894\ttotal: 51.2s\tremaining: 25.4s\n",
      "669:\tlearn: 0.3368663\ttotal: 51.3s\tremaining: 25.3s\n",
      "670:\tlearn: 0.3367772\ttotal: 51.4s\tremaining: 25.2s\n",
      "671:\tlearn: 0.3367541\ttotal: 51.6s\tremaining: 25.2s\n",
      "672:\tlearn: 0.3367310\ttotal: 51.7s\tremaining: 25.1s\n",
      "673:\tlearn: 0.3367078\ttotal: 51.8s\tremaining: 25s\n",
      "674:\tlearn: 0.3366846\ttotal: 51.9s\tremaining: 25s\n",
      "675:\tlearn: 0.3366615\ttotal: 52s\tremaining: 24.9s\n",
      "676:\tlearn: 0.3366385\ttotal: 52.1s\tremaining: 24.9s\n",
      "677:\tlearn: 0.3366154\ttotal: 52.2s\tremaining: 24.8s\n",
      "678:\tlearn: 0.3365924\ttotal: 52.3s\tremaining: 24.7s\n",
      "679:\tlearn: 0.3365693\ttotal: 52.4s\tremaining: 24.7s\n",
      "680:\tlearn: 0.3365463\ttotal: 52.5s\tremaining: 24.6s\n",
      "681:\tlearn: 0.3365233\ttotal: 52.6s\tremaining: 24.5s\n",
      "682:\tlearn: 0.3365003\ttotal: 52.6s\tremaining: 24.4s\n",
      "683:\tlearn: 0.3364772\ttotal: 52.7s\tremaining: 24.4s\n",
      "684:\tlearn: 0.3364543\ttotal: 52.8s\tremaining: 24.3s\n",
      "685:\tlearn: 0.3364314\ttotal: 52.9s\tremaining: 24.2s\n",
      "686:\tlearn: 0.3364084\ttotal: 53s\tremaining: 24.2s\n",
      "687:\tlearn: 0.3363854\ttotal: 53.1s\tremaining: 24.1s\n",
      "688:\tlearn: 0.3363624\ttotal: 53.2s\tremaining: 24s\n",
      "689:\tlearn: 0.3363395\ttotal: 53.3s\tremaining: 23.9s\n",
      "690:\tlearn: 0.3362934\ttotal: 53.3s\tremaining: 23.8s\n",
      "691:\tlearn: 0.3362704\ttotal: 53.4s\tremaining: 23.8s\n",
      "692:\tlearn: 0.3362475\ttotal: 53.5s\tremaining: 23.7s\n",
      "693:\tlearn: 0.3362245\ttotal: 53.6s\tremaining: 23.6s\n",
      "694:\tlearn: 0.3362016\ttotal: 53.7s\tremaining: 23.6s\n",
      "695:\tlearn: 0.3361787\ttotal: 53.8s\tremaining: 23.5s\n",
      "696:\tlearn: 0.3361559\ttotal: 53.8s\tremaining: 23.4s\n",
      "697:\tlearn: 0.3361330\ttotal: 53.9s\tremaining: 23.3s\n",
      "698:\tlearn: 0.3361101\ttotal: 54s\tremaining: 23.2s\n",
      "699:\tlearn: 0.3360873\ttotal: 54.1s\tremaining: 23.2s\n",
      "700:\tlearn: 0.3360645\ttotal: 54.2s\tremaining: 23.1s\n",
      "701:\tlearn: 0.3360417\ttotal: 54.3s\tremaining: 23.1s\n",
      "702:\tlearn: 0.3360189\ttotal: 54.4s\tremaining: 23s\n",
      "703:\tlearn: 0.3359961\ttotal: 54.5s\tremaining: 22.9s\n",
      "704:\tlearn: 0.3359733\ttotal: 54.6s\tremaining: 22.8s\n",
      "705:\tlearn: 0.3359505\ttotal: 54.7s\tremaining: 22.8s\n",
      "706:\tlearn: 0.3359278\ttotal: 54.8s\tremaining: 22.7s\n",
      "707:\tlearn: 0.3359050\ttotal: 54.9s\tremaining: 22.6s\n",
      "708:\tlearn: 0.3358823\ttotal: 55s\tremaining: 22.6s\n",
      "709:\tlearn: 0.3358595\ttotal: 55s\tremaining: 22.5s\n",
      "710:\tlearn: 0.3358368\ttotal: 55.1s\tremaining: 22.4s\n",
      "711:\tlearn: 0.3358141\ttotal: 55.2s\tremaining: 22.3s\n",
      "712:\tlearn: 0.3357914\ttotal: 55.3s\tremaining: 22.3s\n",
      "713:\tlearn: 0.3357687\ttotal: 55.4s\tremaining: 22.2s\n",
      "714:\tlearn: 0.3357337\ttotal: 55.5s\tremaining: 22.1s\n",
      "715:\tlearn: 0.3357110\ttotal: 55.5s\tremaining: 22s\n",
      "716:\tlearn: 0.3356884\ttotal: 55.6s\tremaining: 21.9s\n",
      "717:\tlearn: 0.3356657\ttotal: 55.7s\tremaining: 21.9s\n",
      "718:\tlearn: 0.3356430\ttotal: 55.7s\tremaining: 21.8s\n",
      "719:\tlearn: 0.3356204\ttotal: 55.8s\tremaining: 21.7s\n",
      "720:\tlearn: 0.3355977\ttotal: 55.8s\tremaining: 21.6s\n",
      "721:\tlearn: 0.3355751\ttotal: 56s\tremaining: 21.5s\n",
      "722:\tlearn: 0.3355524\ttotal: 56.1s\tremaining: 21.5s\n",
      "723:\tlearn: 0.3355299\ttotal: 56.2s\tremaining: 21.4s\n",
      "724:\tlearn: 0.3355072\ttotal: 56.3s\tremaining: 21.4s\n",
      "725:\tlearn: 0.3354846\ttotal: 56.4s\tremaining: 21.3s\n",
      "726:\tlearn: 0.3354621\ttotal: 56.5s\tremaining: 21.2s\n",
      "727:\tlearn: 0.3354395\ttotal: 56.6s\tremaining: 21.2s\n",
      "728:\tlearn: 0.3354170\ttotal: 56.7s\tremaining: 21.1s\n",
      "729:\tlearn: 0.3353945\ttotal: 56.8s\tremaining: 21s\n",
      "730:\tlearn: 0.3353719\ttotal: 56.9s\tremaining: 20.9s\n",
      "731:\tlearn: 0.3353493\ttotal: 57s\tremaining: 20.9s\n",
      "732:\tlearn: 0.3353269\ttotal: 57.1s\tremaining: 20.8s\n",
      "733:\tlearn: 0.3353043\ttotal: 57.1s\tremaining: 20.7s\n",
      "734:\tlearn: 0.3352819\ttotal: 57.3s\tremaining: 20.6s\n",
      "735:\tlearn: 0.3352594\ttotal: 57.3s\tremaining: 20.6s\n",
      "736:\tlearn: 0.3352369\ttotal: 57.5s\tremaining: 20.5s\n",
      "737:\tlearn: 0.3352145\ttotal: 57.6s\tremaining: 20.4s\n",
      "738:\tlearn: 0.3351921\ttotal: 57.6s\tremaining: 20.4s\n",
      "739:\tlearn: 0.3351697\ttotal: 57.7s\tremaining: 20.3s\n",
      "740:\tlearn: 0.3351472\ttotal: 57.9s\tremaining: 20.2s\n",
      "741:\tlearn: 0.3351248\ttotal: 58s\tremaining: 20.2s\n",
      "742:\tlearn: 0.3351024\ttotal: 58.1s\tremaining: 20.1s\n",
      "743:\tlearn: 0.3350799\ttotal: 58.2s\tremaining: 20s\n",
      "744:\tlearn: 0.3350575\ttotal: 58.3s\tremaining: 20s\n",
      "745:\tlearn: 0.3350352\ttotal: 58.4s\tremaining: 19.9s\n",
      "746:\tlearn: 0.3350128\ttotal: 58.5s\tremaining: 19.8s\n",
      "747:\tlearn: 0.3349904\ttotal: 58.7s\tremaining: 19.8s\n",
      "748:\tlearn: 0.3349680\ttotal: 58.8s\tremaining: 19.7s\n",
      "749:\tlearn: 0.3349456\ttotal: 58.9s\tremaining: 19.6s\n",
      "750:\tlearn: 0.3349233\ttotal: 59.1s\tremaining: 19.6s\n",
      "751:\tlearn: 0.3349010\ttotal: 59.1s\tremaining: 19.5s\n",
      "752:\tlearn: 0.3347014\ttotal: 59.3s\tremaining: 19.4s\n",
      "753:\tlearn: 0.3346789\ttotal: 59.4s\tremaining: 19.4s\n",
      "754:\tlearn: 0.3346565\ttotal: 59.5s\tremaining: 19.3s\n",
      "755:\tlearn: 0.3346341\ttotal: 59.6s\tremaining: 19.3s\n",
      "756:\tlearn: 0.3346118\ttotal: 59.7s\tremaining: 19.2s\n",
      "757:\tlearn: 0.3345895\ttotal: 59.8s\tremaining: 19.1s\n",
      "758:\tlearn: 0.3345671\ttotal: 59.9s\tremaining: 19s\n",
      "759:\tlearn: 0.3345448\ttotal: 1m\tremaining: 18.9s\n",
      "760:\tlearn: 0.3345226\ttotal: 1m\tremaining: 18.9s\n",
      "761:\tlearn: 0.3345003\ttotal: 1m\tremaining: 18.9s\n",
      "762:\tlearn: 0.3344780\ttotal: 1m\tremaining: 18.9s\n",
      "763:\tlearn: 0.3344361\ttotal: 1m\tremaining: 18.8s\n",
      "764:\tlearn: 0.3344139\ttotal: 1m 1s\tremaining: 18.8s\n",
      "765:\tlearn: 0.3343916\ttotal: 1m 1s\tremaining: 18.7s\n",
      "766:\tlearn: 0.3343693\ttotal: 1m 1s\tremaining: 18.6s\n",
      "767:\tlearn: 0.3343471\ttotal: 1m 1s\tremaining: 18.5s\n",
      "768:\tlearn: 0.3343248\ttotal: 1m 1s\tremaining: 18.5s\n",
      "769:\tlearn: 0.3343026\ttotal: 1m 1s\tremaining: 18.4s\n",
      "770:\tlearn: 0.3342804\ttotal: 1m 1s\tremaining: 18.4s\n",
      "771:\tlearn: 0.3342581\ttotal: 1m 1s\tremaining: 18.3s\n",
      "772:\tlearn: 0.3342359\ttotal: 1m 2s\tremaining: 18.2s\n",
      "773:\tlearn: 0.3342138\ttotal: 1m 2s\tremaining: 18.2s\n",
      "774:\tlearn: 0.3341916\ttotal: 1m 2s\tremaining: 18.1s\n",
      "775:\tlearn: 0.3341694\ttotal: 1m 2s\tremaining: 18s\n",
      "776:\tlearn: 0.3341472\ttotal: 1m 2s\tremaining: 18s\n",
      "777:\tlearn: 0.3341251\ttotal: 1m 2s\tremaining: 17.9s\n",
      "778:\tlearn: 0.3341029\ttotal: 1m 2s\tremaining: 17.8s\n",
      "779:\tlearn: 0.3340808\ttotal: 1m 3s\tremaining: 17.8s\n",
      "780:\tlearn: 0.3340586\ttotal: 1m 3s\tremaining: 17.7s\n",
      "781:\tlearn: 0.3340365\ttotal: 1m 3s\tremaining: 17.6s\n",
      "782:\tlearn: 0.3340144\ttotal: 1m 3s\tremaining: 17.5s\n",
      "783:\tlearn: 0.3339923\ttotal: 1m 3s\tremaining: 17.4s\n",
      "784:\tlearn: 0.3339703\ttotal: 1m 3s\tremaining: 17.4s\n",
      "785:\tlearn: 0.3339482\ttotal: 1m 3s\tremaining: 17.3s\n",
      "786:\tlearn: 0.3339261\ttotal: 1m 3s\tremaining: 17.2s\n",
      "787:\tlearn: 0.3339048\ttotal: 1m 3s\tremaining: 17.1s\n",
      "788:\tlearn: 0.3338828\ttotal: 1m 3s\tremaining: 17.1s\n",
      "789:\tlearn: 0.3338608\ttotal: 1m 3s\tremaining: 17s\n",
      "790:\tlearn: 0.3338388\ttotal: 1m 4s\tremaining: 16.9s\n",
      "791:\tlearn: 0.3338168\ttotal: 1m 4s\tremaining: 16.9s\n",
      "792:\tlearn: 0.3337948\ttotal: 1m 4s\tremaining: 16.8s\n",
      "793:\tlearn: 0.3337727\ttotal: 1m 4s\tremaining: 16.7s\n",
      "794:\tlearn: 0.3337508\ttotal: 1m 4s\tremaining: 16.6s\n",
      "795:\tlearn: 0.3337288\ttotal: 1m 4s\tremaining: 16.6s\n",
      "796:\tlearn: 0.3337068\ttotal: 1m 4s\tremaining: 16.5s\n",
      "797:\tlearn: 0.3336848\ttotal: 1m 4s\tremaining: 16.4s\n",
      "798:\tlearn: 0.3336628\ttotal: 1m 4s\tremaining: 16.3s\n",
      "799:\tlearn: 0.3336409\ttotal: 1m 5s\tremaining: 16.3s\n",
      "800:\tlearn: 0.3336190\ttotal: 1m 5s\tremaining: 16.2s\n",
      "801:\tlearn: 0.3335971\ttotal: 1m 5s\tremaining: 16.1s\n",
      "802:\tlearn: 0.3335751\ttotal: 1m 5s\tremaining: 16.1s\n",
      "803:\tlearn: 0.3335532\ttotal: 1m 5s\tremaining: 16s\n",
      "804:\tlearn: 0.3335313\ttotal: 1m 5s\tremaining: 15.9s\n",
      "805:\tlearn: 0.3335094\ttotal: 1m 5s\tremaining: 15.8s\n",
      "806:\tlearn: 0.3334876\ttotal: 1m 5s\tremaining: 15.7s\n",
      "807:\tlearn: 0.3334657\ttotal: 1m 5s\tremaining: 15.6s\n",
      "808:\tlearn: 0.3334439\ttotal: 1m 5s\tremaining: 15.6s\n",
      "809:\tlearn: 0.3334220\ttotal: 1m 6s\tremaining: 15.5s\n",
      "810:\tlearn: 0.3334002\ttotal: 1m 6s\tremaining: 15.4s\n",
      "811:\tlearn: 0.3333784\ttotal: 1m 6s\tremaining: 15.4s\n",
      "812:\tlearn: 0.3333565\ttotal: 1m 6s\tremaining: 15.3s\n",
      "813:\tlearn: 0.3333347\ttotal: 1m 6s\tremaining: 15.3s\n",
      "814:\tlearn: 0.3333130\ttotal: 1m 6s\tremaining: 15.2s\n",
      "815:\tlearn: 0.3332912\ttotal: 1m 7s\tremaining: 15.1s\n",
      "816:\tlearn: 0.3332694\ttotal: 1m 7s\tremaining: 15s\n",
      "817:\tlearn: 0.3332476\ttotal: 1m 7s\tremaining: 15s\n",
      "818:\tlearn: 0.3332259\ttotal: 1m 7s\tremaining: 14.9s\n",
      "819:\tlearn: 0.3332041\ttotal: 1m 7s\tremaining: 14.8s\n",
      "820:\tlearn: 0.3331701\ttotal: 1m 7s\tremaining: 14.7s\n",
      "821:\tlearn: 0.3331483\ttotal: 1m 7s\tremaining: 14.6s\n",
      "822:\tlearn: 0.3330098\ttotal: 1m 7s\tremaining: 14.6s\n",
      "823:\tlearn: 0.3329880\ttotal: 1m 7s\tremaining: 14.5s\n",
      "824:\tlearn: 0.3329661\ttotal: 1m 7s\tremaining: 14.4s\n",
      "825:\tlearn: 0.3329444\ttotal: 1m 7s\tremaining: 14.3s\n",
      "826:\tlearn: 0.3329226\ttotal: 1m 8s\tremaining: 14.3s\n",
      "827:\tlearn: 0.3329009\ttotal: 1m 8s\tremaining: 14.2s\n",
      "828:\tlearn: 0.3328792\ttotal: 1m 8s\tremaining: 14.1s\n",
      "829:\tlearn: 0.3328575\ttotal: 1m 8s\tremaining: 14s\n",
      "830:\tlearn: 0.3328358\ttotal: 1m 8s\tremaining: 13.9s\n",
      "831:\tlearn: 0.3328141\ttotal: 1m 8s\tremaining: 13.8s\n",
      "832:\tlearn: 0.3327924\ttotal: 1m 8s\tremaining: 13.8s\n",
      "833:\tlearn: 0.3327707\ttotal: 1m 8s\tremaining: 13.7s\n",
      "834:\tlearn: 0.3327491\ttotal: 1m 8s\tremaining: 13.6s\n",
      "835:\tlearn: 0.3327093\ttotal: 1m 9s\tremaining: 13.6s\n",
      "836:\tlearn: 0.3326876\ttotal: 1m 9s\tremaining: 13.5s\n",
      "837:\tlearn: 0.3326660\ttotal: 1m 9s\tremaining: 13.4s\n",
      "838:\tlearn: 0.3326444\ttotal: 1m 9s\tremaining: 13.3s\n",
      "839:\tlearn: 0.3326228\ttotal: 1m 9s\tremaining: 13.3s\n",
      "840:\tlearn: 0.3326012\ttotal: 1m 9s\tremaining: 13.2s\n",
      "841:\tlearn: 0.3325796\ttotal: 1m 9s\tremaining: 13.1s\n",
      "842:\tlearn: 0.3325580\ttotal: 1m 10s\tremaining: 13s\n",
      "843:\tlearn: 0.3325364\ttotal: 1m 10s\tremaining: 13s\n",
      "844:\tlearn: 0.3325148\ttotal: 1m 10s\tremaining: 12.9s\n",
      "845:\tlearn: 0.3324933\ttotal: 1m 10s\tremaining: 12.8s\n",
      "846:\tlearn: 0.3324717\ttotal: 1m 10s\tremaining: 12.7s\n",
      "847:\tlearn: 0.3324502\ttotal: 1m 10s\tremaining: 12.7s\n",
      "848:\tlearn: 0.3324286\ttotal: 1m 10s\tremaining: 12.6s\n",
      "849:\tlearn: 0.3324071\ttotal: 1m 11s\tremaining: 12.5s\n",
      "850:\tlearn: 0.3323856\ttotal: 1m 11s\tremaining: 12.5s\n",
      "851:\tlearn: 0.3323641\ttotal: 1m 11s\tremaining: 12.4s\n",
      "852:\tlearn: 0.3323426\ttotal: 1m 11s\tremaining: 12.3s\n",
      "853:\tlearn: 0.3323211\ttotal: 1m 11s\tremaining: 12.2s\n",
      "854:\tlearn: 0.3322996\ttotal: 1m 11s\tremaining: 12.2s\n",
      "855:\tlearn: 0.3322782\ttotal: 1m 11s\tremaining: 12.1s\n",
      "856:\tlearn: 0.3322567\ttotal: 1m 11s\tremaining: 12s\n",
      "857:\tlearn: 0.3322353\ttotal: 1m 12s\tremaining: 11.9s\n",
      "858:\tlearn: 0.3322138\ttotal: 1m 12s\tremaining: 11.8s\n",
      "859:\tlearn: 0.3321923\ttotal: 1m 12s\tremaining: 11.8s\n",
      "860:\tlearn: 0.3321708\ttotal: 1m 12s\tremaining: 11.7s\n",
      "861:\tlearn: 0.3321493\ttotal: 1m 12s\tremaining: 11.6s\n",
      "862:\tlearn: 0.3321279\ttotal: 1m 12s\tremaining: 11.5s\n",
      "863:\tlearn: 0.3321064\ttotal: 1m 12s\tremaining: 11.4s\n",
      "864:\tlearn: 0.3320850\ttotal: 1m 12s\tremaining: 11.3s\n",
      "865:\tlearn: 0.3320636\ttotal: 1m 12s\tremaining: 11.3s\n",
      "866:\tlearn: 0.3320421\ttotal: 1m 12s\tremaining: 11.2s\n",
      "867:\tlearn: 0.3320208\ttotal: 1m 13s\tremaining: 11.1s\n",
      "868:\tlearn: 0.3319994\ttotal: 1m 13s\tremaining: 11s\n",
      "869:\tlearn: 0.3319780\ttotal: 1m 13s\tremaining: 11s\n",
      "870:\tlearn: 0.3319566\ttotal: 1m 13s\tremaining: 10.9s\n",
      "871:\tlearn: 0.3319352\ttotal: 1m 13s\tremaining: 10.8s\n",
      "872:\tlearn: 0.3319139\ttotal: 1m 13s\tremaining: 10.7s\n",
      "873:\tlearn: 0.3318926\ttotal: 1m 13s\tremaining: 10.6s\n",
      "874:\tlearn: 0.3318712\ttotal: 1m 13s\tremaining: 10.6s\n",
      "875:\tlearn: 0.3318499\ttotal: 1m 13s\tremaining: 10.5s\n",
      "876:\tlearn: 0.3318168\ttotal: 1m 14s\tremaining: 10.4s\n",
      "877:\tlearn: 0.3314395\ttotal: 1m 14s\tremaining: 10.3s\n",
      "878:\tlearn: 0.3314180\ttotal: 1m 14s\tremaining: 10.2s\n",
      "879:\tlearn: 0.3313966\ttotal: 1m 14s\tremaining: 10.1s\n",
      "880:\tlearn: 0.3313753\ttotal: 1m 14s\tremaining: 10.1s\n",
      "881:\tlearn: 0.3313539\ttotal: 1m 14s\tremaining: 9.98s\n",
      "882:\tlearn: 0.3313325\ttotal: 1m 14s\tremaining: 9.9s\n",
      "883:\tlearn: 0.3313112\ttotal: 1m 14s\tremaining: 9.82s\n",
      "884:\tlearn: 0.3312898\ttotal: 1m 14s\tremaining: 9.74s\n",
      "885:\tlearn: 0.3312685\ttotal: 1m 15s\tremaining: 9.67s\n",
      "886:\tlearn: 0.3312472\ttotal: 1m 15s\tremaining: 9.58s\n",
      "887:\tlearn: 0.3312259\ttotal: 1m 15s\tremaining: 9.5s\n",
      "888:\tlearn: 0.3312046\ttotal: 1m 15s\tremaining: 9.43s\n",
      "889:\tlearn: 0.3311834\ttotal: 1m 15s\tremaining: 9.35s\n",
      "890:\tlearn: 0.3311621\ttotal: 1m 15s\tremaining: 9.27s\n",
      "891:\tlearn: 0.3311409\ttotal: 1m 15s\tremaining: 9.2s\n",
      "892:\tlearn: 0.3311196\ttotal: 1m 16s\tremaining: 9.12s\n",
      "893:\tlearn: 0.3310984\ttotal: 1m 16s\tremaining: 9.04s\n",
      "894:\tlearn: 0.3310772\ttotal: 1m 16s\tremaining: 8.96s\n",
      "895:\tlearn: 0.3310560\ttotal: 1m 16s\tremaining: 8.88s\n",
      "896:\tlearn: 0.3310348\ttotal: 1m 16s\tremaining: 8.79s\n",
      "897:\tlearn: 0.3310136\ttotal: 1m 16s\tremaining: 8.7s\n",
      "898:\tlearn: 0.3309924\ttotal: 1m 16s\tremaining: 8.62s\n",
      "899:\tlearn: 0.3309712\ttotal: 1m 16s\tremaining: 8.53s\n",
      "900:\tlearn: 0.3309501\ttotal: 1m 16s\tremaining: 8.45s\n",
      "901:\tlearn: 0.3309289\ttotal: 1m 16s\tremaining: 8.36s\n",
      "902:\tlearn: 0.3309078\ttotal: 1m 17s\tremaining: 8.28s\n",
      "903:\tlearn: 0.3308866\ttotal: 1m 17s\tremaining: 8.19s\n",
      "904:\tlearn: 0.3308655\ttotal: 1m 17s\tremaining: 8.1s\n",
      "905:\tlearn: 0.3308444\ttotal: 1m 17s\tremaining: 8.01s\n",
      "906:\tlearn: 0.3308232\ttotal: 1m 17s\tremaining: 7.93s\n",
      "907:\tlearn: 0.3308021\ttotal: 1m 17s\tremaining: 7.84s\n",
      "908:\tlearn: 0.3307810\ttotal: 1m 17s\tremaining: 7.75s\n",
      "909:\tlearn: 0.3307599\ttotal: 1m 17s\tremaining: 7.67s\n",
      "910:\tlearn: 0.3307388\ttotal: 1m 17s\tremaining: 7.58s\n",
      "911:\tlearn: 0.3307178\ttotal: 1m 17s\tremaining: 7.49s\n",
      "912:\tlearn: 0.3306967\ttotal: 1m 17s\tremaining: 7.4s\n",
      "913:\tlearn: 0.3306756\ttotal: 1m 17s\tremaining: 7.32s\n",
      "914:\tlearn: 0.3306431\ttotal: 1m 17s\tremaining: 7.23s\n",
      "915:\tlearn: 0.3306220\ttotal: 1m 17s\tremaining: 7.14s\n",
      "916:\tlearn: 0.3306009\ttotal: 1m 17s\tremaining: 7.05s\n",
      "917:\tlearn: 0.3305799\ttotal: 1m 18s\tremaining: 6.97s\n",
      "918:\tlearn: 0.3305588\ttotal: 1m 18s\tremaining: 6.88s\n",
      "919:\tlearn: 0.3304769\ttotal: 1m 18s\tremaining: 6.8s\n",
      "920:\tlearn: 0.3304558\ttotal: 1m 18s\tremaining: 6.72s\n",
      "921:\tlearn: 0.3304347\ttotal: 1m 18s\tremaining: 6.63s\n",
      "922:\tlearn: 0.3304137\ttotal: 1m 18s\tremaining: 6.55s\n",
      "923:\tlearn: 0.3303927\ttotal: 1m 18s\tremaining: 6.46s\n",
      "924:\tlearn: 0.3303717\ttotal: 1m 18s\tremaining: 6.38s\n",
      "925:\tlearn: 0.3303507\ttotal: 1m 18s\tremaining: 6.29s\n",
      "926:\tlearn: 0.3303297\ttotal: 1m 18s\tremaining: 6.21s\n",
      "927:\tlearn: 0.3303087\ttotal: 1m 18s\tremaining: 6.12s\n",
      "928:\tlearn: 0.3302876\ttotal: 1m 19s\tremaining: 6.04s\n",
      "929:\tlearn: 0.3302666\ttotal: 1m 19s\tremaining: 5.95s\n",
      "930:\tlearn: 0.3302457\ttotal: 1m 19s\tremaining: 5.87s\n",
      "931:\tlearn: 0.3302247\ttotal: 1m 19s\tremaining: 5.78s\n",
      "932:\tlearn: 0.3302037\ttotal: 1m 19s\tremaining: 5.7s\n",
      "933:\tlearn: 0.3301827\ttotal: 1m 19s\tremaining: 5.61s\n",
      "934:\tlearn: 0.3301617\ttotal: 1m 19s\tremaining: 5.53s\n",
      "935:\tlearn: 0.3301408\ttotal: 1m 19s\tremaining: 5.44s\n",
      "936:\tlearn: 0.3301199\ttotal: 1m 19s\tremaining: 5.35s\n",
      "937:\tlearn: 0.3300989\ttotal: 1m 19s\tremaining: 5.27s\n",
      "938:\tlearn: 0.3300780\ttotal: 1m 19s\tremaining: 5.18s\n",
      "939:\tlearn: 0.3300572\ttotal: 1m 19s\tremaining: 5.1s\n",
      "940:\tlearn: 0.3300362\ttotal: 1m 19s\tremaining: 5.01s\n",
      "941:\tlearn: 0.3300154\ttotal: 1m 20s\tremaining: 4.93s\n",
      "942:\tlearn: 0.3299945\ttotal: 1m 20s\tremaining: 4.84s\n",
      "943:\tlearn: 0.3299736\ttotal: 1m 20s\tremaining: 4.76s\n",
      "944:\tlearn: 0.3299528\ttotal: 1m 20s\tremaining: 4.67s\n",
      "945:\tlearn: 0.3299319\ttotal: 1m 20s\tremaining: 4.59s\n",
      "946:\tlearn: 0.3299111\ttotal: 1m 20s\tremaining: 4.51s\n",
      "947:\tlearn: 0.3298902\ttotal: 1m 20s\tremaining: 4.42s\n",
      "948:\tlearn: 0.3298694\ttotal: 1m 20s\tremaining: 4.34s\n",
      "949:\tlearn: 0.3298486\ttotal: 1m 20s\tremaining: 4.26s\n",
      "950:\tlearn: 0.3298139\ttotal: 1m 20s\tremaining: 4.17s\n",
      "951:\tlearn: 0.3297931\ttotal: 1m 21s\tremaining: 4.09s\n",
      "952:\tlearn: 0.3297723\ttotal: 1m 21s\tremaining: 4s\n",
      "953:\tlearn: 0.3297515\ttotal: 1m 21s\tremaining: 3.92s\n",
      "954:\tlearn: 0.3297307\ttotal: 1m 21s\tremaining: 3.84s\n",
      "955:\tlearn: 0.3297100\ttotal: 1m 21s\tremaining: 3.76s\n",
      "956:\tlearn: 0.3296892\ttotal: 1m 21s\tremaining: 3.68s\n",
      "957:\tlearn: 0.3296684\ttotal: 1m 21s\tremaining: 3.59s\n",
      "958:\tlearn: 0.3296477\ttotal: 1m 22s\tremaining: 3.51s\n",
      "959:\tlearn: 0.3296269\ttotal: 1m 22s\tremaining: 3.43s\n",
      "960:\tlearn: 0.3296061\ttotal: 1m 22s\tremaining: 3.34s\n",
      "961:\tlearn: 0.3295854\ttotal: 1m 22s\tremaining: 3.26s\n",
      "962:\tlearn: 0.3295647\ttotal: 1m 22s\tremaining: 3.18s\n",
      "963:\tlearn: 0.3295440\ttotal: 1m 22s\tremaining: 3.09s\n",
      "964:\tlearn: 0.3295232\ttotal: 1m 22s\tremaining: 3.01s\n",
      "965:\tlearn: 0.3295025\ttotal: 1m 23s\tremaining: 2.92s\n",
      "966:\tlearn: 0.3294818\ttotal: 1m 23s\tremaining: 2.84s\n",
      "967:\tlearn: 0.3294611\ttotal: 1m 23s\tremaining: 2.75s\n",
      "968:\tlearn: 0.3294404\ttotal: 1m 23s\tremaining: 2.67s\n",
      "969:\tlearn: 0.3294197\ttotal: 1m 23s\tremaining: 2.58s\n",
      "970:\tlearn: 0.3293990\ttotal: 1m 23s\tremaining: 2.5s\n",
      "971:\tlearn: 0.3293783\ttotal: 1m 23s\tremaining: 2.41s\n",
      "972:\tlearn: 0.3293577\ttotal: 1m 23s\tremaining: 2.33s\n",
      "973:\tlearn: 0.3293370\ttotal: 1m 23s\tremaining: 2.24s\n",
      "974:\tlearn: 0.3293164\ttotal: 1m 24s\tremaining: 2.15s\n",
      "975:\tlearn: 0.3292957\ttotal: 1m 24s\tremaining: 2.07s\n",
      "976:\tlearn: 0.3292751\ttotal: 1m 24s\tremaining: 1.98s\n",
      "977:\tlearn: 0.3292545\ttotal: 1m 24s\tremaining: 1.9s\n",
      "978:\tlearn: 0.3292339\ttotal: 1m 24s\tremaining: 1.81s\n",
      "979:\tlearn: 0.3292132\ttotal: 1m 24s\tremaining: 1.73s\n",
      "980:\tlearn: 0.3291926\ttotal: 1m 24s\tremaining: 1.64s\n",
      "981:\tlearn: 0.3291720\ttotal: 1m 24s\tremaining: 1.55s\n",
      "982:\tlearn: 0.3291514\ttotal: 1m 24s\tremaining: 1.47s\n",
      "983:\tlearn: 0.3291308\ttotal: 1m 24s\tremaining: 1.38s\n",
      "984:\tlearn: 0.3291102\ttotal: 1m 25s\tremaining: 1.29s\n",
      "985:\tlearn: 0.3290897\ttotal: 1m 25s\tremaining: 1.21s\n",
      "986:\tlearn: 0.3290691\ttotal: 1m 25s\tremaining: 1.12s\n",
      "987:\tlearn: 0.3290486\ttotal: 1m 25s\tremaining: 1.04s\n",
      "988:\tlearn: 0.3290280\ttotal: 1m 25s\tremaining: 950ms\n",
      "989:\tlearn: 0.3290074\ttotal: 1m 25s\tremaining: 864ms\n",
      "990:\tlearn: 0.3289868\ttotal: 1m 25s\tremaining: 777ms\n",
      "991:\tlearn: 0.3289663\ttotal: 1m 25s\tremaining: 691ms\n",
      "992:\tlearn: 0.3289457\ttotal: 1m 25s\tremaining: 605ms\n",
      "993:\tlearn: 0.3286251\ttotal: 1m 25s\tremaining: 518ms\n",
      "994:\tlearn: 0.3286044\ttotal: 1m 26s\tremaining: 432ms\n",
      "995:\tlearn: 0.3285837\ttotal: 1m 26s\tremaining: 346ms\n",
      "996:\tlearn: 0.3285631\ttotal: 1m 26s\tremaining: 259ms\n",
      "997:\tlearn: 0.3285424\ttotal: 1m 26s\tremaining: 173ms\n",
      "998:\tlearn: 0.3285219\ttotal: 1m 26s\tremaining: 86.4ms\n",
      "999:\tlearn: 0.3285013\ttotal: 1m 26s\tremaining: 0us\n"
     ]
    },
    {
     "data": {
      "text/plain": [
       "<catboost.core.CatBoostRegressor at 0x1e55af5f580>"
      ]
     },
     "execution_count": 82,
     "metadata": {},
     "output_type": "execute_result"
    }
   ],
   "source": [
    "import catboost as ctb\n",
    "# define model\n",
    "cat = ctb.CatBoostRegressor()\n",
    "cat.fit(X_train, y_train)\n"
   ]
  },
  {
   "cell_type": "code",
   "execution_count": 83,
   "metadata": {},
   "outputs": [],
   "source": [
    "y_hat_train3 = cat.predict(X_train)\n",
    "y_hat_test3 = cat.predict(X_test)"
   ]
  },
  {
   "cell_type": "code",
   "execution_count": 84,
   "metadata": {},
   "outputs": [
    {
     "name": "stdout",
     "output_type": "stream",
     "text": [
      "0.329837    5\n",
      "0.159935    5\n",
      "0.078404    5\n",
      "0.009646    4\n",
      "0.338953    4\n",
      "           ..\n",
      "0.112720    1\n",
      "0.597691    1\n",
      "0.165406    1\n",
      "0.016955    1\n",
      "0.077965    1\n",
      "Length: 5078, dtype: int64\n",
      "----------------------------------\n",
      "0.329837    0.000947\n",
      "0.159935    0.000947\n",
      "0.078404    0.000947\n",
      "0.009646    0.000757\n",
      "0.338953    0.000757\n",
      "              ...   \n",
      "0.112720    0.000189\n",
      "0.597691    0.000189\n",
      "0.165406    0.000189\n",
      "0.016955    0.000189\n",
      "0.077965    0.000189\n",
      "Length: 5078, dtype: float64\n"
     ]
    }
   ],
   "source": [
    "# Find residual differences between train data and predicted train data\n",
    "residuals = np.abs(y_train - y_hat_train3)\n",
    "# Print value counts of our predicted values \n",
    "print(pd.Series(residuals).value_counts())\n",
    "print('----------------------------------')\n",
    "# Print normalized value counts of our predicted values\n",
    "print(pd.Series(residuals).value_counts(normalize = True))"
   ]
  },
  {
   "cell_type": "markdown",
   "metadata": {},
   "source": [
    "## Random Forest"
   ]
  },
  {
   "cell_type": "code",
   "execution_count": 85,
   "metadata": {},
   "outputs": [
    {
     "data": {
      "text/plain": [
       "RandomForestRegressor()"
      ]
     },
     "execution_count": 85,
     "metadata": {},
     "output_type": "execute_result"
    }
   ],
   "source": [
    "regr = RandomForestRegressor()\n",
    "regr.fit(X_train, y_train)"
   ]
  },
  {
   "cell_type": "code",
   "execution_count": 86,
   "metadata": {},
   "outputs": [],
   "source": [
    "y_hat_train4 = regr.predict(X_train)\n",
    "y_hat_test4 = regr.predict(X_test)"
   ]
  },
  {
   "cell_type": "code",
   "execution_count": 87,
   "metadata": {},
   "outputs": [
    {
     "name": "stdout",
     "output_type": "stream",
     "text": [
      "0.00    2620\n",
      "0.01     239\n",
      "0.02     148\n",
      "0.03      97\n",
      "0.04      68\n",
      "        ... \n",
      "0.44       2\n",
      "0.51       1\n",
      "0.45       1\n",
      "0.46       1\n",
      "0.43       1\n",
      "Length: 82, dtype: int64\n",
      "----------------------------------\n",
      "0.00    0.496024\n",
      "0.01    0.045248\n",
      "0.02    0.028020\n",
      "0.03    0.018364\n",
      "0.04    0.012874\n",
      "          ...   \n",
      "0.44    0.000379\n",
      "0.51    0.000189\n",
      "0.45    0.000189\n",
      "0.46    0.000189\n",
      "0.43    0.000189\n",
      "Length: 82, dtype: float64\n"
     ]
    }
   ],
   "source": [
    "# Find residual differences between train data and predicted train data\n",
    "residuals = np.abs(y_train - y_hat_train4)\n",
    "# Print value counts of our predicted values \n",
    "print(pd.Series(residuals).value_counts())\n",
    "print('----------------------------------')\n",
    "# Print normalized value counts of our predicted values\n",
    "print(pd.Series(residuals).value_counts(normalize = True))"
   ]
  },
  {
   "cell_type": "markdown",
   "metadata": {},
   "source": [
    "## ExtraTreesRegressor"
   ]
  },
  {
   "cell_type": "code",
   "execution_count": 88,
   "metadata": {},
   "outputs": [
    {
     "data": {
      "text/plain": [
       "ExtraTreesRegressor()"
      ]
     },
     "execution_count": 88,
     "metadata": {},
     "output_type": "execute_result"
    }
   ],
   "source": [
    "from sklearn.ensemble import ExtraTreesRegressor\n",
    "# define model\n",
    "etr = ExtraTreesRegressor()\n",
    "etr.fit(X_train, y_train)"
   ]
  },
  {
   "cell_type": "code",
   "execution_count": 89,
   "metadata": {},
   "outputs": [],
   "source": [
    "y_hat_train5 = etr.predict(X_train)\n",
    "y_hat_test5 = etr.predict(X_test)"
   ]
  },
  {
   "cell_type": "code",
   "execution_count": 90,
   "metadata": {},
   "outputs": [
    {
     "name": "stdout",
     "output_type": "stream",
     "text": [
      "0.0    5282\n",
      "dtype: int64\n",
      "----------------------------------\n",
      "0.0    1.0\n",
      "dtype: float64\n"
     ]
    }
   ],
   "source": [
    "# Find residual differences between train data and predicted train data\n",
    "residuals = np.abs(y_train - y_hat_train5)\n",
    "# Print value counts of our predicted values \n",
    "print(pd.Series(residuals).value_counts())\n",
    "print('----------------------------------')\n",
    "# Print normalized value counts of our predicted values\n",
    "print(pd.Series(residuals).value_counts(normalize = True))"
   ]
  },
  {
   "cell_type": "code",
   "execution_count": null,
   "metadata": {},
   "outputs": [],
   "source": []
  }
 ],
 "metadata": {
  "kernelspec": {
   "display_name": "base",
   "language": "python",
   "name": "python3"
  },
  "language_info": {
   "codemirror_mode": {
    "name": "ipython",
    "version": 3
   },
   "file_extension": ".py",
   "mimetype": "text/x-python",
   "name": "python",
   "nbconvert_exporter": "python",
   "pygments_lexer": "ipython3",
   "version": "3.9.7"
  },
  "orig_nbformat": 4,
  "vscode": {
   "interpreter": {
    "hash": "b4c22eedc7e07d940e8edbba1ffd04dc5b0771555ee9198bab9aa2428ccbc6d7"
   }
  }
 },
 "nbformat": 4,
 "nbformat_minor": 2
}
